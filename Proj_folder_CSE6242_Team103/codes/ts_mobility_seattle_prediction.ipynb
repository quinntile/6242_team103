{
 "cells": [
  {
   "cell_type": "code",
   "metadata": {
    "tags": [],
    "cell_id": "228f9a78-a078-4a70-94f3-e16d5fb74af0",
    "deepnote_to_be_reexecuted": false,
    "source_hash": "151fcd65",
    "execution_start": 1649897118513,
    "execution_millis": 1,
    "deepnote_cell_type": "code",
    "deepnote_cell_height": 81
   },
   "source": "#!pip install ipywidgets==7.7.0",
   "execution_count": 1,
   "outputs": []
  },
  {
   "cell_type": "code",
   "metadata": {
    "cell_id": "935bcf5063f3431c85c7b9a42c1a7a0d",
    "tags": [],
    "deepnote_to_be_reexecuted": false,
    "source_hash": "78448704",
    "execution_start": 1649897118514,
    "execution_millis": 0,
    "deepnote_cell_type": "code",
    "deepnote_cell_height": 81
   },
   "source": "#!pip install pycaret==2.3.10",
   "execution_count": 2,
   "outputs": []
  },
  {
   "cell_type": "code",
   "metadata": {
    "cell_id": "3cd1519382f948819a30d4bff6fbfd53",
    "tags": [],
    "deepnote_to_be_reexecuted": false,
    "source_hash": "6baced49",
    "execution_start": 1649897118515,
    "execution_millis": 0,
    "deepnote_cell_type": "code",
    "deepnote_cell_height": 81
   },
   "source": "#!pip install pycaret-ts-alpha",
   "execution_count": 3,
   "outputs": []
  },
  {
   "cell_type": "code",
   "metadata": {
    "cell_id": "b95c0fb26a82449aaed07c572b8e99d7",
    "tags": [],
    "deepnote_to_be_reexecuted": false,
    "source_hash": "469c8c79",
    "execution_start": 1649897118517,
    "execution_millis": 3601,
    "owner_user_id": "c615708d-5eaa-4c61-b12c-0173be8ddd8f",
    "deepnote_cell_type": "code",
    "deepnote_cell_height": 81
   },
   "source": "from pycaret.time_series import *",
   "execution_count": 4,
   "outputs": []
  },
  {
   "cell_type": "code",
   "metadata": {
    "cell_id": "88475d47e49f43bd955f226ce0cf2846",
    "tags": [],
    "deepnote_to_be_reexecuted": false,
    "source_hash": "3f5bb031",
    "execution_start": 1649897122132,
    "execution_millis": 9,
    "deepnote_cell_type": "code",
    "deepnote_cell_height": 99
   },
   "source": "import pandas as pd\ndf1 = pd.read_csv(\"../data/mobility/mobility_abroad_king_clean.csv\")",
   "execution_count": 5,
   "outputs": []
  },
  {
   "cell_type": "code",
   "metadata": {
    "cell_id": "ce1aadf9c70d4ae08511d25f66f5fb66",
    "tags": [],
    "deepnote_to_be_reexecuted": false,
    "source_hash": "3b95aa67",
    "execution_start": 1649897122213,
    "execution_millis": 606,
    "deepnote_table_state": {
     "pageSize": 10,
     "pageIndex": 0,
     "filters": [],
     "sortBy": []
    },
    "deepnote_table_loading": false,
    "deepnote_cell_type": "code",
    "deepnote_cell_height": 672
   },
   "source": "df1 = pd.melt(df1,id_vars=['Zip Code'])\ndf1.rename(columns={'Zip Code':'zipcode','variable':'year','value':'mobility'},inplace=True)\ndf1['year'] = df1['year'].astype(int)\ndf1['mobility'] = df1['mobility'].str[:-1].astype(float)/100\ndf1",
   "execution_count": 6,
   "outputs": [
    {
     "output_type": "execute_result",
     "execution_count": 6,
     "data": {
      "application/vnd.deepnote.dataframe.v3+json": {
       "column_count": 3,
       "row_count": 890,
       "columns": [
        {
         "name": "zipcode",
         "dtype": "int64",
         "stats": {
          "unique_count": 89,
          "nan_count": 0,
          "min": "98001",
          "max": "98391",
          "histogram": [
           {
            "bin_start": 98001,
            "bin_end": 98040,
            "count": 260
           },
           {
            "bin_start": 98040,
            "bin_end": 98079,
            "count": 210
           },
           {
            "bin_start": 98079,
            "bin_end": 98118,
            "count": 140
           },
           {
            "bin_start": 98118,
            "bin_end": 98157,
            "count": 130
           },
           {
            "bin_start": 98157,
            "bin_end": 98196,
            "count": 70
           },
           {
            "bin_start": 98196,
            "bin_end": 98235,
            "count": 30
           },
           {
            "bin_start": 98235,
            "bin_end": 98274,
            "count": 0
           },
           {
            "bin_start": 98274,
            "bin_end": 98313,
            "count": 10
           },
           {
            "bin_start": 98313,
            "bin_end": 98352,
            "count": 20
           },
           {
            "bin_start": 98352,
            "bin_end": 98391,
            "count": 20
           }
          ]
         }
        },
        {
         "name": "year",
         "dtype": "int64",
         "stats": {
          "unique_count": 10,
          "nan_count": 0,
          "min": "2011",
          "max": "2020",
          "histogram": [
           {
            "bin_start": 2011,
            "bin_end": 2011.9,
            "count": 89
           },
           {
            "bin_start": 2011.9,
            "bin_end": 2012.8,
            "count": 89
           },
           {
            "bin_start": 2012.8,
            "bin_end": 2013.7,
            "count": 89
           },
           {
            "bin_start": 2013.7,
            "bin_end": 2014.6,
            "count": 89
           },
           {
            "bin_start": 2014.6,
            "bin_end": 2015.5,
            "count": 89
           },
           {
            "bin_start": 2015.5,
            "bin_end": 2016.4,
            "count": 89
           },
           {
            "bin_start": 2016.4,
            "bin_end": 2017.3,
            "count": 89
           },
           {
            "bin_start": 2017.3,
            "bin_end": 2018.2,
            "count": 89
           },
           {
            "bin_start": 2018.2,
            "bin_end": 2019.1,
            "count": 89
           },
           {
            "bin_start": 2019.1,
            "bin_end": 2020,
            "count": 89
           }
          ]
         }
        },
        {
         "name": "mobility",
         "dtype": "float64",
         "stats": {
          "unique_count": 59,
          "nan_count": 0,
          "min": "0.0",
          "max": "0.079",
          "histogram": [
           {
            "bin_start": 0,
            "bin_end": 0.0079,
            "count": 420
           },
           {
            "bin_start": 0.0079,
            "bin_end": 0.0158,
            "count": 257
           },
           {
            "bin_start": 0.0158,
            "bin_end": 0.023700000000000002,
            "count": 110
           },
           {
            "bin_start": 0.023700000000000002,
            "bin_end": 0.0316,
            "count": 44
           },
           {
            "bin_start": 0.0316,
            "bin_end": 0.03950000000000001,
            "count": 24
           },
           {
            "bin_start": 0.03950000000000001,
            "bin_end": 0.047400000000000005,
            "count": 16
           },
           {
            "bin_start": 0.047400000000000005,
            "bin_end": 0.0553,
            "count": 12
           },
           {
            "bin_start": 0.0553,
            "bin_end": 0.0632,
            "count": 1
           },
           {
            "bin_start": 0.0632,
            "bin_end": 0.07110000000000001,
            "count": 3
           },
           {
            "bin_start": 0.07110000000000001,
            "bin_end": 0.079,
            "count": 3
           }
          ]
         }
        },
        {
         "name": "_deepnote_index_column",
         "dtype": "int64"
        }
       ],
       "rows": [
        {
         "zipcode": 98001,
         "year": 2011,
         "mobility": 0.004,
         "_deepnote_index_column": 0
        },
        {
         "zipcode": 98002,
         "year": 2011,
         "mobility": 0.016,
         "_deepnote_index_column": 1
        },
        {
         "zipcode": 98003,
         "year": 2011,
         "mobility": 0.006,
         "_deepnote_index_column": 2
        },
        {
         "zipcode": 98004,
         "year": 2011,
         "mobility": 0.043,
         "_deepnote_index_column": 3
        },
        {
         "zipcode": 98005,
         "year": 2011,
         "mobility": 0.019,
         "_deepnote_index_column": 4
        },
        {
         "zipcode": 98006,
         "year": 2011,
         "mobility": 0.013999999999999999,
         "_deepnote_index_column": 5
        },
        {
         "zipcode": 98007,
         "year": 2011,
         "mobility": 0.062,
         "_deepnote_index_column": 6
        },
        {
         "zipcode": 98008,
         "year": 2011,
         "mobility": 0.006,
         "_deepnote_index_column": 7
        },
        {
         "zipcode": 98010,
         "year": 2011,
         "mobility": 0,
         "_deepnote_index_column": 8
        },
        {
         "zipcode": 98011,
         "year": 2011,
         "mobility": 0.016,
         "_deepnote_index_column": 9
        }
       ]
      },
      "text/plain": "     zipcode  year  mobility\n0      98001  2011     0.004\n1      98002  2011     0.016\n2      98003  2011     0.006\n3      98004  2011     0.043\n4      98005  2011     0.019\n..       ...   ...       ...\n885    98288  2020     0.000\n886    98321  2020     0.000\n887    98323  2020     0.003\n888    98354  2020     0.000\n889    98391  2020     0.001\n\n[890 rows x 3 columns]",
      "text/html": "<div>\n<style scoped>\n    .dataframe tbody tr th:only-of-type {\n        vertical-align: middle;\n    }\n\n    .dataframe tbody tr th {\n        vertical-align: top;\n    }\n\n    .dataframe thead th {\n        text-align: right;\n    }\n</style>\n<table border=\"1\" class=\"dataframe\">\n  <thead>\n    <tr style=\"text-align: right;\">\n      <th></th>\n      <th>zipcode</th>\n      <th>year</th>\n      <th>mobility</th>\n    </tr>\n  </thead>\n  <tbody>\n    <tr>\n      <th>0</th>\n      <td>98001</td>\n      <td>2011</td>\n      <td>0.004</td>\n    </tr>\n    <tr>\n      <th>1</th>\n      <td>98002</td>\n      <td>2011</td>\n      <td>0.016</td>\n    </tr>\n    <tr>\n      <th>2</th>\n      <td>98003</td>\n      <td>2011</td>\n      <td>0.006</td>\n    </tr>\n    <tr>\n      <th>3</th>\n      <td>98004</td>\n      <td>2011</td>\n      <td>0.043</td>\n    </tr>\n    <tr>\n      <th>4</th>\n      <td>98005</td>\n      <td>2011</td>\n      <td>0.019</td>\n    </tr>\n    <tr>\n      <th>...</th>\n      <td>...</td>\n      <td>...</td>\n      <td>...</td>\n    </tr>\n    <tr>\n      <th>885</th>\n      <td>98288</td>\n      <td>2020</td>\n      <td>0.000</td>\n    </tr>\n    <tr>\n      <th>886</th>\n      <td>98321</td>\n      <td>2020</td>\n      <td>0.000</td>\n    </tr>\n    <tr>\n      <th>887</th>\n      <td>98323</td>\n      <td>2020</td>\n      <td>0.003</td>\n    </tr>\n    <tr>\n      <th>888</th>\n      <td>98354</td>\n      <td>2020</td>\n      <td>0.000</td>\n    </tr>\n    <tr>\n      <th>889</th>\n      <td>98391</td>\n      <td>2020</td>\n      <td>0.001</td>\n    </tr>\n  </tbody>\n</table>\n<p>890 rows × 3 columns</p>\n</div>"
     },
     "metadata": {}
    }
   ]
  },
  {
   "cell_type": "code",
   "metadata": {
    "cell_id": "3cff1c73939747e18977450d6cfd9e1a",
    "tags": [],
    "deepnote_to_be_reexecuted": false,
    "source_hash": "695a371e",
    "execution_start": 1649897122251,
    "execution_millis": 575,
    "deepnote_cell_type": "code",
    "deepnote_cell_height": 183.6875
   },
   "source": "zipcode_list=[]\nfor zip1 in df1['zipcode']:\n    if zip1 not in zipcode_list:\n        zipcode_list.append(zip1)\nprint(len(zipcode_list))",
   "execution_count": 7,
   "outputs": [
    {
     "name": "stdout",
     "text": "89\n",
     "output_type": "stream"
    }
   ]
  },
  {
   "cell_type": "code",
   "metadata": {
    "cell_id": "0579981c40334f4fafcc2546edbd1c9a",
    "tags": [],
    "deepnote_to_be_reexecuted": false,
    "source_hash": "7b73b5f5",
    "execution_start": 1649898837730,
    "execution_millis": 2430,
    "owner_user_id": "1b63c6a6-b602-453c-9bfb-4f5814f9f276",
    "deepnote_cell_type": "code",
    "deepnote_cell_height": 1874.984375,
    "deepnote_output_heights": [
     611,
     611,
     611,
     null,
     112,
     32
    ]
   },
   "source": "list1=[]\nfor i in zipcode_list:\n    data = df1.loc[df1['zipcode']==i,].reset_index(drop=True)\n    s = setup(data = data['zipcode'], seasonal_period = 'Y', session_id= 123)\n    model = create_model('exp_smooth')\n    forcast_yrs = pd.DataFrame({'zipcode':list(data['zipcode'][0:2]),'year':[2021,2022],'mobility':predict_model(model,fh=2)['y_pred']})\n    all_yrs = data.append(forcast_yrs)\n    list1.append(all_yrs)\nseattle_abroad = pd.concat(list1)",
   "execution_count": 29,
   "outputs": [
    {
     "data": {
      "text/plain": "<pandas.io.formats.style.Styler at 0x7f93f8400250>",
      "text/html": "<style type=\"text/css\">\n#T_c32d3_row19_col1 {\n  background-color: lightgreen;\n}\n</style>\n<table id=\"T_c32d3_\">\n  <thead>\n    <tr>\n      <th class=\"blank level0\" >&nbsp;</th>\n      <th class=\"col_heading level0 col0\" >Description</th>\n      <th class=\"col_heading level0 col1\" >Value</th>\n    </tr>\n  </thead>\n  <tbody>\n    <tr>\n      <th id=\"T_c32d3_level0_row0\" class=\"row_heading level0 row0\" >0</th>\n      <td id=\"T_c32d3_row0_col0\" class=\"data row0 col0\" >session_id</td>\n      <td id=\"T_c32d3_row0_col1\" class=\"data row0 col1\" >123</td>\n    </tr>\n    <tr>\n      <th id=\"T_c32d3_level0_row1\" class=\"row_heading level0 row1\" >1</th>\n      <td id=\"T_c32d3_row1_col0\" class=\"data row1 col0\" >Target</td>\n      <td id=\"T_c32d3_row1_col1\" class=\"data row1 col1\" >zipcode</td>\n    </tr>\n    <tr>\n      <th id=\"T_c32d3_level0_row2\" class=\"row_heading level0 row2\" >2</th>\n      <td id=\"T_c32d3_row2_col0\" class=\"data row2 col0\" >Approach</td>\n      <td id=\"T_c32d3_row2_col1\" class=\"data row2 col1\" >Univariate</td>\n    </tr>\n    <tr>\n      <th id=\"T_c32d3_level0_row3\" class=\"row_heading level0 row3\" >3</th>\n      <td id=\"T_c32d3_row3_col0\" class=\"data row3 col0\" >Exogenous Variables</td>\n      <td id=\"T_c32d3_row3_col1\" class=\"data row3 col1\" >Not Present</td>\n    </tr>\n    <tr>\n      <th id=\"T_c32d3_level0_row4\" class=\"row_heading level0 row4\" >4</th>\n      <td id=\"T_c32d3_row4_col0\" class=\"data row4 col0\" >Data shape</td>\n      <td id=\"T_c32d3_row4_col1\" class=\"data row4 col1\" >(10, 1)</td>\n    </tr>\n    <tr>\n      <th id=\"T_c32d3_level0_row5\" class=\"row_heading level0 row5\" >5</th>\n      <td id=\"T_c32d3_row5_col0\" class=\"data row5 col0\" >Train data shape</td>\n      <td id=\"T_c32d3_row5_col1\" class=\"data row5 col1\" >(9, 1)</td>\n    </tr>\n    <tr>\n      <th id=\"T_c32d3_level0_row6\" class=\"row_heading level0 row6\" >6</th>\n      <td id=\"T_c32d3_row6_col0\" class=\"data row6 col0\" >Test data shape</td>\n      <td id=\"T_c32d3_row6_col1\" class=\"data row6 col1\" >(1, 1)</td>\n    </tr>\n    <tr>\n      <th id=\"T_c32d3_level0_row7\" class=\"row_heading level0 row7\" >7</th>\n      <td id=\"T_c32d3_row7_col0\" class=\"data row7 col0\" >Fold Generator</td>\n      <td id=\"T_c32d3_row7_col1\" class=\"data row7 col1\" >ExpandingWindowSplitter</td>\n    </tr>\n    <tr>\n      <th id=\"T_c32d3_level0_row8\" class=\"row_heading level0 row8\" >8</th>\n      <td id=\"T_c32d3_row8_col0\" class=\"data row8 col0\" >Fold Number</td>\n      <td id=\"T_c32d3_row8_col1\" class=\"data row8 col1\" >3</td>\n    </tr>\n    <tr>\n      <th id=\"T_c32d3_level0_row9\" class=\"row_heading level0 row9\" >9</th>\n      <td id=\"T_c32d3_row9_col0\" class=\"data row9 col0\" >Enforce Prediction Interval</td>\n      <td id=\"T_c32d3_row9_col1\" class=\"data row9 col1\" >False</td>\n    </tr>\n    <tr>\n      <th id=\"T_c32d3_level0_row10\" class=\"row_heading level0 row10\" >10</th>\n      <td id=\"T_c32d3_row10_col0\" class=\"data row10 col0\" >Seasonal Period(s) Tested</td>\n      <td id=\"T_c32d3_row10_col1\" class=\"data row10 col1\" >1</td>\n    </tr>\n    <tr>\n      <th id=\"T_c32d3_level0_row11\" class=\"row_heading level0 row11\" >11</th>\n      <td id=\"T_c32d3_row11_col0\" class=\"data row11 col0\" >Seasonality Present</td>\n      <td id=\"T_c32d3_row11_col1\" class=\"data row11 col1\" >False</td>\n    </tr>\n    <tr>\n      <th id=\"T_c32d3_level0_row12\" class=\"row_heading level0 row12\" >12</th>\n      <td id=\"T_c32d3_row12_col0\" class=\"data row12 col0\" >Seasonalities Detected</td>\n      <td id=\"T_c32d3_row12_col1\" class=\"data row12 col1\" >[1]</td>\n    </tr>\n    <tr>\n      <th id=\"T_c32d3_level0_row13\" class=\"row_heading level0 row13\" >13</th>\n      <td id=\"T_c32d3_row13_col0\" class=\"data row13 col0\" >Primary Seasonality</td>\n      <td id=\"T_c32d3_row13_col1\" class=\"data row13 col1\" >1</td>\n    </tr>\n    <tr>\n      <th id=\"T_c32d3_level0_row14\" class=\"row_heading level0 row14\" >14</th>\n      <td id=\"T_c32d3_row14_col0\" class=\"data row14 col0\" >Target Strictly Positive</td>\n      <td id=\"T_c32d3_row14_col1\" class=\"data row14 col1\" >True</td>\n    </tr>\n    <tr>\n      <th id=\"T_c32d3_level0_row15\" class=\"row_heading level0 row15\" >15</th>\n      <td id=\"T_c32d3_row15_col0\" class=\"data row15 col0\" >Target White Noise</td>\n      <td id=\"T_c32d3_row15_col1\" class=\"data row15 col1\" >No</td>\n    </tr>\n    <tr>\n      <th id=\"T_c32d3_level0_row16\" class=\"row_heading level0 row16\" >16</th>\n      <td id=\"T_c32d3_row16_col0\" class=\"data row16 col0\" >Recommended d</td>\n      <td id=\"T_c32d3_row16_col1\" class=\"data row16 col1\" >0</td>\n    </tr>\n    <tr>\n      <th id=\"T_c32d3_level0_row17\" class=\"row_heading level0 row17\" >17</th>\n      <td id=\"T_c32d3_row17_col0\" class=\"data row17 col0\" >Recommended Seasonal D</td>\n      <td id=\"T_c32d3_row17_col1\" class=\"data row17 col1\" >0</td>\n    </tr>\n    <tr>\n      <th id=\"T_c32d3_level0_row18\" class=\"row_heading level0 row18\" >18</th>\n      <td id=\"T_c32d3_row18_col0\" class=\"data row18 col0\" >Missing Values</td>\n      <td id=\"T_c32d3_row18_col1\" class=\"data row18 col1\" >0</td>\n    </tr>\n    <tr>\n      <th id=\"T_c32d3_level0_row19\" class=\"row_heading level0 row19\" >19</th>\n      <td id=\"T_c32d3_row19_col0\" class=\"data row19 col0\" >Preprocess</td>\n      <td id=\"T_c32d3_row19_col1\" class=\"data row19 col1\" >True</td>\n    </tr>\n    <tr>\n      <th id=\"T_c32d3_level0_row20\" class=\"row_heading level0 row20\" >20</th>\n      <td id=\"T_c32d3_row20_col0\" class=\"data row20 col0\" >CPU Jobs</td>\n      <td id=\"T_c32d3_row20_col1\" class=\"data row20 col1\" >-1</td>\n    </tr>\n    <tr>\n      <th id=\"T_c32d3_level0_row21\" class=\"row_heading level0 row21\" >21</th>\n      <td id=\"T_c32d3_row21_col0\" class=\"data row21 col0\" >Use GPU</td>\n      <td id=\"T_c32d3_row21_col1\" class=\"data row21 col1\" >False</td>\n    </tr>\n    <tr>\n      <th id=\"T_c32d3_level0_row22\" class=\"row_heading level0 row22\" >22</th>\n      <td id=\"T_c32d3_row22_col0\" class=\"data row22 col0\" >Log Experiment</td>\n      <td id=\"T_c32d3_row22_col1\" class=\"data row22 col1\" >False</td>\n    </tr>\n    <tr>\n      <th id=\"T_c32d3_level0_row23\" class=\"row_heading level0 row23\" >23</th>\n      <td id=\"T_c32d3_row23_col0\" class=\"data row23 col0\" >Experiment Name</td>\n      <td id=\"T_c32d3_row23_col1\" class=\"data row23 col1\" >ts-default-name</td>\n    </tr>\n    <tr>\n      <th id=\"T_c32d3_level0_row24\" class=\"row_heading level0 row24\" >24</th>\n      <td id=\"T_c32d3_row24_col0\" class=\"data row24 col0\" >USI</td>\n      <td id=\"T_c32d3_row24_col1\" class=\"data row24 col1\" >26ea</td>\n    </tr>\n  </tbody>\n</table>\n"
     },
     "metadata": {},
     "output_type": "display_data"
    },
    {
     "data": {
      "text/plain": "IntProgress(value=0, description='Processing: ', max=4)",
      "application/vnd.jupyter.widget-view+json": {
       "version_major": 2,
       "version_minor": 0,
       "model_id": "4b6274fec72e4b37bffc4c880b43f3b4"
      }
     },
     "metadata": {},
     "output_type": "display_data"
    },
    {
     "data": {
      "text/plain": "                                                                    \n                                                                    \nInitiated  . . . . . . . . . . . . . . . . . .              01:13:57\nStatus     . . . . . . . . . . . . . . . . . .  Loading Dependencies\nEstimator  . . . . . . . . . . . . . . . . . .     Compiling Library",
      "text/html": "<div>\n<style scoped>\n    .dataframe tbody tr th:only-of-type {\n        vertical-align: middle;\n    }\n\n    .dataframe tbody tr th {\n        vertical-align: top;\n    }\n\n    .dataframe thead th {\n        text-align: right;\n    }\n</style>\n<table border=\"1\" class=\"dataframe\">\n  <thead>\n    <tr style=\"text-align: right;\">\n      <th></th>\n      <th></th>\n      <th></th>\n    </tr>\n    <tr>\n      <th></th>\n      <th></th>\n      <th></th>\n    </tr>\n  </thead>\n  <tbody>\n    <tr>\n      <th>Initiated</th>\n      <td>. . . . . . . . . . . . . . . . . .</td>\n      <td>01:13:57</td>\n    </tr>\n    <tr>\n      <th>Status</th>\n      <td>. . . . . . . . . . . . . . . . . .</td>\n      <td>Loading Dependencies</td>\n    </tr>\n    <tr>\n      <th>Estimator</th>\n      <td>. . . . . . . . . . . . . . . . . .</td>\n      <td>Compiling Library</td>\n    </tr>\n  </tbody>\n</table>\n</div>"
     },
     "metadata": {},
     "output_type": "display_data"
    },
    {
     "data": {
      "text/plain": "Empty DataFrame\nColumns: [cutoff, MAE, RMSE, MAPE, SMAPE, MASE, RMSSE]\nIndex: []",
      "text/html": "<div>\n<style scoped>\n    .dataframe tbody tr th:only-of-type {\n        vertical-align: middle;\n    }\n\n    .dataframe tbody tr th {\n        vertical-align: top;\n    }\n\n    .dataframe thead th {\n        text-align: right;\n    }\n</style>\n<table border=\"1\" class=\"dataframe\">\n  <thead>\n    <tr style=\"text-align: right;\">\n      <th></th>\n      <th>cutoff</th>\n      <th>MAE</th>\n      <th>RMSE</th>\n      <th>MAPE</th>\n      <th>SMAPE</th>\n      <th>MASE</th>\n      <th>RMSSE</th>\n    </tr>\n  </thead>\n  <tbody>\n  </tbody>\n</table>\n</div>"
     },
     "metadata": {},
     "output_type": "display_data"
    },
    {
     "output_type": "error",
     "ename": "KeyboardInterrupt",
     "evalue": "",
     "traceback": [
      "\u001b[0;31m---------------------------------------------------------------------------\u001b[0m",
      "\u001b[0;31mKeyboardInterrupt\u001b[0m                         Traceback (most recent call last)",
      "\u001b[0;32m<ipython-input-29-41a690301e31>\u001b[0m in \u001b[0;36m<module>\u001b[0;34m\u001b[0m\n\u001b[1;32m      3\u001b[0m     \u001b[0mdata\u001b[0m \u001b[0;34m=\u001b[0m \u001b[0mdf1\u001b[0m\u001b[0;34m.\u001b[0m\u001b[0mloc\u001b[0m\u001b[0;34m[\u001b[0m\u001b[0mdf1\u001b[0m\u001b[0;34m[\u001b[0m\u001b[0;34m'zipcode'\u001b[0m\u001b[0;34m]\u001b[0m\u001b[0;34m==\u001b[0m\u001b[0mi\u001b[0m\u001b[0;34m,\u001b[0m\u001b[0;34m]\u001b[0m\u001b[0;34m.\u001b[0m\u001b[0mreset_index\u001b[0m\u001b[0;34m(\u001b[0m\u001b[0mdrop\u001b[0m\u001b[0;34m=\u001b[0m\u001b[0;32mTrue\u001b[0m\u001b[0;34m)\u001b[0m\u001b[0;34m\u001b[0m\u001b[0;34m\u001b[0m\u001b[0m\n\u001b[1;32m      4\u001b[0m     \u001b[0ms\u001b[0m \u001b[0;34m=\u001b[0m \u001b[0msetup\u001b[0m\u001b[0;34m(\u001b[0m\u001b[0mdata\u001b[0m \u001b[0;34m=\u001b[0m \u001b[0mdata\u001b[0m\u001b[0;34m[\u001b[0m\u001b[0;34m'zipcode'\u001b[0m\u001b[0;34m]\u001b[0m\u001b[0;34m,\u001b[0m \u001b[0mseasonal_period\u001b[0m \u001b[0;34m=\u001b[0m \u001b[0;34m'Y'\u001b[0m\u001b[0;34m,\u001b[0m \u001b[0msession_id\u001b[0m\u001b[0;34m=\u001b[0m \u001b[0;36m123\u001b[0m\u001b[0;34m)\u001b[0m\u001b[0;34m\u001b[0m\u001b[0;34m\u001b[0m\u001b[0m\n\u001b[0;32m----> 5\u001b[0;31m     \u001b[0mmodel\u001b[0m \u001b[0;34m=\u001b[0m \u001b[0mcreate_model\u001b[0m\u001b[0;34m(\u001b[0m\u001b[0;34m'exp_smooth'\u001b[0m\u001b[0;34m)\u001b[0m\u001b[0;34m\u001b[0m\u001b[0;34m\u001b[0m\u001b[0m\n\u001b[0m\u001b[1;32m      6\u001b[0m     \u001b[0mforcast_yrs\u001b[0m \u001b[0;34m=\u001b[0m \u001b[0mpd\u001b[0m\u001b[0;34m.\u001b[0m\u001b[0mDataFrame\u001b[0m\u001b[0;34m(\u001b[0m\u001b[0;34m{\u001b[0m\u001b[0;34m'zipcode'\u001b[0m\u001b[0;34m:\u001b[0m\u001b[0mlist\u001b[0m\u001b[0;34m(\u001b[0m\u001b[0mdata\u001b[0m\u001b[0;34m[\u001b[0m\u001b[0;34m'zipcode'\u001b[0m\u001b[0;34m]\u001b[0m\u001b[0;34m[\u001b[0m\u001b[0;36m0\u001b[0m\u001b[0;34m:\u001b[0m\u001b[0;36m2\u001b[0m\u001b[0;34m]\u001b[0m\u001b[0;34m)\u001b[0m\u001b[0;34m,\u001b[0m\u001b[0;34m'year'\u001b[0m\u001b[0;34m:\u001b[0m\u001b[0;34m[\u001b[0m\u001b[0;36m2021\u001b[0m\u001b[0;34m,\u001b[0m\u001b[0;36m2022\u001b[0m\u001b[0;34m]\u001b[0m\u001b[0;34m,\u001b[0m\u001b[0;34m'mobility'\u001b[0m\u001b[0;34m:\u001b[0m\u001b[0mpredict_model\u001b[0m\u001b[0;34m(\u001b[0m\u001b[0mmodel\u001b[0m\u001b[0;34m,\u001b[0m\u001b[0mfh\u001b[0m\u001b[0;34m=\u001b[0m\u001b[0;36m2\u001b[0m\u001b[0;34m)\u001b[0m\u001b[0;34m[\u001b[0m\u001b[0;34m'y_pred'\u001b[0m\u001b[0;34m]\u001b[0m\u001b[0;34m}\u001b[0m\u001b[0;34m)\u001b[0m\u001b[0;34m\u001b[0m\u001b[0;34m\u001b[0m\u001b[0m\n\u001b[1;32m      7\u001b[0m     \u001b[0mall_yrs\u001b[0m \u001b[0;34m=\u001b[0m \u001b[0mdata\u001b[0m\u001b[0;34m.\u001b[0m\u001b[0mappend\u001b[0m\u001b[0;34m(\u001b[0m\u001b[0mforcast_yrs\u001b[0m\u001b[0;34m)\u001b[0m\u001b[0;34m\u001b[0m\u001b[0;34m\u001b[0m\u001b[0m\n",
      "\u001b[0;32m~/venv/lib/python3.7/site-packages/pycaret/internal/utils.py\u001b[0m in \u001b[0;36mwrapper\u001b[0;34m(*args, **kwargs)\u001b[0m\n\u001b[1;32m    875\u001b[0m                 \u001b[0;32mif\u001b[0m \u001b[0mglobals_d\u001b[0m\u001b[0;34m[\u001b[0m\u001b[0mname\u001b[0m\u001b[0;34m]\u001b[0m \u001b[0;32mis\u001b[0m \u001b[0;32mNone\u001b[0m\u001b[0;34m:\u001b[0m\u001b[0;34m\u001b[0m\u001b[0;34m\u001b[0m\u001b[0m\n\u001b[1;32m    876\u001b[0m                     \u001b[0;32mraise\u001b[0m \u001b[0mValueError\u001b[0m\u001b[0;34m(\u001b[0m\u001b[0mmessage\u001b[0m\u001b[0;34m)\u001b[0m\u001b[0;34m\u001b[0m\u001b[0;34m\u001b[0m\u001b[0m\n\u001b[0;32m--> 877\u001b[0;31m             \u001b[0;32mreturn\u001b[0m \u001b[0mfunc\u001b[0m\u001b[0;34m(\u001b[0m\u001b[0;34m*\u001b[0m\u001b[0margs\u001b[0m\u001b[0;34m,\u001b[0m \u001b[0;34m**\u001b[0m\u001b[0mkwargs\u001b[0m\u001b[0;34m)\u001b[0m\u001b[0;34m\u001b[0m\u001b[0;34m\u001b[0m\u001b[0m\n\u001b[0m\u001b[1;32m    878\u001b[0m \u001b[0;34m\u001b[0m\u001b[0m\n\u001b[1;32m    879\u001b[0m         \u001b[0;32mreturn\u001b[0m \u001b[0mwrapper\u001b[0m\u001b[0;34m\u001b[0m\u001b[0;34m\u001b[0m\u001b[0m\n",
      "\u001b[0;32m~/venv/lib/python3.7/site-packages/pycaret/time_series/forecasting/functional.py\u001b[0m in \u001b[0;36mcreate_model\u001b[0;34m(estimator, fold, round, cross_validation, fit_kwargs, verbose, **kwargs)\u001b[0m\n\u001b[1;32m    603\u001b[0m         \u001b[0mfit_kwargs\u001b[0m\u001b[0;34m=\u001b[0m\u001b[0mfit_kwargs\u001b[0m\u001b[0;34m,\u001b[0m\u001b[0;34m\u001b[0m\u001b[0;34m\u001b[0m\u001b[0m\n\u001b[1;32m    604\u001b[0m         \u001b[0mverbose\u001b[0m\u001b[0;34m=\u001b[0m\u001b[0mverbose\u001b[0m\u001b[0;34m,\u001b[0m\u001b[0;34m\u001b[0m\u001b[0;34m\u001b[0m\u001b[0m\n\u001b[0;32m--> 605\u001b[0;31m         \u001b[0;34m**\u001b[0m\u001b[0mkwargs\u001b[0m\u001b[0;34m,\u001b[0m\u001b[0;34m\u001b[0m\u001b[0;34m\u001b[0m\u001b[0m\n\u001b[0m\u001b[1;32m    606\u001b[0m     )\n\u001b[1;32m    607\u001b[0m \u001b[0;34m\u001b[0m\u001b[0m\n",
      "\u001b[0;32m~/venv/lib/python3.7/site-packages/pycaret/time_series/forecasting/oop.py\u001b[0m in \u001b[0;36mcreate_model\u001b[0;34m(self, estimator, fold, round, cross_validation, fit_kwargs, experiment_custom_tags, verbose, **kwargs)\u001b[0m\n\u001b[1;32m   1724\u001b[0m             \u001b[0mexperiment_custom_tags\u001b[0m\u001b[0;34m=\u001b[0m\u001b[0mexperiment_custom_tags\u001b[0m\u001b[0;34m,\u001b[0m\u001b[0;34m\u001b[0m\u001b[0;34m\u001b[0m\u001b[0m\n\u001b[1;32m   1725\u001b[0m             \u001b[0mverbose\u001b[0m\u001b[0;34m=\u001b[0m\u001b[0mverbose\u001b[0m\u001b[0;34m,\u001b[0m\u001b[0;34m\u001b[0m\u001b[0;34m\u001b[0m\u001b[0m\n\u001b[0;32m-> 1726\u001b[0;31m             \u001b[0;34m**\u001b[0m\u001b[0mkwargs\u001b[0m\u001b[0;34m,\u001b[0m\u001b[0;34m\u001b[0m\u001b[0;34m\u001b[0m\u001b[0m\n\u001b[0m\u001b[1;32m   1727\u001b[0m         )\n\u001b[1;32m   1728\u001b[0m \u001b[0;34m\u001b[0m\u001b[0m\n",
      "\u001b[0;32m~/venv/lib/python3.7/site-packages/pycaret/internal/pycaret_experiment/supervised_experiment.py\u001b[0m in \u001b[0;36mcreate_model\u001b[0;34m(self, estimator, fold, round, cross_validation, predict, fit_kwargs, groups, refit, probability_threshold, experiment_custom_tags, verbose, system, add_to_model_list, X_train_data, y_train_data, metrics, display, **kwargs)\u001b[0m\n\u001b[1;32m   1481\u001b[0m             \u001b[0mrefit\u001b[0m\u001b[0;34m,\u001b[0m\u001b[0;34m\u001b[0m\u001b[0;34m\u001b[0m\u001b[0m\n\u001b[1;32m   1482\u001b[0m             \u001b[0msystem\u001b[0m\u001b[0;34m,\u001b[0m\u001b[0;34m\u001b[0m\u001b[0;34m\u001b[0m\u001b[0m\n\u001b[0;32m-> 1483\u001b[0;31m             \u001b[0mdisplay\u001b[0m\u001b[0;34m,\u001b[0m\u001b[0;34m\u001b[0m\u001b[0;34m\u001b[0m\u001b[0m\n\u001b[0m\u001b[1;32m   1484\u001b[0m         )\n\u001b[1;32m   1485\u001b[0m \u001b[0;34m\u001b[0m\u001b[0m\n",
      "\u001b[0;32m~/venv/lib/python3.7/site-packages/pycaret/time_series/forecasting/oop.py\u001b[0m in \u001b[0;36m_create_model_with_cv\u001b[0;34m(self, model, data_X, data_y, fit_kwargs, round, cv, groups, metrics, refit, system, display)\u001b[0m\n\u001b[1;32m   1878\u001b[0m             \u001b[0mreturn_train_score\u001b[0m\u001b[0;34m=\u001b[0m\u001b[0;32mFalse\u001b[0m\u001b[0;34m,\u001b[0m\u001b[0;34m\u001b[0m\u001b[0;34m\u001b[0m\u001b[0m\n\u001b[1;32m   1879\u001b[0m             \u001b[0merror_score\u001b[0m\u001b[0;34m=\u001b[0m\u001b[0;36m0\u001b[0m\u001b[0;34m,\u001b[0m\u001b[0;34m\u001b[0m\u001b[0;34m\u001b[0m\u001b[0m\n\u001b[0;32m-> 1880\u001b[0;31m             \u001b[0;34m**\u001b[0m\u001b[0madditional_scorer_kwargs\u001b[0m\u001b[0;34m,\u001b[0m\u001b[0;34m\u001b[0m\u001b[0;34m\u001b[0m\u001b[0m\n\u001b[0m\u001b[1;32m   1881\u001b[0m         )\n\u001b[1;32m   1882\u001b[0m \u001b[0;34m\u001b[0m\u001b[0m\n",
      "\u001b[0;32m~/venv/lib/python3.7/site-packages/pycaret/utils/time_series/forecasting/model_selection.py\u001b[0m in \u001b[0;36mcross_validate\u001b[0;34m(forecaster, y, X, cv, scoring, fit_params, n_jobs, return_train_score, error_score, verbose, **additional_scorer_kwargs)\u001b[0m\n\u001b[1;32m    247\u001b[0m                 \u001b[0;34m**\u001b[0m\u001b[0madditional_scorer_kwargs\u001b[0m\u001b[0;34m,\u001b[0m\u001b[0;34m\u001b[0m\u001b[0;34m\u001b[0m\u001b[0m\n\u001b[1;32m    248\u001b[0m             )\n\u001b[0;32m--> 249\u001b[0;31m             \u001b[0;32mfor\u001b[0m \u001b[0mtrain\u001b[0m\u001b[0;34m,\u001b[0m \u001b[0mtest\u001b[0m \u001b[0;32min\u001b[0m \u001b[0mget_folds\u001b[0m\u001b[0;34m(\u001b[0m\u001b[0mcv\u001b[0m\u001b[0;34m,\u001b[0m \u001b[0my\u001b[0m\u001b[0;34m)\u001b[0m\u001b[0;34m\u001b[0m\u001b[0;34m\u001b[0m\u001b[0m\n\u001b[0m\u001b[1;32m    250\u001b[0m         )\n\u001b[1;32m    251\u001b[0m     \u001b[0;31m# raise key exceptions\u001b[0m\u001b[0;34m\u001b[0m\u001b[0;34m\u001b[0m\u001b[0;34m\u001b[0m\u001b[0m\n",
      "\u001b[0;32m~/venv/lib/python3.7/site-packages/joblib/parallel.py\u001b[0m in \u001b[0;36m__call__\u001b[0;34m(self, iterable)\u001b[0m\n\u001b[1;32m   1052\u001b[0m \u001b[0;34m\u001b[0m\u001b[0m\n\u001b[1;32m   1053\u001b[0m             \u001b[0;32mwith\u001b[0m \u001b[0mself\u001b[0m\u001b[0;34m.\u001b[0m\u001b[0m_backend\u001b[0m\u001b[0;34m.\u001b[0m\u001b[0mretrieval_context\u001b[0m\u001b[0;34m(\u001b[0m\u001b[0;34m)\u001b[0m\u001b[0;34m:\u001b[0m\u001b[0;34m\u001b[0m\u001b[0;34m\u001b[0m\u001b[0m\n\u001b[0;32m-> 1054\u001b[0;31m                 \u001b[0mself\u001b[0m\u001b[0;34m.\u001b[0m\u001b[0mretrieve\u001b[0m\u001b[0;34m(\u001b[0m\u001b[0;34m)\u001b[0m\u001b[0;34m\u001b[0m\u001b[0;34m\u001b[0m\u001b[0m\n\u001b[0m\u001b[1;32m   1055\u001b[0m             \u001b[0;31m# Make sure that we get a last message telling us we are done\u001b[0m\u001b[0;34m\u001b[0m\u001b[0;34m\u001b[0m\u001b[0;34m\u001b[0m\u001b[0m\n\u001b[1;32m   1056\u001b[0m             \u001b[0melapsed_time\u001b[0m \u001b[0;34m=\u001b[0m \u001b[0mtime\u001b[0m\u001b[0;34m.\u001b[0m\u001b[0mtime\u001b[0m\u001b[0;34m(\u001b[0m\u001b[0;34m)\u001b[0m \u001b[0;34m-\u001b[0m \u001b[0mself\u001b[0m\u001b[0;34m.\u001b[0m\u001b[0m_start_time\u001b[0m\u001b[0;34m\u001b[0m\u001b[0;34m\u001b[0m\u001b[0m\n",
      "\u001b[0;32m~/venv/lib/python3.7/site-packages/joblib/parallel.py\u001b[0m in \u001b[0;36mretrieve\u001b[0;34m(self)\u001b[0m\n\u001b[1;32m    931\u001b[0m             \u001b[0;32mtry\u001b[0m\u001b[0;34m:\u001b[0m\u001b[0;34m\u001b[0m\u001b[0;34m\u001b[0m\u001b[0m\n\u001b[1;32m    932\u001b[0m                 \u001b[0;32mif\u001b[0m \u001b[0mgetattr\u001b[0m\u001b[0;34m(\u001b[0m\u001b[0mself\u001b[0m\u001b[0;34m.\u001b[0m\u001b[0m_backend\u001b[0m\u001b[0;34m,\u001b[0m \u001b[0;34m'supports_timeout'\u001b[0m\u001b[0;34m,\u001b[0m \u001b[0;32mFalse\u001b[0m\u001b[0;34m)\u001b[0m\u001b[0;34m:\u001b[0m\u001b[0;34m\u001b[0m\u001b[0;34m\u001b[0m\u001b[0m\n\u001b[0;32m--> 933\u001b[0;31m                     \u001b[0mself\u001b[0m\u001b[0;34m.\u001b[0m\u001b[0m_output\u001b[0m\u001b[0;34m.\u001b[0m\u001b[0mextend\u001b[0m\u001b[0;34m(\u001b[0m\u001b[0mjob\u001b[0m\u001b[0;34m.\u001b[0m\u001b[0mget\u001b[0m\u001b[0;34m(\u001b[0m\u001b[0mtimeout\u001b[0m\u001b[0;34m=\u001b[0m\u001b[0mself\u001b[0m\u001b[0;34m.\u001b[0m\u001b[0mtimeout\u001b[0m\u001b[0;34m)\u001b[0m\u001b[0;34m)\u001b[0m\u001b[0;34m\u001b[0m\u001b[0;34m\u001b[0m\u001b[0m\n\u001b[0m\u001b[1;32m    934\u001b[0m                 \u001b[0;32melse\u001b[0m\u001b[0;34m:\u001b[0m\u001b[0;34m\u001b[0m\u001b[0;34m\u001b[0m\u001b[0m\n\u001b[1;32m    935\u001b[0m                     \u001b[0mself\u001b[0m\u001b[0;34m.\u001b[0m\u001b[0m_output\u001b[0m\u001b[0;34m.\u001b[0m\u001b[0mextend\u001b[0m\u001b[0;34m(\u001b[0m\u001b[0mjob\u001b[0m\u001b[0;34m.\u001b[0m\u001b[0mget\u001b[0m\u001b[0;34m(\u001b[0m\u001b[0;34m)\u001b[0m\u001b[0;34m)\u001b[0m\u001b[0;34m\u001b[0m\u001b[0;34m\u001b[0m\u001b[0m\n",
      "\u001b[0;32m~/venv/lib/python3.7/site-packages/joblib/_parallel_backends.py\u001b[0m in \u001b[0;36mwrap_future_result\u001b[0;34m(future, timeout)\u001b[0m\n\u001b[1;32m    540\u001b[0m         AsyncResults.get from multiprocessing.\"\"\"\n\u001b[1;32m    541\u001b[0m         \u001b[0;32mtry\u001b[0m\u001b[0;34m:\u001b[0m\u001b[0;34m\u001b[0m\u001b[0;34m\u001b[0m\u001b[0m\n\u001b[0;32m--> 542\u001b[0;31m             \u001b[0;32mreturn\u001b[0m \u001b[0mfuture\u001b[0m\u001b[0;34m.\u001b[0m\u001b[0mresult\u001b[0m\u001b[0;34m(\u001b[0m\u001b[0mtimeout\u001b[0m\u001b[0;34m=\u001b[0m\u001b[0mtimeout\u001b[0m\u001b[0;34m)\u001b[0m\u001b[0;34m\u001b[0m\u001b[0;34m\u001b[0m\u001b[0m\n\u001b[0m\u001b[1;32m    543\u001b[0m         \u001b[0;32mexcept\u001b[0m \u001b[0mCfTimeoutError\u001b[0m \u001b[0;32mas\u001b[0m \u001b[0me\u001b[0m\u001b[0;34m:\u001b[0m\u001b[0;34m\u001b[0m\u001b[0;34m\u001b[0m\u001b[0m\n\u001b[1;32m    544\u001b[0m             \u001b[0;32mraise\u001b[0m \u001b[0mTimeoutError\u001b[0m \u001b[0;32mfrom\u001b[0m \u001b[0me\u001b[0m\u001b[0;34m\u001b[0m\u001b[0;34m\u001b[0m\u001b[0m\n",
      "\u001b[0;32m/usr/local/lib/python3.7/concurrent/futures/_base.py\u001b[0m in \u001b[0;36mresult\u001b[0;34m(self, timeout)\u001b[0m\n\u001b[1;32m    428\u001b[0m                 \u001b[0;32mreturn\u001b[0m \u001b[0mself\u001b[0m\u001b[0;34m.\u001b[0m\u001b[0m__get_result\u001b[0m\u001b[0;34m(\u001b[0m\u001b[0;34m)\u001b[0m\u001b[0;34m\u001b[0m\u001b[0;34m\u001b[0m\u001b[0m\n\u001b[1;32m    429\u001b[0m \u001b[0;34m\u001b[0m\u001b[0m\n\u001b[0;32m--> 430\u001b[0;31m             \u001b[0mself\u001b[0m\u001b[0;34m.\u001b[0m\u001b[0m_condition\u001b[0m\u001b[0;34m.\u001b[0m\u001b[0mwait\u001b[0m\u001b[0;34m(\u001b[0m\u001b[0mtimeout\u001b[0m\u001b[0;34m)\u001b[0m\u001b[0;34m\u001b[0m\u001b[0;34m\u001b[0m\u001b[0m\n\u001b[0m\u001b[1;32m    431\u001b[0m \u001b[0;34m\u001b[0m\u001b[0m\n\u001b[1;32m    432\u001b[0m             \u001b[0;32mif\u001b[0m \u001b[0mself\u001b[0m\u001b[0;34m.\u001b[0m\u001b[0m_state\u001b[0m \u001b[0;32min\u001b[0m \u001b[0;34m[\u001b[0m\u001b[0mCANCELLED\u001b[0m\u001b[0;34m,\u001b[0m \u001b[0mCANCELLED_AND_NOTIFIED\u001b[0m\u001b[0;34m]\u001b[0m\u001b[0;34m:\u001b[0m\u001b[0;34m\u001b[0m\u001b[0;34m\u001b[0m\u001b[0m\n",
      "\u001b[0;32m/usr/local/lib/python3.7/threading.py\u001b[0m in \u001b[0;36mwait\u001b[0;34m(self, timeout)\u001b[0m\n\u001b[1;32m    294\u001b[0m         \u001b[0;32mtry\u001b[0m\u001b[0;34m:\u001b[0m    \u001b[0;31m# restore state no matter what (e.g., KeyboardInterrupt)\u001b[0m\u001b[0;34m\u001b[0m\u001b[0;34m\u001b[0m\u001b[0m\n\u001b[1;32m    295\u001b[0m             \u001b[0;32mif\u001b[0m \u001b[0mtimeout\u001b[0m \u001b[0;32mis\u001b[0m \u001b[0;32mNone\u001b[0m\u001b[0;34m:\u001b[0m\u001b[0;34m\u001b[0m\u001b[0;34m\u001b[0m\u001b[0m\n\u001b[0;32m--> 296\u001b[0;31m                 \u001b[0mwaiter\u001b[0m\u001b[0;34m.\u001b[0m\u001b[0macquire\u001b[0m\u001b[0;34m(\u001b[0m\u001b[0;34m)\u001b[0m\u001b[0;34m\u001b[0m\u001b[0;34m\u001b[0m\u001b[0m\n\u001b[0m\u001b[1;32m    297\u001b[0m                 \u001b[0mgotit\u001b[0m \u001b[0;34m=\u001b[0m \u001b[0;32mTrue\u001b[0m\u001b[0;34m\u001b[0m\u001b[0;34m\u001b[0m\u001b[0m\n\u001b[1;32m    298\u001b[0m             \u001b[0;32melse\u001b[0m\u001b[0;34m:\u001b[0m\u001b[0;34m\u001b[0m\u001b[0;34m\u001b[0m\u001b[0m\n",
      "\u001b[0;31mKeyboardInterrupt\u001b[0m: "
     ]
    }
   ]
  },
  {
   "cell_type": "code",
   "metadata": {
    "cell_id": "0a4416dd46324aba911f5fceb82d09e6",
    "tags": [],
    "deepnote_to_be_reexecuted": false,
    "source_hash": "2e587210",
    "execution_start": 1649897199729,
    "execution_millis": 68,
    "deepnote_table_state": {
     "pageSize": 10,
     "pageIndex": 105,
     "filters": [],
     "sortBy": []
    },
    "deepnote_table_loading": false,
    "deepnote_cell_type": "code",
    "deepnote_cell_height": 600
   },
   "source": "seattle_abroad",
   "execution_count": 9,
   "outputs": [
    {
     "output_type": "execute_result",
     "execution_count": 9,
     "data": {
      "application/vnd.deepnote.dataframe.v3+json": {
       "column_count": 3,
       "row_count": 1068,
       "columns": [
        {
         "name": "zipcode",
         "dtype": "int64",
         "stats": {
          "unique_count": 89,
          "nan_count": 0,
          "min": "98001",
          "max": "98391",
          "histogram": [
           {
            "bin_start": 98001,
            "bin_end": 98040,
            "count": 312
           },
           {
            "bin_start": 98040,
            "bin_end": 98079,
            "count": 252
           },
           {
            "bin_start": 98079,
            "bin_end": 98118,
            "count": 168
           },
           {
            "bin_start": 98118,
            "bin_end": 98157,
            "count": 156
           },
           {
            "bin_start": 98157,
            "bin_end": 98196,
            "count": 84
           },
           {
            "bin_start": 98196,
            "bin_end": 98235,
            "count": 36
           },
           {
            "bin_start": 98235,
            "bin_end": 98274,
            "count": 0
           },
           {
            "bin_start": 98274,
            "bin_end": 98313,
            "count": 12
           },
           {
            "bin_start": 98313,
            "bin_end": 98352,
            "count": 24
           },
           {
            "bin_start": 98352,
            "bin_end": 98391,
            "count": 24
           }
          ]
         }
        },
        {
         "name": "year",
         "dtype": "int64",
         "stats": {
          "unique_count": 12,
          "nan_count": 0,
          "min": "2011",
          "max": "2022",
          "histogram": [
           {
            "bin_start": 2011,
            "bin_end": 2012.1,
            "count": 178
           },
           {
            "bin_start": 2012.1,
            "bin_end": 2013.2,
            "count": 89
           },
           {
            "bin_start": 2013.2,
            "bin_end": 2014.3,
            "count": 89
           },
           {
            "bin_start": 2014.3,
            "bin_end": 2015.4,
            "count": 89
           },
           {
            "bin_start": 2015.4,
            "bin_end": 2016.5,
            "count": 89
           },
           {
            "bin_start": 2016.5,
            "bin_end": 2017.6,
            "count": 89
           },
           {
            "bin_start": 2017.6,
            "bin_end": 2018.7,
            "count": 89
           },
           {
            "bin_start": 2018.7,
            "bin_end": 2019.8,
            "count": 89
           },
           {
            "bin_start": 2019.8,
            "bin_end": 2020.9,
            "count": 89
           },
           {
            "bin_start": 2020.9,
            "bin_end": 2022,
            "count": 178
           }
          ]
         }
        },
        {
         "name": "mobility",
         "dtype": "float64",
         "stats": {
          "unique_count": 148,
          "nan_count": 0,
          "min": "0.0",
          "max": "98391.0",
          "histogram": [
           {
            "bin_start": 0,
            "bin_end": 9839.1,
            "count": 890
           },
           {
            "bin_start": 9839.1,
            "bin_end": 19678.2,
            "count": 0
           },
           {
            "bin_start": 19678.2,
            "bin_end": 29517.300000000003,
            "count": 0
           },
           {
            "bin_start": 29517.300000000003,
            "bin_end": 39356.4,
            "count": 0
           },
           {
            "bin_start": 39356.4,
            "bin_end": 49195.5,
            "count": 0
           },
           {
            "bin_start": 49195.5,
            "bin_end": 59034.600000000006,
            "count": 0
           },
           {
            "bin_start": 59034.600000000006,
            "bin_end": 68873.7,
            "count": 0
           },
           {
            "bin_start": 68873.7,
            "bin_end": 78712.8,
            "count": 0
           },
           {
            "bin_start": 78712.8,
            "bin_end": 88551.90000000001,
            "count": 0
           },
           {
            "bin_start": 88551.90000000001,
            "bin_end": 98391,
            "count": 178
           }
          ]
         }
        },
        {
         "name": "_deepnote_index_column",
         "dtype": "int64"
        }
       ],
       "rows": [
        {
         "zipcode": 98354,
         "year": 2017,
         "mobility": 0,
         "_deepnote_index_column": 6
        },
        {
         "zipcode": 98354,
         "year": 2018,
         "mobility": 0,
         "_deepnote_index_column": 7
        },
        {
         "zipcode": 98354,
         "year": 2019,
         "mobility": 0,
         "_deepnote_index_column": 8
        },
        {
         "zipcode": 98354,
         "year": 2020,
         "mobility": 0,
         "_deepnote_index_column": 9
        },
        {
         "zipcode": 98354,
         "year": 2021,
         "mobility": 98354,
         "_deepnote_index_column": 9
        },
        {
         "zipcode": 98354,
         "year": 2022,
         "mobility": 98354,
         "_deepnote_index_column": 10
        },
        {
         "zipcode": 98391,
         "year": 2011,
         "mobility": 0.001,
         "_deepnote_index_column": 0
        },
        {
         "zipcode": 98391,
         "year": 2012,
         "mobility": 0.001,
         "_deepnote_index_column": 1
        },
        {
         "zipcode": 98391,
         "year": 2013,
         "mobility": 0.001,
         "_deepnote_index_column": 2
        },
        {
         "zipcode": 98391,
         "year": 2014,
         "mobility": 0.002,
         "_deepnote_index_column": 3
        }
       ]
      },
      "text/plain": "    zipcode  year   mobility\n0     98001  2011      0.004\n1     98001  2012      0.005\n2     98001  2013      0.005\n3     98001  2014      0.005\n4     98001  2015      0.003\n..      ...   ...        ...\n7     98391  2018      0.002\n8     98391  2019      0.001\n9     98391  2020      0.001\n9     98391  2021  98391.000\n10    98391  2022  98391.000\n\n[1068 rows x 3 columns]",
      "text/html": "<div>\n<style scoped>\n    .dataframe tbody tr th:only-of-type {\n        vertical-align: middle;\n    }\n\n    .dataframe tbody tr th {\n        vertical-align: top;\n    }\n\n    .dataframe thead th {\n        text-align: right;\n    }\n</style>\n<table border=\"1\" class=\"dataframe\">\n  <thead>\n    <tr style=\"text-align: right;\">\n      <th></th>\n      <th>zipcode</th>\n      <th>year</th>\n      <th>mobility</th>\n    </tr>\n  </thead>\n  <tbody>\n    <tr>\n      <th>0</th>\n      <td>98001</td>\n      <td>2011</td>\n      <td>0.004</td>\n    </tr>\n    <tr>\n      <th>1</th>\n      <td>98001</td>\n      <td>2012</td>\n      <td>0.005</td>\n    </tr>\n    <tr>\n      <th>2</th>\n      <td>98001</td>\n      <td>2013</td>\n      <td>0.005</td>\n    </tr>\n    <tr>\n      <th>3</th>\n      <td>98001</td>\n      <td>2014</td>\n      <td>0.005</td>\n    </tr>\n    <tr>\n      <th>4</th>\n      <td>98001</td>\n      <td>2015</td>\n      <td>0.003</td>\n    </tr>\n    <tr>\n      <th>...</th>\n      <td>...</td>\n      <td>...</td>\n      <td>...</td>\n    </tr>\n    <tr>\n      <th>7</th>\n      <td>98391</td>\n      <td>2018</td>\n      <td>0.002</td>\n    </tr>\n    <tr>\n      <th>8</th>\n      <td>98391</td>\n      <td>2019</td>\n      <td>0.001</td>\n    </tr>\n    <tr>\n      <th>9</th>\n      <td>98391</td>\n      <td>2020</td>\n      <td>0.001</td>\n    </tr>\n    <tr>\n      <th>9</th>\n      <td>98391</td>\n      <td>2021</td>\n      <td>98391.000</td>\n    </tr>\n    <tr>\n      <th>10</th>\n      <td>98391</td>\n      <td>2022</td>\n      <td>98391.000</td>\n    </tr>\n  </tbody>\n</table>\n<p>1068 rows × 3 columns</p>\n</div>"
     },
     "metadata": {}
    }
   ]
  },
  {
   "cell_type": "code",
   "metadata": {
    "cell_id": "9b59e499a3b4445c9f770ba8dba79d2b",
    "tags": [],
    "deepnote_to_be_reexecuted": false,
    "source_hash": "d381618d",
    "execution_start": 1649897199795,
    "execution_millis": 0,
    "deepnote_cell_type": "code",
    "deepnote_cell_height": 81,
    "deepnote_output_heights": [
     21.1875,
     332,
     332
    ]
   },
   "source": "#seattle_abroad.to_csv(\"../data/mobility/mobility_abroad_king_predicted.csv\",index=False)",
   "execution_count": 10,
   "outputs": []
  },
  {
   "cell_type": "code",
   "metadata": {
    "cell_id": "7e156bd9d3884b6684f9d1f494780990",
    "tags": [],
    "deepnote_to_be_reexecuted": false,
    "source_hash": "9fe38fe4",
    "execution_start": 1649897199796,
    "execution_millis": 0,
    "deepnote_cell_type": "code",
    "deepnote_cell_height": 81
   },
   "source": "df2 = pd.read_csv(\"../data/mobility/mobility_withincounty_king_clean.csv\")",
   "execution_count": 11,
   "outputs": []
  },
  {
   "cell_type": "code",
   "metadata": {
    "cell_id": "7b25aee93eaa4b5bb251694087796e55",
    "tags": [],
    "deepnote_to_be_reexecuted": false,
    "source_hash": "be032f21",
    "execution_start": 1649897199839,
    "execution_millis": 0,
    "deepnote_cell_type": "code",
    "deepnote_cell_height": 135
   },
   "source": "df2 = pd.melt(df2,id_vars=['Zip Code'])\ndf2.rename(columns={'Zip Code':'zipcode','variable':'year','value':'mobility'},inplace=True)\ndf2['year'] = df2['year'].astype(int)\ndf2['mobility'] = df2['mobility'].str[:-1].astype(float)/100",
   "execution_count": 12,
   "outputs": []
  },
  {
   "cell_type": "code",
   "metadata": {
    "cell_id": "5fdb4cadf54d4a36a0e458ef1b29003a",
    "tags": [],
    "deepnote_to_be_reexecuted": false,
    "source_hash": "4e3cee7d",
    "execution_start": 1649897199840,
    "execution_millis": 0,
    "deepnote_cell_type": "code",
    "deepnote_cell_height": 135,
    "deepnote_output_heights": [
     21.1875
    ]
   },
   "source": "zipcode_list2=[]\nfor zip2 in df2['zipcode']:\n    if zip2 not in zipcode_list2:\n        zipcode_list2.append(zip2)",
   "execution_count": 13,
   "outputs": []
  },
  {
   "cell_type": "code",
   "metadata": {
    "cell_id": "e357f30046d145b8ba551680782086a2",
    "tags": [],
    "deepnote_to_be_reexecuted": false,
    "source_hash": "7121a84b",
    "execution_start": 1649897199840,
    "execution_millis": 71790,
    "deepnote_cell_type": "code",
    "deepnote_cell_height": 439.796875,
    "deepnote_output_heights": [
     611,
     177,
     611,
     null,
     112
    ]
   },
   "source": "list2=[]\nfor i in zipcode_list2:\n    data = df2.loc[df2['zipcode']==i,].reset_index(drop=True)\n    s = setup(data = data['zipcode'], seasonal_period = 'Y', session_id= 123)\n    model = create_model('exp_smooth')\n    forcast_yrs = pd.DataFrame({'zipcode':list(data['zipcode'][0:2]),'year':[2021,2022],'mobility':predict_model(model,fh=2)['y_pred']})\n    all_yrs = data.append(forcast_yrs)\n    list2.append(all_yrs)\nseattle_county = pd.concat(list2)",
   "execution_count": 14,
   "outputs": [
    {
     "output_type": "clearOutput"
    },
    {
     "data": {
      "text/plain": "<pandas.io.formats.style.Styler at 0x7f93f8d21950>",
      "text/html": "<style type=\"text/css\">\n#T_fae2e_row3_col0, #T_fae2e_row3_col1, #T_fae2e_row3_col2, #T_fae2e_row3_col3, #T_fae2e_row3_col4, #T_fae2e_row3_col5, #T_fae2e_row3_col6 {\n  background: yellow;\n}\n</style>\n<table id=\"T_fae2e_\">\n  <thead>\n    <tr>\n      <th class=\"blank level0\" >&nbsp;</th>\n      <th class=\"col_heading level0 col0\" >cutoff</th>\n      <th class=\"col_heading level0 col1\" >MAE</th>\n      <th class=\"col_heading level0 col2\" >RMSE</th>\n      <th class=\"col_heading level0 col3\" >MAPE</th>\n      <th class=\"col_heading level0 col4\" >SMAPE</th>\n      <th class=\"col_heading level0 col5\" >MASE</th>\n      <th class=\"col_heading level0 col6\" >RMSSE</th>\n    </tr>\n  </thead>\n  <tbody>\n    <tr>\n      <th id=\"T_fae2e_level0_row0\" class=\"row_heading level0 row0\" >0</th>\n      <td id=\"T_fae2e_row0_col0\" class=\"data row0 col0\" >5.0000</td>\n      <td id=\"T_fae2e_row0_col1\" class=\"data row0 col1\" >0.0000</td>\n      <td id=\"T_fae2e_row0_col2\" class=\"data row0 col2\" >0.0000</td>\n      <td id=\"T_fae2e_row0_col3\" class=\"data row0 col3\" >0.0000</td>\n      <td id=\"T_fae2e_row0_col4\" class=\"data row0 col4\" >0.0000</td>\n      <td id=\"T_fae2e_row0_col5\" class=\"data row0 col5\" >0.0000</td>\n      <td id=\"T_fae2e_row0_col6\" class=\"data row0 col6\" >0.0000</td>\n    </tr>\n    <tr>\n      <th id=\"T_fae2e_level0_row1\" class=\"row_heading level0 row1\" >1</th>\n      <td id=\"T_fae2e_row1_col0\" class=\"data row1 col0\" >6.0000</td>\n      <td id=\"T_fae2e_row1_col1\" class=\"data row1 col1\" >0.0000</td>\n      <td id=\"T_fae2e_row1_col2\" class=\"data row1 col2\" >0.0000</td>\n      <td id=\"T_fae2e_row1_col3\" class=\"data row1 col3\" >0.0000</td>\n      <td id=\"T_fae2e_row1_col4\" class=\"data row1 col4\" >0.0000</td>\n      <td id=\"T_fae2e_row1_col5\" class=\"data row1 col5\" >0.0000</td>\n      <td id=\"T_fae2e_row1_col6\" class=\"data row1 col6\" >0.0000</td>\n    </tr>\n    <tr>\n      <th id=\"T_fae2e_level0_row2\" class=\"row_heading level0 row2\" >2</th>\n      <td id=\"T_fae2e_row2_col0\" class=\"data row2 col0\" >7.0000</td>\n      <td id=\"T_fae2e_row2_col1\" class=\"data row2 col1\" >0.0000</td>\n      <td id=\"T_fae2e_row2_col2\" class=\"data row2 col2\" >0.0000</td>\n      <td id=\"T_fae2e_row2_col3\" class=\"data row2 col3\" >0.0000</td>\n      <td id=\"T_fae2e_row2_col4\" class=\"data row2 col4\" >0.0000</td>\n      <td id=\"T_fae2e_row2_col5\" class=\"data row2 col5\" >0.0000</td>\n      <td id=\"T_fae2e_row2_col6\" class=\"data row2 col6\" >0.0000</td>\n    </tr>\n    <tr>\n      <th id=\"T_fae2e_level0_row3\" class=\"row_heading level0 row3\" >Mean</th>\n      <td id=\"T_fae2e_row3_col0\" class=\"data row3 col0\" >nan</td>\n      <td id=\"T_fae2e_row3_col1\" class=\"data row3 col1\" >0.0000</td>\n      <td id=\"T_fae2e_row3_col2\" class=\"data row3 col2\" >0.0000</td>\n      <td id=\"T_fae2e_row3_col3\" class=\"data row3 col3\" >0.0000</td>\n      <td id=\"T_fae2e_row3_col4\" class=\"data row3 col4\" >0.0000</td>\n      <td id=\"T_fae2e_row3_col5\" class=\"data row3 col5\" >0.0000</td>\n      <td id=\"T_fae2e_row3_col6\" class=\"data row3 col6\" >0.0000</td>\n    </tr>\n    <tr>\n      <th id=\"T_fae2e_level0_row4\" class=\"row_heading level0 row4\" >SD</th>\n      <td id=\"T_fae2e_row4_col0\" class=\"data row4 col0\" >nan</td>\n      <td id=\"T_fae2e_row4_col1\" class=\"data row4 col1\" >0.0000</td>\n      <td id=\"T_fae2e_row4_col2\" class=\"data row4 col2\" >0.0000</td>\n      <td id=\"T_fae2e_row4_col3\" class=\"data row4 col3\" >0.0000</td>\n      <td id=\"T_fae2e_row4_col4\" class=\"data row4 col4\" >0.0000</td>\n      <td id=\"T_fae2e_row4_col5\" class=\"data row4 col5\" >0.0000</td>\n      <td id=\"T_fae2e_row4_col6\" class=\"data row4 col6\" >0.0000</td>\n    </tr>\n  </tbody>\n</table>\n"
     },
     "metadata": {},
     "output_type": "display_data"
    }
   ]
  },
  {
   "cell_type": "code",
   "metadata": {
    "cell_id": "4457ed8f0f084fa8b4af56c5c4a60995",
    "tags": [],
    "deepnote_to_be_reexecuted": false,
    "source_hash": "a32cb5ab",
    "execution_start": 1649897271471,
    "execution_millis": 0,
    "deepnote_table_state": {
     "pageSize": 10,
     "pageIndex": 0,
     "filters": [],
     "sortBy": []
    },
    "deepnote_table_loading": false,
    "deepnote_table_invalid": false,
    "deepnote_cell_type": "code",
    "deepnote_cell_height": 81
   },
   "source": "#seattle_county.to_csv(\"../data/mobility/mobility_withincounty_king_predicted.csv\",index=False)",
   "execution_count": 15,
   "outputs": []
  },
  {
   "cell_type": "code",
   "source": "df3 = pd.read_csv(\"../data/mobility/mobility_withinstate_king_clean.csv\")",
   "metadata": {
    "cell_id": "00667cad50724321b00d96b1c153d5e5",
    "tags": [],
    "deepnote_to_be_reexecuted": false,
    "source_hash": "ab6fd41a",
    "execution_start": 1649897271472,
    "execution_millis": 0,
    "deepnote_cell_type": "code",
    "deepnote_cell_height": 81
   },
   "outputs": [],
   "execution_count": 16
  },
  {
   "cell_type": "code",
   "source": "df3 = pd.melt(df3,id_vars=['Zip Code'])\ndf3.rename(columns={'Zip Code':'zipcode','variable':'year','value':'mobility'},inplace=True)\ndf3['year'] = df3['year'].astype(int)\ndf3['mobility'] = df3['mobility'].str[:-1].astype(float)/100",
   "metadata": {
    "cell_id": "21e0acd6723544898be01c8d649b827c",
    "tags": [],
    "deepnote_to_be_reexecuted": false,
    "source_hash": "1a7b17e9",
    "execution_start": 1649897271472,
    "execution_millis": 1,
    "deepnote_cell_type": "code",
    "deepnote_cell_height": 135
   },
   "outputs": [],
   "execution_count": 17
  },
  {
   "cell_type": "code",
   "source": "zipcode_list3=[]\nfor zip3 in df3['zipcode']:\n    if zip3 not in zipcode_list3:\n        zipcode_list3.append(zip3)",
   "metadata": {
    "cell_id": "e1cd89a6341c4ce8a7e5b42d3ebfe419",
    "tags": [],
    "deepnote_to_be_reexecuted": false,
    "source_hash": "a13b319",
    "execution_start": 1649897271518,
    "execution_millis": 1,
    "deepnote_cell_type": "code",
    "deepnote_cell_height": 135
   },
   "outputs": [],
   "execution_count": 18
  },
  {
   "cell_type": "code",
   "source": "list3=[]\nfor i in zipcode_list3:\n    data = df3.loc[df3['zipcode']==i,].reset_index(drop=True)\n    s = setup(data = data['zipcode'], seasonal_period = 'Y', session_id= 123)\n    model = create_model('exp_smooth')\n    forcast_yrs = pd.DataFrame({'zipcode':list(data['zipcode'][0:2]),'year':[2021,2022],'mobility':predict_model(model,fh=2)['y_pred']})\n    all_yrs = data.append(forcast_yrs)\n    list3.append(all_yrs)\nseattle_state = pd.concat(list3)",
   "metadata": {
    "cell_id": "059d446c0ed847d08a9ad682a54da403",
    "tags": [],
    "deepnote_to_be_reexecuted": false,
    "source_hash": "eb7dd61a",
    "execution_start": 1649897279214,
    "execution_millis": 71742,
    "deepnote_cell_type": "code",
    "deepnote_cell_height": 439.796875,
    "deepnote_output_heights": [
     611,
     177,
     611,
     null,
     112
    ]
   },
   "outputs": [
    {
     "output_type": "clearOutput"
    },
    {
     "data": {
      "text/plain": "<pandas.io.formats.style.Styler at 0x7f93f8b53f10>",
      "text/html": "<style type=\"text/css\">\n#T_2a9f1_row3_col0, #T_2a9f1_row3_col1, #T_2a9f1_row3_col2, #T_2a9f1_row3_col3, #T_2a9f1_row3_col4, #T_2a9f1_row3_col5, #T_2a9f1_row3_col6 {\n  background: yellow;\n}\n</style>\n<table id=\"T_2a9f1_\">\n  <thead>\n    <tr>\n      <th class=\"blank level0\" >&nbsp;</th>\n      <th class=\"col_heading level0 col0\" >cutoff</th>\n      <th class=\"col_heading level0 col1\" >MAE</th>\n      <th class=\"col_heading level0 col2\" >RMSE</th>\n      <th class=\"col_heading level0 col3\" >MAPE</th>\n      <th class=\"col_heading level0 col4\" >SMAPE</th>\n      <th class=\"col_heading level0 col5\" >MASE</th>\n      <th class=\"col_heading level0 col6\" >RMSSE</th>\n    </tr>\n  </thead>\n  <tbody>\n    <tr>\n      <th id=\"T_2a9f1_level0_row0\" class=\"row_heading level0 row0\" >0</th>\n      <td id=\"T_2a9f1_row0_col0\" class=\"data row0 col0\" >5.0000</td>\n      <td id=\"T_2a9f1_row0_col1\" class=\"data row0 col1\" >0.0000</td>\n      <td id=\"T_2a9f1_row0_col2\" class=\"data row0 col2\" >0.0000</td>\n      <td id=\"T_2a9f1_row0_col3\" class=\"data row0 col3\" >0.0000</td>\n      <td id=\"T_2a9f1_row0_col4\" class=\"data row0 col4\" >0.0000</td>\n      <td id=\"T_2a9f1_row0_col5\" class=\"data row0 col5\" >0.0000</td>\n      <td id=\"T_2a9f1_row0_col6\" class=\"data row0 col6\" >0.0000</td>\n    </tr>\n    <tr>\n      <th id=\"T_2a9f1_level0_row1\" class=\"row_heading level0 row1\" >1</th>\n      <td id=\"T_2a9f1_row1_col0\" class=\"data row1 col0\" >6.0000</td>\n      <td id=\"T_2a9f1_row1_col1\" class=\"data row1 col1\" >0.0000</td>\n      <td id=\"T_2a9f1_row1_col2\" class=\"data row1 col2\" >0.0000</td>\n      <td id=\"T_2a9f1_row1_col3\" class=\"data row1 col3\" >0.0000</td>\n      <td id=\"T_2a9f1_row1_col4\" class=\"data row1 col4\" >0.0000</td>\n      <td id=\"T_2a9f1_row1_col5\" class=\"data row1 col5\" >0.0000</td>\n      <td id=\"T_2a9f1_row1_col6\" class=\"data row1 col6\" >0.0000</td>\n    </tr>\n    <tr>\n      <th id=\"T_2a9f1_level0_row2\" class=\"row_heading level0 row2\" >2</th>\n      <td id=\"T_2a9f1_row2_col0\" class=\"data row2 col0\" >7.0000</td>\n      <td id=\"T_2a9f1_row2_col1\" class=\"data row2 col1\" >0.0000</td>\n      <td id=\"T_2a9f1_row2_col2\" class=\"data row2 col2\" >0.0000</td>\n      <td id=\"T_2a9f1_row2_col3\" class=\"data row2 col3\" >0.0000</td>\n      <td id=\"T_2a9f1_row2_col4\" class=\"data row2 col4\" >0.0000</td>\n      <td id=\"T_2a9f1_row2_col5\" class=\"data row2 col5\" >0.0000</td>\n      <td id=\"T_2a9f1_row2_col6\" class=\"data row2 col6\" >0.0000</td>\n    </tr>\n    <tr>\n      <th id=\"T_2a9f1_level0_row3\" class=\"row_heading level0 row3\" >Mean</th>\n      <td id=\"T_2a9f1_row3_col0\" class=\"data row3 col0\" >nan</td>\n      <td id=\"T_2a9f1_row3_col1\" class=\"data row3 col1\" >0.0000</td>\n      <td id=\"T_2a9f1_row3_col2\" class=\"data row3 col2\" >0.0000</td>\n      <td id=\"T_2a9f1_row3_col3\" class=\"data row3 col3\" >0.0000</td>\n      <td id=\"T_2a9f1_row3_col4\" class=\"data row3 col4\" >0.0000</td>\n      <td id=\"T_2a9f1_row3_col5\" class=\"data row3 col5\" >0.0000</td>\n      <td id=\"T_2a9f1_row3_col6\" class=\"data row3 col6\" >0.0000</td>\n    </tr>\n    <tr>\n      <th id=\"T_2a9f1_level0_row4\" class=\"row_heading level0 row4\" >SD</th>\n      <td id=\"T_2a9f1_row4_col0\" class=\"data row4 col0\" >nan</td>\n      <td id=\"T_2a9f1_row4_col1\" class=\"data row4 col1\" >0.0000</td>\n      <td id=\"T_2a9f1_row4_col2\" class=\"data row4 col2\" >0.0000</td>\n      <td id=\"T_2a9f1_row4_col3\" class=\"data row4 col3\" >0.0000</td>\n      <td id=\"T_2a9f1_row4_col4\" class=\"data row4 col4\" >0.0000</td>\n      <td id=\"T_2a9f1_row4_col5\" class=\"data row4 col5\" >0.0000</td>\n      <td id=\"T_2a9f1_row4_col6\" class=\"data row4 col6\" >0.0000</td>\n    </tr>\n  </tbody>\n</table>\n"
     },
     "metadata": {},
     "output_type": "display_data"
    }
   ],
   "execution_count": 20
  },
  {
   "cell_type": "code",
   "source": "#seattle_state.to_csv(\"../data/mobility/mobility_withinstate_king_predicted.csv\",index=False)",
   "metadata": {
    "cell_id": "006902e9ee67452a918df173e7ddec13",
    "tags": [],
    "deepnote_to_be_reexecuted": false,
    "source_hash": "fe4f6a9c",
    "execution_start": 1649897386010,
    "execution_millis": 1,
    "deepnote_cell_type": "code",
    "deepnote_cell_height": 81
   },
   "outputs": [],
   "execution_count": 21
  },
  {
   "cell_type": "code",
   "source": "df4 = pd.read_csv(\"../data/mobility/mobility_withinUS_king_clean.csv\")",
   "metadata": {
    "cell_id": "334983e494544301bec444d9cde556c1",
    "tags": [],
    "deepnote_to_be_reexecuted": false,
    "source_hash": "d66693f8",
    "execution_start": 1649897389076,
    "execution_millis": 10,
    "deepnote_cell_type": "code",
    "deepnote_cell_height": 81
   },
   "outputs": [],
   "execution_count": 22
  },
  {
   "cell_type": "code",
   "source": "df4 = pd.melt(df4,id_vars=['Zip Code'])\ndf4.rename(columns={'Zip Code':'zipcode','variable':'year','value':'mobility'},inplace=True)\ndf4['year'] = df4['year'].astype(int)\ndf4['mobility'] = df4['mobility'].str[:-1].astype(float)/100",
   "metadata": {
    "cell_id": "3dc5703b7ac54c419257503f9dbd73da",
    "tags": [],
    "deepnote_to_be_reexecuted": false,
    "source_hash": "1feaa659",
    "execution_start": 1649897391015,
    "execution_millis": 10,
    "deepnote_cell_type": "code",
    "deepnote_cell_height": 135
   },
   "outputs": [],
   "execution_count": 23
  },
  {
   "cell_type": "code",
   "source": "zipcode_list4=[]\nfor zip4 in df4['zipcode']:\n    if zip4 not in zipcode_list4:\n        zipcode_list4.append(zip4)",
   "metadata": {
    "cell_id": "98c12ef04764426394abb6579494bd15",
    "tags": [],
    "deepnote_to_be_reexecuted": false,
    "source_hash": "5110fdd7",
    "execution_start": 1649897393716,
    "execution_millis": 5,
    "deepnote_cell_type": "code",
    "deepnote_cell_height": 135
   },
   "outputs": [],
   "execution_count": 24
  },
  {
   "cell_type": "code",
   "source": "list4=[]\nfor i in zipcode_list4:\n    data = df4.loc[df4['zipcode']==i,].reset_index(drop=True)\n    s = setup(data = data['zipcode'], seasonal_period = 'Y', session_id= 123)\n    model = create_model('exp_smooth')\n    forcast_yrs = pd.DataFrame({'zipcode':list(data['zipcode'][0:2]),'year':[2021,2022],'mobility':predict_model(model,fh=2)['y_pred']})\n    all_yrs = data.append(forcast_yrs)\n    list4.append(all_yrs)\nseattle_us = pd.concat(list4)",
   "metadata": {
    "cell_id": "538633d3ecb045c3ae5d3af745083e3a",
    "tags": [],
    "deepnote_to_be_reexecuted": false,
    "source_hash": "edd0ae94",
    "execution_start": 1649897396555,
    "execution_millis": 72947,
    "deepnote_cell_type": "code",
    "deepnote_cell_height": 439.796875,
    "deepnote_output_heights": [
     611,
     177,
     611,
     null,
     112
    ]
   },
   "outputs": [
    {
     "output_type": "clearOutput"
    },
    {
     "data": {
      "text/plain": "<pandas.io.formats.style.Styler at 0x7f93f8802810>",
      "text/html": "<style type=\"text/css\">\n#T_0af3e_row3_col0, #T_0af3e_row3_col1, #T_0af3e_row3_col2, #T_0af3e_row3_col3, #T_0af3e_row3_col4, #T_0af3e_row3_col5, #T_0af3e_row3_col6 {\n  background: yellow;\n}\n</style>\n<table id=\"T_0af3e_\">\n  <thead>\n    <tr>\n      <th class=\"blank level0\" >&nbsp;</th>\n      <th class=\"col_heading level0 col0\" >cutoff</th>\n      <th class=\"col_heading level0 col1\" >MAE</th>\n      <th class=\"col_heading level0 col2\" >RMSE</th>\n      <th class=\"col_heading level0 col3\" >MAPE</th>\n      <th class=\"col_heading level0 col4\" >SMAPE</th>\n      <th class=\"col_heading level0 col5\" >MASE</th>\n      <th class=\"col_heading level0 col6\" >RMSSE</th>\n    </tr>\n  </thead>\n  <tbody>\n    <tr>\n      <th id=\"T_0af3e_level0_row0\" class=\"row_heading level0 row0\" >0</th>\n      <td id=\"T_0af3e_row0_col0\" class=\"data row0 col0\" >5.0000</td>\n      <td id=\"T_0af3e_row0_col1\" class=\"data row0 col1\" >0.0000</td>\n      <td id=\"T_0af3e_row0_col2\" class=\"data row0 col2\" >0.0000</td>\n      <td id=\"T_0af3e_row0_col3\" class=\"data row0 col3\" >0.0000</td>\n      <td id=\"T_0af3e_row0_col4\" class=\"data row0 col4\" >0.0000</td>\n      <td id=\"T_0af3e_row0_col5\" class=\"data row0 col5\" >0.0000</td>\n      <td id=\"T_0af3e_row0_col6\" class=\"data row0 col6\" >0.0000</td>\n    </tr>\n    <tr>\n      <th id=\"T_0af3e_level0_row1\" class=\"row_heading level0 row1\" >1</th>\n      <td id=\"T_0af3e_row1_col0\" class=\"data row1 col0\" >6.0000</td>\n      <td id=\"T_0af3e_row1_col1\" class=\"data row1 col1\" >0.0000</td>\n      <td id=\"T_0af3e_row1_col2\" class=\"data row1 col2\" >0.0000</td>\n      <td id=\"T_0af3e_row1_col3\" class=\"data row1 col3\" >0.0000</td>\n      <td id=\"T_0af3e_row1_col4\" class=\"data row1 col4\" >0.0000</td>\n      <td id=\"T_0af3e_row1_col5\" class=\"data row1 col5\" >0.0000</td>\n      <td id=\"T_0af3e_row1_col6\" class=\"data row1 col6\" >0.0000</td>\n    </tr>\n    <tr>\n      <th id=\"T_0af3e_level0_row2\" class=\"row_heading level0 row2\" >2</th>\n      <td id=\"T_0af3e_row2_col0\" class=\"data row2 col0\" >7.0000</td>\n      <td id=\"T_0af3e_row2_col1\" class=\"data row2 col1\" >0.0000</td>\n      <td id=\"T_0af3e_row2_col2\" class=\"data row2 col2\" >0.0000</td>\n      <td id=\"T_0af3e_row2_col3\" class=\"data row2 col3\" >0.0000</td>\n      <td id=\"T_0af3e_row2_col4\" class=\"data row2 col4\" >0.0000</td>\n      <td id=\"T_0af3e_row2_col5\" class=\"data row2 col5\" >0.0000</td>\n      <td id=\"T_0af3e_row2_col6\" class=\"data row2 col6\" >0.0000</td>\n    </tr>\n    <tr>\n      <th id=\"T_0af3e_level0_row3\" class=\"row_heading level0 row3\" >Mean</th>\n      <td id=\"T_0af3e_row3_col0\" class=\"data row3 col0\" >nan</td>\n      <td id=\"T_0af3e_row3_col1\" class=\"data row3 col1\" >0.0000</td>\n      <td id=\"T_0af3e_row3_col2\" class=\"data row3 col2\" >0.0000</td>\n      <td id=\"T_0af3e_row3_col3\" class=\"data row3 col3\" >0.0000</td>\n      <td id=\"T_0af3e_row3_col4\" class=\"data row3 col4\" >0.0000</td>\n      <td id=\"T_0af3e_row3_col5\" class=\"data row3 col5\" >0.0000</td>\n      <td id=\"T_0af3e_row3_col6\" class=\"data row3 col6\" >0.0000</td>\n    </tr>\n    <tr>\n      <th id=\"T_0af3e_level0_row4\" class=\"row_heading level0 row4\" >SD</th>\n      <td id=\"T_0af3e_row4_col0\" class=\"data row4 col0\" >nan</td>\n      <td id=\"T_0af3e_row4_col1\" class=\"data row4 col1\" >0.0000</td>\n      <td id=\"T_0af3e_row4_col2\" class=\"data row4 col2\" >0.0000</td>\n      <td id=\"T_0af3e_row4_col3\" class=\"data row4 col3\" >0.0000</td>\n      <td id=\"T_0af3e_row4_col4\" class=\"data row4 col4\" >0.0000</td>\n      <td id=\"T_0af3e_row4_col5\" class=\"data row4 col5\" >0.0000</td>\n      <td id=\"T_0af3e_row4_col6\" class=\"data row4 col6\" >0.0000</td>\n    </tr>\n  </tbody>\n</table>\n"
     },
     "metadata": {},
     "output_type": "display_data"
    }
   ],
   "execution_count": 25
  },
  {
   "cell_type": "code",
   "source": "#seattle_us.to_csv(\"../data/mobility/mobility_withinUS_king_predicted.csv\",index=False)",
   "metadata": {
    "cell_id": "aeefad58797e4b94a8dd1a47ce0120d9",
    "tags": [],
    "deepnote_to_be_reexecuted": true,
    "source_hash": "181eea8f",
    "execution_start": 1649891909657,
    "execution_millis": 11,
    "deepnote_cell_type": "code",
    "deepnote_cell_height": 81
   },
   "outputs": [],
   "execution_count": null
  },
  {
   "cell_type": "markdown",
   "source": "<a style='text-decoration:none;line-height:16px;display:flex;color:#5B5B62;padding:10px;justify-content:end;' href='https://deepnote.com?utm_source=created-in-deepnote-cell&projectId=7e17f706-9d17-4bb3-9510-729a073fe6a4' target=\"_blank\">\n<img alt='Created in deepnote.com' style='display:inline;max-height:16px;margin:0px;margin-right:7.5px;' src='data:image/svg+xml;base64,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' > </img>\nCreated in <span style='font-weight:600;margin-left:4px;'>Deepnote</span></a>",
   "metadata": {
    "tags": [],
    "created_in_deepnote_cell": true,
    "deepnote_cell_type": "markdown"
   }
  }
 ],
 "nbformat": 4,
 "nbformat_minor": 2,
 "metadata": {
  "orig_nbformat": 2,
  "deepnote": {
   "is_reactive": false
  },
  "deepnote_notebook_id": "df542249-fa65-4874-b0ec-6dfa24711c70",
  "deepnote_execution_queue": []
 }
}