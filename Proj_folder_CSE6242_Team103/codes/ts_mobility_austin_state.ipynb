{
 "cells": [
  {
   "cell_type": "code",
   "metadata": {
    "tags": [],
    "deepnote_to_be_reexecuted": false,
    "source_hash": "469c8c79",
    "execution_start": 1649893622366,
    "execution_millis": 3520,
    "cell_id": "945cbcb0-d412-4fd8-97bd-2fb1e2737e2e",
    "deepnote_cell_type": "code",
    "deepnote_cell_height": 81
   },
   "source": "from pycaret.time_series import *",
   "execution_count": 1,
   "outputs": []
  },
  {
   "cell_type": "code",
   "metadata": {
    "tags": [],
    "deepnote_to_be_reexecuted": false,
    "source_hash": "9b82ee11",
    "execution_start": 1649893625894,
    "execution_millis": 4,
    "cell_id": "00001-9f207e1b-41a5-49e5-8892-389eff774ac5",
    "deepnote_cell_type": "code",
    "deepnote_cell_height": 81
   },
   "source": "import pandas as pd",
   "execution_count": 2,
   "outputs": []
  },
  {
   "cell_type": "code",
   "metadata": {
    "tags": [],
    "deepnote_to_be_reexecuted": false,
    "source_hash": "c0c64dfa",
    "execution_start": 1649893625906,
    "execution_millis": 12,
    "cell_id": "00002-063fb7dc-ccdf-4c69-86b8-40c7888fc6d8",
    "deepnote_cell_type": "code",
    "deepnote_cell_height": 81
   },
   "source": "df = pd.read_csv(\"/work/6242_team103/Proj_folder_CSE6242_Team103/data/mobility/mobility_withinstate_austin_clean.csv\")",
   "execution_count": 3,
   "outputs": []
  },
  {
   "cell_type": "code",
   "metadata": {
    "tags": [],
    "deepnote_to_be_reexecuted": false,
    "source_hash": "cf26ad4f",
    "execution_start": 1649893625986,
    "execution_millis": 85,
    "cell_id": "00003-e1145db2-6e2c-40fb-b4b3-33dd937f4296",
    "deepnote_cell_type": "code",
    "deepnote_cell_height": 590
   },
   "source": "df['2011'] = df['2011'].str[:-1].astype(float)/100\ndf['2012'] = df['2012'].str[:-1].astype(float)/100\ndf['2013'] = df['2013'].str[:-1].astype(float)/100\ndf['2014'] = df['2014'].str[:-1].astype(float)/100\ndf['2015'] = df['2015'].str[:-1].astype(float)/100\ndf['2016'] = df['2016'].str[:-1].astype(float)/100\ndf['2017'] = df['2017'].str[:-1].astype(float)/100\ndf['2018'] = df['2018'].str[:-1].astype(float)/100\ndf['2019'] = df['2019'].str[:-1].astype(float)/100\ndf['2020'] = df['2020'].str[:-1].astype(float)/100\ndf.head()",
   "execution_count": 4,
   "outputs": [
    {
     "output_type": "execute_result",
     "execution_count": 4,
     "data": {
      "application/vnd.deepnote.dataframe.v3+json": {
       "column_count": 11,
       "row_count": 5,
       "columns": [
        {
         "name": "Zip Code",
         "dtype": "int64",
         "stats": {
          "unique_count": 5,
          "nan_count": 0,
          "min": "78602",
          "max": "78621",
          "histogram": [
           {
            "bin_start": 78602,
            "bin_end": 78603.9,
            "count": 1
           },
           {
            "bin_start": 78603.9,
            "bin_end": 78605.8,
            "count": 0
           },
           {
            "bin_start": 78605.8,
            "bin_end": 78607.7,
            "count": 0
           },
           {
            "bin_start": 78607.7,
            "bin_end": 78609.6,
            "count": 0
           },
           {
            "bin_start": 78609.6,
            "bin_end": 78611.5,
            "count": 0
           },
           {
            "bin_start": 78611.5,
            "bin_end": 78613.4,
            "count": 1
           },
           {
            "bin_start": 78613.4,
            "bin_end": 78615.3,
            "count": 0
           },
           {
            "bin_start": 78615.3,
            "bin_end": 78617.2,
            "count": 2
           },
           {
            "bin_start": 78617.2,
            "bin_end": 78619.1,
            "count": 0
           },
           {
            "bin_start": 78619.1,
            "bin_end": 78621,
            "count": 1
           }
          ]
         }
        },
        {
         "name": "2011",
         "dtype": "float64",
         "stats": {
          "unique_count": 5,
          "nan_count": 0,
          "min": "0.034",
          "max": "0.057999999999999996",
          "histogram": [
           {
            "bin_start": 0.034,
            "bin_end": 0.0364,
            "count": 1
           },
           {
            "bin_start": 0.0364,
            "bin_end": 0.0388,
            "count": 0
           },
           {
            "bin_start": 0.0388,
            "bin_end": 0.0412,
            "count": 1
           },
           {
            "bin_start": 0.0412,
            "bin_end": 0.0436,
            "count": 1
           },
           {
            "bin_start": 0.0436,
            "bin_end": 0.046,
            "count": 0
           },
           {
            "bin_start": 0.046,
            "bin_end": 0.0484,
            "count": 0
           },
           {
            "bin_start": 0.0484,
            "bin_end": 0.0508,
            "count": 1
           },
           {
            "bin_start": 0.0508,
            "bin_end": 0.0532,
            "count": 0
           },
           {
            "bin_start": 0.0532,
            "bin_end": 0.0556,
            "count": 0
           },
           {
            "bin_start": 0.0556,
            "bin_end": 0.057999999999999996,
            "count": 1
           }
          ]
         }
        },
        {
         "name": "2012",
         "dtype": "float64",
         "stats": {
          "unique_count": 4,
          "nan_count": 0,
          "min": "0.038",
          "max": "0.081",
          "histogram": [
           {
            "bin_start": 0.038,
            "bin_end": 0.0423,
            "count": 2
           },
           {
            "bin_start": 0.0423,
            "bin_end": 0.0466,
            "count": 0
           },
           {
            "bin_start": 0.0466,
            "bin_end": 0.0509,
            "count": 1
           },
           {
            "bin_start": 0.0509,
            "bin_end": 0.0552,
            "count": 0
           },
           {
            "bin_start": 0.0552,
            "bin_end": 0.0595,
            "count": 0
           },
           {
            "bin_start": 0.0595,
            "bin_end": 0.0638,
            "count": 0
           },
           {
            "bin_start": 0.0638,
            "bin_end": 0.0681,
            "count": 0
           },
           {
            "bin_start": 0.0681,
            "bin_end": 0.07239999999999999,
            "count": 1
           },
           {
            "bin_start": 0.07239999999999999,
            "bin_end": 0.07669999999999999,
            "count": 0
           },
           {
            "bin_start": 0.07669999999999999,
            "bin_end": 0.081,
            "count": 1
           }
          ]
         }
        },
        {
         "name": "2013",
         "dtype": "float64",
         "stats": {
          "unique_count": 5,
          "nan_count": 0,
          "min": "0.040999999999999995",
          "max": "0.1",
          "histogram": [
           {
            "bin_start": 0.040999999999999995,
            "bin_end": 0.0469,
            "count": 2
           },
           {
            "bin_start": 0.0469,
            "bin_end": 0.0528,
            "count": 1
           },
           {
            "bin_start": 0.0528,
            "bin_end": 0.058699999999999995,
            "count": 0
           },
           {
            "bin_start": 0.058699999999999995,
            "bin_end": 0.06459999999999999,
            "count": 0
           },
           {
            "bin_start": 0.06459999999999999,
            "bin_end": 0.07050000000000001,
            "count": 0
           },
           {
            "bin_start": 0.07050000000000001,
            "bin_end": 0.0764,
            "count": 0
           },
           {
            "bin_start": 0.0764,
            "bin_end": 0.0823,
            "count": 0
           },
           {
            "bin_start": 0.0823,
            "bin_end": 0.0882,
            "count": 1
           },
           {
            "bin_start": 0.0882,
            "bin_end": 0.0941,
            "count": 0
           },
           {
            "bin_start": 0.0941,
            "bin_end": 0.1,
            "count": 1
           }
          ]
         }
        },
        {
         "name": "2014",
         "dtype": "float64",
         "stats": {
          "unique_count": 5,
          "nan_count": 0,
          "min": "0.042",
          "max": "0.1",
          "histogram": [
           {
            "bin_start": 0.042,
            "bin_end": 0.0478,
            "count": 2
           },
           {
            "bin_start": 0.0478,
            "bin_end": 0.0536,
            "count": 0
           },
           {
            "bin_start": 0.0536,
            "bin_end": 0.05940000000000001,
            "count": 0
           },
           {
            "bin_start": 0.05940000000000001,
            "bin_end": 0.06520000000000001,
            "count": 0
           },
           {
            "bin_start": 0.06520000000000001,
            "bin_end": 0.07100000000000001,
            "count": 1
           },
           {
            "bin_start": 0.07100000000000001,
            "bin_end": 0.07680000000000001,
            "count": 0
           },
           {
            "bin_start": 0.07680000000000001,
            "bin_end": 0.0826,
            "count": 1
           },
           {
            "bin_start": 0.0826,
            "bin_end": 0.0884,
            "count": 0
           },
           {
            "bin_start": 0.0884,
            "bin_end": 0.0942,
            "count": 0
           },
           {
            "bin_start": 0.0942,
            "bin_end": 0.1,
            "count": 1
           }
          ]
         }
        },
        {
         "name": "2015",
         "dtype": "float64",
         "stats": {
          "unique_count": 5,
          "nan_count": 0,
          "min": "0.045",
          "max": "0.11199999999999999",
          "histogram": [
           {
            "bin_start": 0.045,
            "bin_end": 0.051699999999999996,
            "count": 1
           },
           {
            "bin_start": 0.051699999999999996,
            "bin_end": 0.058399999999999994,
            "count": 0
           },
           {
            "bin_start": 0.058399999999999994,
            "bin_end": 0.06509999999999999,
            "count": 1
           },
           {
            "bin_start": 0.06509999999999999,
            "bin_end": 0.0718,
            "count": 0
           },
           {
            "bin_start": 0.0718,
            "bin_end": 0.07849999999999999,
            "count": 2
           },
           {
            "bin_start": 0.07849999999999999,
            "bin_end": 0.0852,
            "count": 0
           },
           {
            "bin_start": 0.0852,
            "bin_end": 0.0919,
            "count": 0
           },
           {
            "bin_start": 0.0919,
            "bin_end": 0.0986,
            "count": 0
           },
           {
            "bin_start": 0.0986,
            "bin_end": 0.10529999999999999,
            "count": 0
           },
           {
            "bin_start": 0.10529999999999999,
            "bin_end": 0.11199999999999999,
            "count": 1
           }
          ]
         }
        },
        {
         "name": "2016",
         "dtype": "float64",
         "stats": {
          "unique_count": 5,
          "nan_count": 0,
          "min": "0.054000000000000006",
          "max": "0.099",
          "histogram": [
           {
            "bin_start": 0.054000000000000006,
            "bin_end": 0.0585,
            "count": 2
           },
           {
            "bin_start": 0.0585,
            "bin_end": 0.063,
            "count": 1
           },
           {
            "bin_start": 0.063,
            "bin_end": 0.0675,
            "count": 0
           },
           {
            "bin_start": 0.0675,
            "bin_end": 0.07200000000000001,
            "count": 0
           },
           {
            "bin_start": 0.07200000000000001,
            "bin_end": 0.07650000000000001,
            "count": 0
           },
           {
            "bin_start": 0.07650000000000001,
            "bin_end": 0.081,
            "count": 0
           },
           {
            "bin_start": 0.081,
            "bin_end": 0.0855,
            "count": 0
           },
           {
            "bin_start": 0.0855,
            "bin_end": 0.09,
            "count": 1
           },
           {
            "bin_start": 0.09,
            "bin_end": 0.0945,
            "count": 0
           },
           {
            "bin_start": 0.0945,
            "bin_end": 0.099,
            "count": 1
           }
          ]
         }
        },
        {
         "name": "2017",
         "dtype": "float64",
         "stats": {
          "unique_count": 5,
          "nan_count": 0,
          "min": "0.039",
          "max": "0.08900000000000001",
          "histogram": [
           {
            "bin_start": 0.039,
            "bin_end": 0.044,
            "count": 2
           },
           {
            "bin_start": 0.044,
            "bin_end": 0.049,
            "count": 0
           },
           {
            "bin_start": 0.049,
            "bin_end": 0.054000000000000006,
            "count": 0
           },
           {
            "bin_start": 0.054000000000000006,
            "bin_end": 0.059000000000000004,
            "count": 0
           },
           {
            "bin_start": 0.059000000000000004,
            "bin_end": 0.064,
            "count": 1
           },
           {
            "bin_start": 0.064,
            "bin_end": 0.069,
            "count": 0
           },
           {
            "bin_start": 0.069,
            "bin_end": 0.07400000000000001,
            "count": 0
           },
           {
            "bin_start": 0.07400000000000001,
            "bin_end": 0.07900000000000001,
            "count": 0
           },
           {
            "bin_start": 0.07900000000000001,
            "bin_end": 0.08400000000000002,
            "count": 0
           },
           {
            "bin_start": 0.08400000000000002,
            "bin_end": 0.08900000000000001,
            "count": 2
           }
          ]
         }
        },
        {
         "name": "2018",
         "dtype": "float64",
         "stats": {
          "unique_count": 5,
          "nan_count": 0,
          "min": "0.037000000000000005",
          "max": "0.07400000000000001",
          "histogram": [
           {
            "bin_start": 0.037000000000000005,
            "bin_end": 0.04070000000000001,
            "count": 1
           },
           {
            "bin_start": 0.04070000000000001,
            "bin_end": 0.04440000000000001,
            "count": 0
           },
           {
            "bin_start": 0.04440000000000001,
            "bin_end": 0.048100000000000004,
            "count": 0
           },
           {
            "bin_start": 0.048100000000000004,
            "bin_end": 0.051800000000000006,
            "count": 1
           },
           {
            "bin_start": 0.051800000000000006,
            "bin_end": 0.05550000000000001,
            "count": 0
           },
           {
            "bin_start": 0.05550000000000001,
            "bin_end": 0.05920000000000001,
            "count": 1
           },
           {
            "bin_start": 0.05920000000000001,
            "bin_end": 0.06290000000000001,
            "count": 0
           },
           {
            "bin_start": 0.06290000000000001,
            "bin_end": 0.0666,
            "count": 0
           },
           {
            "bin_start": 0.0666,
            "bin_end": 0.0703,
            "count": 1
           },
           {
            "bin_start": 0.0703,
            "bin_end": 0.07400000000000001,
            "count": 1
           }
          ]
         }
        },
        {
         "name": "2019",
         "dtype": "float64",
         "stats": {
          "unique_count": 4,
          "nan_count": 0,
          "min": "0.036000000000000004",
          "max": "0.086",
          "histogram": [
           {
            "bin_start": 0.036000000000000004,
            "bin_end": 0.041,
            "count": 1
           },
           {
            "bin_start": 0.041,
            "bin_end": 0.046,
            "count": 0
           },
           {
            "bin_start": 0.046,
            "bin_end": 0.051000000000000004,
            "count": 0
           },
           {
            "bin_start": 0.051000000000000004,
            "bin_end": 0.056,
            "count": 2
           },
           {
            "bin_start": 0.056,
            "bin_end": 0.061,
            "count": 0
           },
           {
            "bin_start": 0.061,
            "bin_end": 0.066,
            "count": 1
           },
           {
            "bin_start": 0.066,
            "bin_end": 0.07100000000000001,
            "count": 0
           },
           {
            "bin_start": 0.07100000000000001,
            "bin_end": 0.076,
            "count": 0
           },
           {
            "bin_start": 0.076,
            "bin_end": 0.08099999999999999,
            "count": 0
           },
           {
            "bin_start": 0.08099999999999999,
            "bin_end": 0.086,
            "count": 1
           }
          ]
         }
        },
        {
         "name": "2020",
         "dtype": "float64",
         "stats": {
          "unique_count": 5,
          "nan_count": 0,
          "min": "0.04",
          "max": "0.077",
          "histogram": [
           {
            "bin_start": 0.04,
            "bin_end": 0.0437,
            "count": 1
           },
           {
            "bin_start": 0.0437,
            "bin_end": 0.0474,
            "count": 0
           },
           {
            "bin_start": 0.0474,
            "bin_end": 0.0511,
            "count": 0
           },
           {
            "bin_start": 0.0511,
            "bin_end": 0.0548,
            "count": 0
           },
           {
            "bin_start": 0.0548,
            "bin_end": 0.058499999999999996,
            "count": 2
           },
           {
            "bin_start": 0.058499999999999996,
            "bin_end": 0.0622,
            "count": 1
           },
           {
            "bin_start": 0.0622,
            "bin_end": 0.0659,
            "count": 0
           },
           {
            "bin_start": 0.0659,
            "bin_end": 0.0696,
            "count": 0
           },
           {
            "bin_start": 0.0696,
            "bin_end": 0.0733,
            "count": 0
           },
           {
            "bin_start": 0.0733,
            "bin_end": 0.077,
            "count": 1
           }
          ]
         }
        },
        {
         "name": "_deepnote_index_column",
         "dtype": "int64"
        }
       ],
       "rows": [
        {
         "2011": 0.05,
         "2012": 0.07200000000000001,
         "2013": 0.086,
         "2014": 0.1,
         "2015": 0.11199999999999999,
         "2016": 0.099,
         "2017": 0.08900000000000001,
         "2018": 0.07,
         "2019": 0.062,
         "2020": 0.057,
         "Zip Code": 78602,
         "_deepnote_index_column": 0
        },
        {
         "2011": 0.042,
         "2012": 0.038,
         "2013": 0.044000000000000004,
         "2014": 0.043,
         "2015": 0.045,
         "2016": 0.06,
         "2017": 0.059000000000000004,
         "2018": 0.037000000000000005,
         "2019": 0.036000000000000004,
         "2020": 0.055999999999999994,
         "Zip Code": 78612,
         "_deepnote_index_column": 1
        },
        {
         "2011": 0.057999999999999996,
         "2012": 0.081,
         "2013": 0.1,
         "2014": 0.079,
         "2015": 0.077,
         "2016": 0.055,
         "2017": 0.039,
         "2018": 0.059000000000000004,
         "2019": 0.055999999999999994,
         "2020": 0.061,
         "Zip Code": 78616,
         "_deepnote_index_column": 2
        },
        {
         "2011": 0.034,
         "2012": 0.038,
         "2013": 0.040999999999999995,
         "2014": 0.042,
         "2015": 0.063,
         "2016": 0.054000000000000006,
         "2017": 0.040999999999999995,
         "2018": 0.049,
         "2019": 0.055999999999999994,
         "2020": 0.04,
         "Zip Code": 78617,
         "_deepnote_index_column": 3
        },
        {
         "2011": 0.04,
         "2012": 0.049,
         "2013": 0.048,
         "2014": 0.07,
         "2015": 0.07400000000000001,
         "2016": 0.08900000000000001,
         "2017": 0.08800000000000001,
         "2018": 0.07400000000000001,
         "2019": 0.086,
         "2020": 0.077,
         "Zip Code": 78621,
         "_deepnote_index_column": 4
        }
       ]
      },
      "text/plain": "   Zip Code   2011   2012   2013   2014   2015   2016   2017   2018   2019  \\\n0     78602  0.050  0.072  0.086  0.100  0.112  0.099  0.089  0.070  0.062   \n1     78612  0.042  0.038  0.044  0.043  0.045  0.060  0.059  0.037  0.036   \n2     78616  0.058  0.081  0.100  0.079  0.077  0.055  0.039  0.059  0.056   \n3     78617  0.034  0.038  0.041  0.042  0.063  0.054  0.041  0.049  0.056   \n4     78621  0.040  0.049  0.048  0.070  0.074  0.089  0.088  0.074  0.086   \n\n    2020  \n0  0.057  \n1  0.056  \n2  0.061  \n3  0.040  \n4  0.077  ",
      "text/html": "<div>\n<style scoped>\n    .dataframe tbody tr th:only-of-type {\n        vertical-align: middle;\n    }\n\n    .dataframe tbody tr th {\n        vertical-align: top;\n    }\n\n    .dataframe thead th {\n        text-align: right;\n    }\n</style>\n<table border=\"1\" class=\"dataframe\">\n  <thead>\n    <tr style=\"text-align: right;\">\n      <th></th>\n      <th>Zip Code</th>\n      <th>2011</th>\n      <th>2012</th>\n      <th>2013</th>\n      <th>2014</th>\n      <th>2015</th>\n      <th>2016</th>\n      <th>2017</th>\n      <th>2018</th>\n      <th>2019</th>\n      <th>2020</th>\n    </tr>\n  </thead>\n  <tbody>\n    <tr>\n      <th>0</th>\n      <td>78602</td>\n      <td>0.050</td>\n      <td>0.072</td>\n      <td>0.086</td>\n      <td>0.100</td>\n      <td>0.112</td>\n      <td>0.099</td>\n      <td>0.089</td>\n      <td>0.070</td>\n      <td>0.062</td>\n      <td>0.057</td>\n    </tr>\n    <tr>\n      <th>1</th>\n      <td>78612</td>\n      <td>0.042</td>\n      <td>0.038</td>\n      <td>0.044</td>\n      <td>0.043</td>\n      <td>0.045</td>\n      <td>0.060</td>\n      <td>0.059</td>\n      <td>0.037</td>\n      <td>0.036</td>\n      <td>0.056</td>\n    </tr>\n    <tr>\n      <th>2</th>\n      <td>78616</td>\n      <td>0.058</td>\n      <td>0.081</td>\n      <td>0.100</td>\n      <td>0.079</td>\n      <td>0.077</td>\n      <td>0.055</td>\n      <td>0.039</td>\n      <td>0.059</td>\n      <td>0.056</td>\n      <td>0.061</td>\n    </tr>\n    <tr>\n      <th>3</th>\n      <td>78617</td>\n      <td>0.034</td>\n      <td>0.038</td>\n      <td>0.041</td>\n      <td>0.042</td>\n      <td>0.063</td>\n      <td>0.054</td>\n      <td>0.041</td>\n      <td>0.049</td>\n      <td>0.056</td>\n      <td>0.040</td>\n    </tr>\n    <tr>\n      <th>4</th>\n      <td>78621</td>\n      <td>0.040</td>\n      <td>0.049</td>\n      <td>0.048</td>\n      <td>0.070</td>\n      <td>0.074</td>\n      <td>0.089</td>\n      <td>0.088</td>\n      <td>0.074</td>\n      <td>0.086</td>\n      <td>0.077</td>\n    </tr>\n  </tbody>\n</table>\n</div>"
     },
     "metadata": {}
    }
   ]
  },
  {
   "cell_type": "code",
   "metadata": {
    "tags": [],
    "deepnote_to_be_reexecuted": false,
    "source_hash": "1bc6f6ab",
    "execution_start": 1649893626024,
    "execution_millis": 96850,
    "cell_id": "00004-50ca5682-14c8-4bb2-baf6-9df8167b0e4b",
    "deepnote_cell_type": "code",
    "deepnote_cell_height": 475.796875,
    "deepnote_output_heights": [
     611,
     177,
     611,
     null,
     112
    ]
   },
   "source": "list_2021 = []\nlist_2022 = []\nfor i in df['Zip Code']:\n    data = df[df['Zip Code']==i].transpose().reset_index(drop=True)\n    s = setup(data=data, seasonal_period=\"Y\", session_id=123)\n    naive = create_model(\"naive\")\n    list_2021.append(predict_model(naive, fh=2)['y_pred'].iloc[0])\n    list_2022.append(predict_model(naive, fh=2)['y_pred'].iloc[1])\npred_2021 = pd.Series(list_2021, name='2021')\npred_2022 = pd.Series(list_2022, name='2022')\ndf = pd.concat([df, pred_2021, pred_2022], axis=1)",
   "execution_count": 5,
   "outputs": [
    {
     "output_type": "clearOutput"
    },
    {
     "data": {
      "text/plain": "<pandas.io.formats.style.Styler at 0x7f48c04ffdd0>",
      "text/html": "<style type=\"text/css\">\n#T_4f772_row3_col0, #T_4f772_row3_col1, #T_4f772_row3_col2, #T_4f772_row3_col3, #T_4f772_row3_col4, #T_4f772_row3_col5, #T_4f772_row3_col6 {\n  background: yellow;\n}\n</style>\n<table id=\"T_4f772_\">\n  <thead>\n    <tr>\n      <th class=\"blank level0\" >&nbsp;</th>\n      <th class=\"col_heading level0 col0\" >cutoff</th>\n      <th class=\"col_heading level0 col1\" >MAE</th>\n      <th class=\"col_heading level0 col2\" >RMSE</th>\n      <th class=\"col_heading level0 col3\" >MAPE</th>\n      <th class=\"col_heading level0 col4\" >SMAPE</th>\n      <th class=\"col_heading level0 col5\" >MASE</th>\n      <th class=\"col_heading level0 col6\" >RMSSE</th>\n    </tr>\n  </thead>\n  <tbody>\n    <tr>\n      <th id=\"T_4f772_level0_row0\" class=\"row_heading level0 row0\" >0</th>\n      <td id=\"T_4f772_row0_col0\" class=\"data row0 col0\" >6.0000</td>\n      <td id=\"T_4f772_row0_col1\" class=\"data row0 col1\" >0.0020</td>\n      <td id=\"T_4f772_row0_col2\" class=\"data row0 col2\" >0.0020</td>\n      <td id=\"T_4f772_row0_col3\" class=\"data row0 col3\" >0.0290</td>\n      <td id=\"T_4f772_row0_col4\" class=\"data row0 col4\" >0.0294</td>\n      <td id=\"T_4f772_row0_col5\" class=\"data row0 col5\" >0.0000</td>\n      <td id=\"T_4f772_row0_col6\" class=\"data row0 col6\" >0.0000</td>\n    </tr>\n    <tr>\n      <th id=\"T_4f772_level0_row1\" class=\"row_heading level0 row1\" >1</th>\n      <td id=\"T_4f772_row1_col0\" class=\"data row1 col0\" >7.0000</td>\n      <td id=\"T_4f772_row1_col1\" class=\"data row1 col1\" >0.0010</td>\n      <td id=\"T_4f772_row1_col2\" class=\"data row1 col2\" >0.0010</td>\n      <td id=\"T_4f772_row1_col3\" class=\"data row1 col3\" >0.0143</td>\n      <td id=\"T_4f772_row1_col4\" class=\"data row1 col4\" >0.0144</td>\n      <td id=\"T_4f772_row1_col5\" class=\"data row1 col5\" >0.0000</td>\n      <td id=\"T_4f772_row1_col6\" class=\"data row1 col6\" >0.0000</td>\n    </tr>\n    <tr>\n      <th id=\"T_4f772_level0_row2\" class=\"row_heading level0 row2\" >2</th>\n      <td id=\"T_4f772_row2_col0\" class=\"data row2 col0\" >8.0000</td>\n      <td id=\"T_4f772_row2_col1\" class=\"data row2 col1\" >0.0070</td>\n      <td id=\"T_4f772_row2_col2\" class=\"data row2 col2\" >0.0070</td>\n      <td id=\"T_4f772_row2_col3\" class=\"data row2 col3\" >0.1111</td>\n      <td id=\"T_4f772_row2_col4\" class=\"data row2 col4\" >0.1053</td>\n      <td id=\"T_4f772_row2_col5\" class=\"data row2 col5\" >0.0000</td>\n      <td id=\"T_4f772_row2_col6\" class=\"data row2 col6\" >0.0000</td>\n    </tr>\n    <tr>\n      <th id=\"T_4f772_level0_row3\" class=\"row_heading level0 row3\" >Mean</th>\n      <td id=\"T_4f772_row3_col0\" class=\"data row3 col0\" >nan</td>\n      <td id=\"T_4f772_row3_col1\" class=\"data row3 col1\" >0.0033</td>\n      <td id=\"T_4f772_row3_col2\" class=\"data row3 col2\" >0.0033</td>\n      <td id=\"T_4f772_row3_col3\" class=\"data row3 col3\" >0.0515</td>\n      <td id=\"T_4f772_row3_col4\" class=\"data row3 col4\" >0.0497</td>\n      <td id=\"T_4f772_row3_col5\" class=\"data row3 col5\" >0.0000</td>\n      <td id=\"T_4f772_row3_col6\" class=\"data row3 col6\" >0.0000</td>\n    </tr>\n    <tr>\n      <th id=\"T_4f772_level0_row4\" class=\"row_heading level0 row4\" >SD</th>\n      <td id=\"T_4f772_row4_col0\" class=\"data row4 col0\" >nan</td>\n      <td id=\"T_4f772_row4_col1\" class=\"data row4 col1\" >0.0026</td>\n      <td id=\"T_4f772_row4_col2\" class=\"data row4 col2\" >0.0026</td>\n      <td id=\"T_4f772_row4_col3\" class=\"data row4 col3\" >0.0426</td>\n      <td id=\"T_4f772_row4_col4\" class=\"data row4 col4\" >0.0398</td>\n      <td id=\"T_4f772_row4_col5\" class=\"data row4 col5\" >0.0000</td>\n      <td id=\"T_4f772_row4_col6\" class=\"data row4 col6\" >0.0000</td>\n    </tr>\n  </tbody>\n</table>\n"
     },
     "metadata": {},
     "output_type": "display_data"
    }
   ]
  },
  {
   "cell_type": "code",
   "metadata": {
    "tags": [],
    "deepnote_to_be_reexecuted": false,
    "source_hash": "d2bfc3d5",
    "execution_start": 1649893722893,
    "cell_id": "00005-dfa01f86-f021-4027-80fb-6bc9eb7dce4a",
    "owner_user_id": "c615708d-5eaa-4c61-b12c-0173be8ddd8f",
    "execution_millis": 3,
    "deepnote_cell_type": "code",
    "deepnote_cell_height": 81
   },
   "source": "df.to_csv(\"../data/mobility/predict_mobility_austin_state.csv\")",
   "execution_count": 6,
   "outputs": []
  },
  {
   "cell_type": "markdown",
   "source": "<a style='text-decoration:none;line-height:16px;display:flex;color:#5B5B62;padding:10px;justify-content:end;' href='https://deepnote.com?utm_source=created-in-deepnote-cell&projectId=7e17f706-9d17-4bb3-9510-729a073fe6a4' target=\"_blank\">\n<img alt='Created in deepnote.com' style='display:inline;max-height:16px;margin:0px;margin-right:7.5px;' src='data:image/svg+xml;base64,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' > </img>\nCreated in <span style='font-weight:600;margin-left:4px;'>Deepnote</span></a>",
   "metadata": {
    "tags": [],
    "created_in_deepnote_cell": true,
    "deepnote_cell_type": "markdown"
   }
  }
 ],
 "nbformat": 4,
 "nbformat_minor": 2,
 "metadata": {
  "orig_nbformat": 2,
  "deepnote": {
   "is_reactive": false
  },
  "deepnote_notebook_id": "e850dbf8-8075-4710-bc23-d271fb920756",
  "deepnote_execution_queue": []
 }
}