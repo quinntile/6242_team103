{
 "cells": [
  {
   "cell_type": "code",
   "metadata": {
    "tags": [],
    "cell_id": "c4ceb9a1-20d9-4c8f-b15e-ee430f6ce6e8",
    "deepnote_to_be_reexecuted": false,
    "source_hash": "469c8c79",
    "execution_start": 1649893240207,
    "execution_millis": 3636,
    "deepnote_cell_type": "code",
    "deepnote_cell_height": 81
   },
   "source": "from pycaret.time_series import *",
   "execution_count": 1,
   "outputs": []
  },
  {
   "cell_type": "code",
   "source": "import pandas as pd",
   "metadata": {
    "cell_id": "2de62e2ca9c54bb98097403c37df9c92",
    "tags": [],
    "deepnote_to_be_reexecuted": false,
    "source_hash": "9b82ee11",
    "execution_start": 1649893243850,
    "execution_millis": 6,
    "deepnote_cell_type": "code",
    "deepnote_cell_height": 81
   },
   "outputs": [],
   "execution_count": 2
  },
  {
   "cell_type": "code",
   "source": "df = pd.read_csv(\"/work/6242_team103/Proj_folder_CSE6242_Team103/data/mobility/mobility_withinUS_austin_clean.csv\")",
   "metadata": {
    "cell_id": "10e640cd14e64149aa14a88b81822a65",
    "tags": [],
    "deepnote_to_be_reexecuted": false,
    "source_hash": "46dde3c8",
    "execution_start": 1649893243859,
    "execution_millis": 9,
    "deepnote_cell_type": "code",
    "deepnote_cell_height": 81
   },
   "outputs": [],
   "execution_count": 3
  },
  {
   "cell_type": "code",
   "source": "df['2011'] = df['2011'].str[:-1].astype(float)/100\ndf['2012'] = df['2012'].str[:-1].astype(float)/100\ndf['2013'] = df['2013'].str[:-1].astype(float)/100\ndf['2014'] = df['2014'].str[:-1].astype(float)/100\ndf['2015'] = df['2015'].str[:-1].astype(float)/100\ndf['2016'] = df['2016'].str[:-1].astype(float)/100\ndf['2017'] = df['2017'].str[:-1].astype(float)/100\ndf['2018'] = df['2018'].str[:-1].astype(float)/100\ndf['2019'] = df['2019'].str[:-1].astype(float)/100\ndf['2020'] = df['2020'].str[:-1].astype(float)/100\ndf.head()",
   "metadata": {
    "cell_id": "a31e90bccbc04e1fb66e8633e564cd52",
    "tags": [],
    "deepnote_to_be_reexecuted": false,
    "source_hash": "cf26ad4f",
    "execution_start": 1649893243911,
    "execution_millis": 97,
    "deepnote_cell_type": "code",
    "deepnote_cell_height": 590
   },
   "outputs": [
    {
     "output_type": "execute_result",
     "execution_count": 4,
     "data": {
      "application/vnd.deepnote.dataframe.v3+json": {
       "column_count": 11,
       "row_count": 5,
       "columns": [
        {
         "name": "Zip Code",
         "dtype": "int64",
         "stats": {
          "unique_count": 5,
          "nan_count": 0,
          "min": "78602",
          "max": "78621",
          "histogram": [
           {
            "bin_start": 78602,
            "bin_end": 78603.9,
            "count": 1
           },
           {
            "bin_start": 78603.9,
            "bin_end": 78605.8,
            "count": 0
           },
           {
            "bin_start": 78605.8,
            "bin_end": 78607.7,
            "count": 0
           },
           {
            "bin_start": 78607.7,
            "bin_end": 78609.6,
            "count": 0
           },
           {
            "bin_start": 78609.6,
            "bin_end": 78611.5,
            "count": 0
           },
           {
            "bin_start": 78611.5,
            "bin_end": 78613.4,
            "count": 1
           },
           {
            "bin_start": 78613.4,
            "bin_end": 78615.3,
            "count": 0
           },
           {
            "bin_start": 78615.3,
            "bin_end": 78617.2,
            "count": 2
           },
           {
            "bin_start": 78617.2,
            "bin_end": 78619.1,
            "count": 0
           },
           {
            "bin_start": 78619.1,
            "bin_end": 78621,
            "count": 1
           }
          ]
         }
        },
        {
         "name": "2011",
         "dtype": "float64",
         "stats": {
          "unique_count": 4,
          "nan_count": 0,
          "min": "0.006999999999999999",
          "max": "0.023",
          "histogram": [
           {
            "bin_start": 0.006999999999999999,
            "bin_end": 0.0086,
            "count": 2
           },
           {
            "bin_start": 0.0086,
            "bin_end": 0.010199999999999999,
            "count": 0
           },
           {
            "bin_start": 0.010199999999999999,
            "bin_end": 0.0118,
            "count": 0
           },
           {
            "bin_start": 0.0118,
            "bin_end": 0.013399999999999999,
            "count": 0
           },
           {
            "bin_start": 0.013399999999999999,
            "bin_end": 0.015,
            "count": 0
           },
           {
            "bin_start": 0.015,
            "bin_end": 0.0166,
            "count": 1
           },
           {
            "bin_start": 0.0166,
            "bin_end": 0.0182,
            "count": 1
           },
           {
            "bin_start": 0.0182,
            "bin_end": 0.019799999999999998,
            "count": 0
           },
           {
            "bin_start": 0.019799999999999998,
            "bin_end": 0.021400000000000002,
            "count": 0
           },
           {
            "bin_start": 0.021400000000000002,
            "bin_end": 0.023,
            "count": 1
           }
          ]
         }
        },
        {
         "name": "2012",
         "dtype": "float64",
         "stats": {
          "unique_count": 5,
          "nan_count": 0,
          "min": "0.005",
          "max": "0.027999999999999997",
          "histogram": [
           {
            "bin_start": 0.005,
            "bin_end": 0.007299999999999999,
            "count": 1
           },
           {
            "bin_start": 0.007299999999999999,
            "bin_end": 0.0096,
            "count": 0
           },
           {
            "bin_start": 0.0096,
            "bin_end": 0.011899999999999997,
            "count": 1
           },
           {
            "bin_start": 0.011899999999999997,
            "bin_end": 0.014199999999999997,
            "count": 1
           },
           {
            "bin_start": 0.014199999999999997,
            "bin_end": 0.016499999999999997,
            "count": 1
           },
           {
            "bin_start": 0.016499999999999997,
            "bin_end": 0.018799999999999997,
            "count": 0
           },
           {
            "bin_start": 0.018799999999999997,
            "bin_end": 0.021099999999999997,
            "count": 0
           },
           {
            "bin_start": 0.021099999999999997,
            "bin_end": 0.023399999999999997,
            "count": 0
           },
           {
            "bin_start": 0.023399999999999997,
            "bin_end": 0.025699999999999997,
            "count": 0
           },
           {
            "bin_start": 0.025699999999999997,
            "bin_end": 0.027999999999999997,
            "count": 1
           }
          ]
         }
        },
        {
         "name": "2013",
         "dtype": "float64",
         "stats": {
          "unique_count": 4,
          "nan_count": 0,
          "min": "0.002",
          "max": "0.025",
          "histogram": [
           {
            "bin_start": 0.002,
            "bin_end": 0.0043,
            "count": 1
           },
           {
            "bin_start": 0.0043,
            "bin_end": 0.0066,
            "count": 2
           },
           {
            "bin_start": 0.0066,
            "bin_end": 0.0089,
            "count": 0
           },
           {
            "bin_start": 0.0089,
            "bin_end": 0.0112,
            "count": 0
           },
           {
            "bin_start": 0.0112,
            "bin_end": 0.0135,
            "count": 0
           },
           {
            "bin_start": 0.0135,
            "bin_end": 0.0158,
            "count": 0
           },
           {
            "bin_start": 0.0158,
            "bin_end": 0.018099999999999998,
            "count": 1
           },
           {
            "bin_start": 0.018099999999999998,
            "bin_end": 0.0204,
            "count": 0
           },
           {
            "bin_start": 0.0204,
            "bin_end": 0.022699999999999998,
            "count": 0
           },
           {
            "bin_start": 0.022699999999999998,
            "bin_end": 0.025,
            "count": 1
           }
          ]
         }
        },
        {
         "name": "2014",
         "dtype": "float64",
         "stats": {
          "unique_count": 5,
          "nan_count": 0,
          "min": "0.0",
          "max": "0.017",
          "histogram": [
           {
            "bin_start": 0,
            "bin_end": 0.0017000000000000001,
            "count": 1
           },
           {
            "bin_start": 0.0017000000000000001,
            "bin_end": 0.0034000000000000002,
            "count": 1
           },
           {
            "bin_start": 0.0034000000000000002,
            "bin_end": 0.0051,
            "count": 0
           },
           {
            "bin_start": 0.0051,
            "bin_end": 0.0068000000000000005,
            "count": 0
           },
           {
            "bin_start": 0.0068000000000000005,
            "bin_end": 0.0085,
            "count": 0
           },
           {
            "bin_start": 0.0085,
            "bin_end": 0.0102,
            "count": 1
           },
           {
            "bin_start": 0.0102,
            "bin_end": 0.0119,
            "count": 0
           },
           {
            "bin_start": 0.0119,
            "bin_end": 0.013600000000000001,
            "count": 0
           },
           {
            "bin_start": 0.013600000000000001,
            "bin_end": 0.015300000000000001,
            "count": 0
           },
           {
            "bin_start": 0.015300000000000001,
            "bin_end": 0.017,
            "count": 2
           }
          ]
         }
        },
        {
         "name": "2015",
         "dtype": "float64",
         "stats": {
          "unique_count": 5,
          "nan_count": 0,
          "min": "0.004",
          "max": "0.019",
          "histogram": [
           {
            "bin_start": 0.004,
            "bin_end": 0.0055,
            "count": 1
           },
           {
            "bin_start": 0.0055,
            "bin_end": 0.007,
            "count": 1
           },
           {
            "bin_start": 0.007,
            "bin_end": 0.0085,
            "count": 0
           },
           {
            "bin_start": 0.0085,
            "bin_end": 0.01,
            "count": 0
           },
           {
            "bin_start": 0.01,
            "bin_end": 0.0115,
            "count": 0
           },
           {
            "bin_start": 0.0115,
            "bin_end": 0.013000000000000001,
            "count": 0
           },
           {
            "bin_start": 0.013000000000000001,
            "bin_end": 0.0145,
            "count": 0
           },
           {
            "bin_start": 0.0145,
            "bin_end": 0.016,
            "count": 1
           },
           {
            "bin_start": 0.016,
            "bin_end": 0.0175,
            "count": 0
           },
           {
            "bin_start": 0.0175,
            "bin_end": 0.019,
            "count": 2
           }
          ]
         }
        },
        {
         "name": "2016",
         "dtype": "float64",
         "stats": {
          "unique_count": 5,
          "nan_count": 0,
          "min": "0.002",
          "max": "0.019",
          "histogram": [
           {
            "bin_start": 0.002,
            "bin_end": 0.0037,
            "count": 1
           },
           {
            "bin_start": 0.0037,
            "bin_end": 0.0054,
            "count": 0
           },
           {
            "bin_start": 0.0054,
            "bin_end": 0.0071,
            "count": 1
           },
           {
            "bin_start": 0.0071,
            "bin_end": 0.0088,
            "count": 0
           },
           {
            "bin_start": 0.0088,
            "bin_end": 0.0105,
            "count": 0
           },
           {
            "bin_start": 0.0105,
            "bin_end": 0.0122,
            "count": 1
           },
           {
            "bin_start": 0.0122,
            "bin_end": 0.013900000000000001,
            "count": 0
           },
           {
            "bin_start": 0.013900000000000001,
            "bin_end": 0.015600000000000001,
            "count": 0
           },
           {
            "bin_start": 0.015600000000000001,
            "bin_end": 0.017300000000000003,
            "count": 0
           },
           {
            "bin_start": 0.017300000000000003,
            "bin_end": 0.019,
            "count": 2
           }
          ]
         }
        },
        {
         "name": "2017",
         "dtype": "float64",
         "stats": {
          "unique_count": 5,
          "nan_count": 0,
          "min": "0.008",
          "max": "0.018000000000000002",
          "histogram": [
           {
            "bin_start": 0.008,
            "bin_end": 0.009000000000000001,
            "count": 1
           },
           {
            "bin_start": 0.009000000000000001,
            "bin_end": 0.01,
            "count": 0
           },
           {
            "bin_start": 0.01,
            "bin_end": 0.011000000000000001,
            "count": 0
           },
           {
            "bin_start": 0.011000000000000001,
            "bin_end": 0.012,
            "count": 1
           },
           {
            "bin_start": 0.012,
            "bin_end": 0.013000000000000001,
            "count": 0
           },
           {
            "bin_start": 0.013000000000000001,
            "bin_end": 0.014000000000000002,
            "count": 0
           },
           {
            "bin_start": 0.014000000000000002,
            "bin_end": 0.015000000000000003,
            "count": 1
           },
           {
            "bin_start": 0.015000000000000003,
            "bin_end": 0.016,
            "count": 0
           },
           {
            "bin_start": 0.016,
            "bin_end": 0.017,
            "count": 0
           },
           {
            "bin_start": 0.017,
            "bin_end": 0.018000000000000002,
            "count": 2
           }
          ]
         }
        },
        {
         "name": "2018",
         "dtype": "float64",
         "stats": {
          "unique_count": 5,
          "nan_count": 0,
          "min": "0.006999999999999999",
          "max": "0.02",
          "histogram": [
           {
            "bin_start": 0.006999999999999999,
            "bin_end": 0.0083,
            "count": 1
           },
           {
            "bin_start": 0.0083,
            "bin_end": 0.0096,
            "count": 0
           },
           {
            "bin_start": 0.0096,
            "bin_end": 0.0109,
            "count": 0
           },
           {
            "bin_start": 0.0109,
            "bin_end": 0.012199999999999999,
            "count": 1
           },
           {
            "bin_start": 0.012199999999999999,
            "bin_end": 0.0135,
            "count": 0
           },
           {
            "bin_start": 0.0135,
            "bin_end": 0.0148,
            "count": 0
           },
           {
            "bin_start": 0.0148,
            "bin_end": 0.0161,
            "count": 1
           },
           {
            "bin_start": 0.0161,
            "bin_end": 0.0174,
            "count": 0
           },
           {
            "bin_start": 0.0174,
            "bin_end": 0.0187,
            "count": 0
           },
           {
            "bin_start": 0.0187,
            "bin_end": 0.02,
            "count": 2
           }
          ]
         }
        },
        {
         "name": "2019",
         "dtype": "float64",
         "stats": {
          "unique_count": 4,
          "nan_count": 0,
          "min": "0.013000000000000001",
          "max": "0.023",
          "histogram": [
           {
            "bin_start": 0.013000000000000001,
            "bin_end": 0.014,
            "count": 2
           },
           {
            "bin_start": 0.014,
            "bin_end": 0.015000000000000001,
            "count": 0
           },
           {
            "bin_start": 0.015000000000000001,
            "bin_end": 0.016,
            "count": 0
           },
           {
            "bin_start": 0.016,
            "bin_end": 0.017,
            "count": 0
           },
           {
            "bin_start": 0.017,
            "bin_end": 0.018000000000000002,
            "count": 0
           },
           {
            "bin_start": 0.018000000000000002,
            "bin_end": 0.019,
            "count": 0
           },
           {
            "bin_start": 0.019,
            "bin_end": 0.02,
            "count": 2
           },
           {
            "bin_start": 0.02,
            "bin_end": 0.020999999999999998,
            "count": 0
           },
           {
            "bin_start": 0.020999999999999998,
            "bin_end": 0.022,
            "count": 0
           },
           {
            "bin_start": 0.022,
            "bin_end": 0.023,
            "count": 1
           }
          ]
         }
        },
        {
         "name": "2020",
         "dtype": "float64",
         "stats": {
          "unique_count": 5,
          "nan_count": 0,
          "min": "0.006",
          "max": "0.031",
          "histogram": [
           {
            "bin_start": 0.006,
            "bin_end": 0.0085,
            "count": 1
           },
           {
            "bin_start": 0.0085,
            "bin_end": 0.011,
            "count": 0
           },
           {
            "bin_start": 0.011,
            "bin_end": 0.0135,
            "count": 1
           },
           {
            "bin_start": 0.0135,
            "bin_end": 0.016,
            "count": 1
           },
           {
            "bin_start": 0.016,
            "bin_end": 0.018500000000000003,
            "count": 0
           },
           {
            "bin_start": 0.018500000000000003,
            "bin_end": 0.020999999999999998,
            "count": 0
           },
           {
            "bin_start": 0.020999999999999998,
            "bin_end": 0.0235,
            "count": 0
           },
           {
            "bin_start": 0.0235,
            "bin_end": 0.026000000000000002,
            "count": 0
           },
           {
            "bin_start": 0.026000000000000002,
            "bin_end": 0.028499999999999998,
            "count": 1
           },
           {
            "bin_start": 0.028499999999999998,
            "bin_end": 0.031,
            "count": 1
           }
          ]
         }
        },
        {
         "name": "_deepnote_index_column",
         "dtype": "int64"
        }
       ],
       "rows": [
        {
         "2011": 0.023,
         "2012": 0.027999999999999997,
         "2013": 0.025,
         "2014": 0.017,
         "2015": 0.018000000000000002,
         "2016": 0.018000000000000002,
         "2017": 0.017,
         "2018": 0.012,
         "2019": 0.013000000000000001,
         "2020": 0.012,
         "Zip Code": 78602,
         "_deepnote_index_column": 0
        },
        {
         "2011": 0.015,
         "2012": 0.012,
         "2013": 0.016,
         "2014": 0.016,
         "2015": 0.015,
         "2016": 0.012,
         "2017": 0.008,
         "2018": 0.006999999999999999,
         "2019": 0.019,
         "2020": 0.031,
         "Zip Code": 78612,
         "_deepnote_index_column": 1
        },
        {
         "2011": 0.018000000000000002,
         "2012": 0.016,
         "2013": 0.002,
         "2014": 0,
         "2015": 0.019,
         "2016": 0.019,
         "2017": 0.018000000000000002,
         "2018": 0.019,
         "2019": 0.019,
         "2020": 0.006,
         "Zip Code": 78616,
         "_deepnote_index_column": 2
        },
        {
         "2011": 0.006999999999999999,
         "2012": 0.005,
         "2013": 0.006,
         "2014": 0.003,
         "2015": 0.004,
         "2016": 0.002,
         "2017": 0.011000000000000001,
         "2018": 0.02,
         "2019": 0.023,
         "2020": 0.026000000000000002,
         "Zip Code": 78617,
         "_deepnote_index_column": 3
        },
        {
         "2011": 0.006999999999999999,
         "2012": 0.01,
         "2013": 0.006,
         "2014": 0.009000000000000001,
         "2015": 0.006999999999999999,
         "2016": 0.006999999999999999,
         "2017": 0.015,
         "2018": 0.015,
         "2019": 0.013999999999999999,
         "2020": 0.013999999999999999,
         "Zip Code": 78621,
         "_deepnote_index_column": 4
        }
       ]
      },
      "text/plain": "   Zip Code   2011   2012   2013   2014   2015   2016   2017   2018   2019  \\\n0     78602  0.023  0.028  0.025  0.017  0.018  0.018  0.017  0.012  0.013   \n1     78612  0.015  0.012  0.016  0.016  0.015  0.012  0.008  0.007  0.019   \n2     78616  0.018  0.016  0.002  0.000  0.019  0.019  0.018  0.019  0.019   \n3     78617  0.007  0.005  0.006  0.003  0.004  0.002  0.011  0.020  0.023   \n4     78621  0.007  0.010  0.006  0.009  0.007  0.007  0.015  0.015  0.014   \n\n    2020  \n0  0.012  \n1  0.031  \n2  0.006  \n3  0.026  \n4  0.014  ",
      "text/html": "<div>\n<style scoped>\n    .dataframe tbody tr th:only-of-type {\n        vertical-align: middle;\n    }\n\n    .dataframe tbody tr th {\n        vertical-align: top;\n    }\n\n    .dataframe thead th {\n        text-align: right;\n    }\n</style>\n<table border=\"1\" class=\"dataframe\">\n  <thead>\n    <tr style=\"text-align: right;\">\n      <th></th>\n      <th>Zip Code</th>\n      <th>2011</th>\n      <th>2012</th>\n      <th>2013</th>\n      <th>2014</th>\n      <th>2015</th>\n      <th>2016</th>\n      <th>2017</th>\n      <th>2018</th>\n      <th>2019</th>\n      <th>2020</th>\n    </tr>\n  </thead>\n  <tbody>\n    <tr>\n      <th>0</th>\n      <td>78602</td>\n      <td>0.023</td>\n      <td>0.028</td>\n      <td>0.025</td>\n      <td>0.017</td>\n      <td>0.018</td>\n      <td>0.018</td>\n      <td>0.017</td>\n      <td>0.012</td>\n      <td>0.013</td>\n      <td>0.012</td>\n    </tr>\n    <tr>\n      <th>1</th>\n      <td>78612</td>\n      <td>0.015</td>\n      <td>0.012</td>\n      <td>0.016</td>\n      <td>0.016</td>\n      <td>0.015</td>\n      <td>0.012</td>\n      <td>0.008</td>\n      <td>0.007</td>\n      <td>0.019</td>\n      <td>0.031</td>\n    </tr>\n    <tr>\n      <th>2</th>\n      <td>78616</td>\n      <td>0.018</td>\n      <td>0.016</td>\n      <td>0.002</td>\n      <td>0.000</td>\n      <td>0.019</td>\n      <td>0.019</td>\n      <td>0.018</td>\n      <td>0.019</td>\n      <td>0.019</td>\n      <td>0.006</td>\n    </tr>\n    <tr>\n      <th>3</th>\n      <td>78617</td>\n      <td>0.007</td>\n      <td>0.005</td>\n      <td>0.006</td>\n      <td>0.003</td>\n      <td>0.004</td>\n      <td>0.002</td>\n      <td>0.011</td>\n      <td>0.020</td>\n      <td>0.023</td>\n      <td>0.026</td>\n    </tr>\n    <tr>\n      <th>4</th>\n      <td>78621</td>\n      <td>0.007</td>\n      <td>0.010</td>\n      <td>0.006</td>\n      <td>0.009</td>\n      <td>0.007</td>\n      <td>0.007</td>\n      <td>0.015</td>\n      <td>0.015</td>\n      <td>0.014</td>\n      <td>0.014</td>\n    </tr>\n  </tbody>\n</table>\n</div>"
     },
     "metadata": {}
    }
   ],
   "execution_count": 4
  },
  {
   "cell_type": "code",
   "source": "list_2021 = []\nlist_2022 = []\nfor i in df['Zip Code']:\n    data = df[df['Zip Code']==i].transpose().reset_index(drop=True)\n    s = setup(data=data, seasonal_period=\"Y\", session_id=123)\n    naive = create_model(\"naive\")\n    list_2021.append(predict_model(naive, fh=2)['y_pred'].iloc[0])\n    list_2022.append(predict_model(naive, fh=2)['y_pred'].iloc[1])\npred_2021 = pd.Series(list_2021, name='2021')\npred_2022 = pd.Series(list_2022, name='2022')\ndf = pd.concat([df, pred_2021, pred_2022], axis=1)",
   "metadata": {
    "cell_id": "577688ab1f724c1aa9966ae107b5e216",
    "tags": [],
    "deepnote_to_be_reexecuted": false,
    "source_hash": "1bc6f6ab",
    "execution_start": 1649893243960,
    "execution_millis": 143188,
    "deepnote_cell_type": "code",
    "deepnote_cell_height": 475.796875,
    "deepnote_output_heights": [
     611,
     177,
     611,
     null,
     112
    ]
   },
   "outputs": [
    {
     "output_type": "clearOutput"
    },
    {
     "data": {
      "text/plain": "<pandas.io.formats.style.Styler at 0x7fc566452690>",
      "text/html": "<style type=\"text/css\">\n#T_5deb1_row3_col0, #T_5deb1_row3_col1, #T_5deb1_row3_col2, #T_5deb1_row3_col3, #T_5deb1_row3_col4, #T_5deb1_row3_col5, #T_5deb1_row3_col6 {\n  background: yellow;\n}\n</style>\n<table id=\"T_5deb1_\">\n  <thead>\n    <tr>\n      <th class=\"blank level0\" >&nbsp;</th>\n      <th class=\"col_heading level0 col0\" >cutoff</th>\n      <th class=\"col_heading level0 col1\" >MAE</th>\n      <th class=\"col_heading level0 col2\" >RMSE</th>\n      <th class=\"col_heading level0 col3\" >MAPE</th>\n      <th class=\"col_heading level0 col4\" >SMAPE</th>\n      <th class=\"col_heading level0 col5\" >MASE</th>\n      <th class=\"col_heading level0 col6\" >RMSSE</th>\n    </tr>\n  </thead>\n  <tbody>\n    <tr>\n      <th id=\"T_5deb1_level0_row0\" class=\"row_heading level0 row0\" >0</th>\n      <td id=\"T_5deb1_row0_col0\" class=\"data row0 col0\" >6.0000</td>\n      <td id=\"T_5deb1_row0_col1\" class=\"data row0 col1\" >0.0090</td>\n      <td id=\"T_5deb1_row0_col2\" class=\"data row0 col2\" >0.0090</td>\n      <td id=\"T_5deb1_row0_col3\" class=\"data row0 col3\" >0.1875</td>\n      <td id=\"T_5deb1_row0_col4\" class=\"data row0 col4\" >0.1714</td>\n      <td id=\"T_5deb1_row0_col5\" class=\"data row0 col5\" >0.0000</td>\n      <td id=\"T_5deb1_row0_col6\" class=\"data row0 col6\" >0.0000</td>\n    </tr>\n    <tr>\n      <th id=\"T_5deb1_level0_row1\" class=\"row_heading level0 row1\" >1</th>\n      <td id=\"T_5deb1_row1_col0\" class=\"data row1 col0\" >7.0000</td>\n      <td id=\"T_5deb1_row1_col1\" class=\"data row1 col1\" >0.0030</td>\n      <td id=\"T_5deb1_row1_col2\" class=\"data row1 col2\" >0.0030</td>\n      <td id=\"T_5deb1_row1_col3\" class=\"data row1 col3\" >0.0667</td>\n      <td id=\"T_5deb1_row1_col4\" class=\"data row1 col4\" >0.0645</td>\n      <td id=\"T_5deb1_row1_col5\" class=\"data row1 col5\" >0.0000</td>\n      <td id=\"T_5deb1_row1_col6\" class=\"data row1 col6\" >0.0000</td>\n    </tr>\n    <tr>\n      <th id=\"T_5deb1_level0_row2\" class=\"row_heading level0 row2\" >2</th>\n      <td id=\"T_5deb1_row2_col0\" class=\"data row2 col0\" >8.0000</td>\n      <td id=\"T_5deb1_row2_col1\" class=\"data row2 col1\" >0.0060</td>\n      <td id=\"T_5deb1_row2_col2\" class=\"data row2 col2\" >0.0060</td>\n      <td id=\"T_5deb1_row2_col3\" class=\"data row2 col3\" >0.1538</td>\n      <td id=\"T_5deb1_row2_col4\" class=\"data row2 col4\" >0.1429</td>\n      <td id=\"T_5deb1_row2_col5\" class=\"data row2 col5\" >0.0000</td>\n      <td id=\"T_5deb1_row2_col6\" class=\"data row2 col6\" >0.0000</td>\n    </tr>\n    <tr>\n      <th id=\"T_5deb1_level0_row3\" class=\"row_heading level0 row3\" >Mean</th>\n      <td id=\"T_5deb1_row3_col0\" class=\"data row3 col0\" >nan</td>\n      <td id=\"T_5deb1_row3_col1\" class=\"data row3 col1\" >0.0060</td>\n      <td id=\"T_5deb1_row3_col2\" class=\"data row3 col2\" >0.0060</td>\n      <td id=\"T_5deb1_row3_col3\" class=\"data row3 col3\" >0.1360</td>\n      <td id=\"T_5deb1_row3_col4\" class=\"data row3 col4\" >0.1263</td>\n      <td id=\"T_5deb1_row3_col5\" class=\"data row3 col5\" >0.0000</td>\n      <td id=\"T_5deb1_row3_col6\" class=\"data row3 col6\" >0.0000</td>\n    </tr>\n    <tr>\n      <th id=\"T_5deb1_level0_row4\" class=\"row_heading level0 row4\" >SD</th>\n      <td id=\"T_5deb1_row4_col0\" class=\"data row4 col0\" >nan</td>\n      <td id=\"T_5deb1_row4_col1\" class=\"data row4 col1\" >0.0024</td>\n      <td id=\"T_5deb1_row4_col2\" class=\"data row4 col2\" >0.0024</td>\n      <td id=\"T_5deb1_row4_col3\" class=\"data row4 col3\" >0.0509</td>\n      <td id=\"T_5deb1_row4_col4\" class=\"data row4 col4\" >0.0452</td>\n      <td id=\"T_5deb1_row4_col5\" class=\"data row4 col5\" >0.0000</td>\n      <td id=\"T_5deb1_row4_col6\" class=\"data row4 col6\" >0.0000</td>\n    </tr>\n  </tbody>\n</table>\n"
     },
     "metadata": {},
     "output_type": "display_data"
    }
   ],
   "execution_count": 5
  },
  {
   "cell_type": "code",
   "source": "df.to_csv(\"../data/mobility/predict_mobility_austin_US.csv\")",
   "metadata": {
    "cell_id": "cf0901f8bde94b60bcd14e98a2c9b8a8",
    "tags": [],
    "owner_user_id": "c615708d-5eaa-4c61-b12c-0173be8ddd8f",
    "deepnote_to_be_reexecuted": false,
    "source_hash": "4023dd4f",
    "execution_start": 1649893387169,
    "deepnote_cell_type": "code",
    "deepnote_cell_height": 81
   },
   "outputs": [],
   "execution_count": 6
  },
  {
   "cell_type": "markdown",
   "source": "<a style='text-decoration:none;line-height:16px;display:flex;color:#5B5B62;padding:10px;justify-content:end;' href='https://deepnote.com?utm_source=created-in-deepnote-cell&projectId=7e17f706-9d17-4bb3-9510-729a073fe6a4' target=\"_blank\">\n<img alt='Created in deepnote.com' style='display:inline;max-height:16px;margin:0px;margin-right:7.5px;' src='data:image/svg+xml;base64,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' > </img>\nCreated in <span style='font-weight:600;margin-left:4px;'>Deepnote</span></a>",
   "metadata": {
    "tags": [],
    "created_in_deepnote_cell": true,
    "deepnote_cell_type": "markdown"
   }
  }
 ],
 "nbformat": 4,
 "nbformat_minor": 2,
 "metadata": {
  "orig_nbformat": 2,
  "deepnote": {
   "is_reactive": false
  },
  "deepnote_notebook_id": "827136d3-a0c4-45d7-aa3f-f109ca8d4c8b",
  "deepnote_execution_queue": []
 }
}