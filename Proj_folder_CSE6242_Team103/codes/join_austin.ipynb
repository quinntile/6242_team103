{
 "cells": [
  {
   "cell_type": "code",
   "execution_count": null,
   "metadata": {},
   "outputs": [],
   "source": [
    "import pandas as pd\n",
    "import numpy as np\n",
    "import datetime as dt"
   ]
  },
  {
   "cell_type": "code",
   "execution_count": null,
   "metadata": {},
   "outputs": [],
   "source": [
    "austin = pd.read_csv(\"../data/Austin housing market data/austin housing clean.csv\")\n",
    "austin.drop(columns=['Unnamed: 0'], inplace = True)\n",
    "austin.head()"
   ]
  },
  {
   "cell_type": "code",
   "execution_count": null,
   "metadata": {},
   "outputs": [],
   "source": [
    "tx_school = pd.read_csv('../data/Austin housing market data/Texas_zip_school_median.csv')\n",
    "tx_school.head()"
   ]
  },
  {
   "cell_type": "code",
   "execution_count": null,
   "metadata": {},
   "outputs": [],
   "source": [
    "temp = austin.merge(tx_school, how = 'left', left_on='zip_code', right_on='Postal')\n",
    "temp.rename(columns={\"Score\": \"school_rating\"}, inplace=True)\n",
    "#len(austin)"
   ]
  },
  {
   "cell_type": "code",
   "execution_count": null,
   "metadata": {},
   "outputs": [],
   "source": [
    "mortgage = pd.read_csv(\"../data/Data_mortgage_stocks/mortgage_for_austin.csv\")\n",
    "mortgage.head()"
   ]
  },
  {
   "cell_type": "code",
   "execution_count": null,
   "metadata": {},
   "outputs": [],
   "source": [
    "temp2 = temp.merge(mortgage, how = 'left', left_on=\"period_begin\", right_on = \"Year_Month\")\n",
    "temp2.drop(columns=[\"Postal\", \"Year_Month\"], inplace=True)\n",
    "temp2.head()"
   ]
  },
  {
   "cell_type": "code",
   "execution_count": null,
   "metadata": {},
   "outputs": [],
   "source": [
    "DGL = pd.read_csv(\"../data/Data_mortgage_stocks/stock_DGL_for_austin.csv\")\n",
    "temp3 = temp2.merge(DGL, how = \"left\", left_on = \"period_begin\", right_on = \"Date_3Mo\")\n",
    "temp3.drop(columns = [\"Date_3Mo\"], inplace = True)\n",
    "temp3.rename(columns = {\"Close\": \"DGL\"}, inplace=True)\n",
    "temp3.head()\n"
   ]
  },
  {
   "cell_type": "code",
   "execution_count": null,
   "metadata": {},
   "outputs": [],
   "source": [
    "QQQ = pd.read_csv(\"../data/Data_mortgage_stocks/stock_QQQ_for_austin.csv\")\n",
    "QQQ.head()\n",
    "temp4 = temp3.merge(QQQ, how = \"left\", left_on = \"period_begin\", right_on = \"Date_3Mo\")\n",
    "temp4.drop(columns = [\"Date_3Mo\"], inplace = True)\n",
    "temp4.rename(columns = {\"Close\": \"QQQ\"}, inplace=True)\n",
    "temp4.head()"
   ]
  },
  {
   "cell_type": "code",
   "execution_count": null,
   "metadata": {},
   "outputs": [],
   "source": [
    "SPY = pd.read_csv(\"../data/Data_mortgage_stocks/stock_SPY_for_austin.csv\")\n",
    "SPY.head()\n",
    "temp5 = temp4.merge(SPY, how = \"left\", left_on = \"period_begin\", right_on = \"Date_3Mo\")\n",
    "temp5.drop(columns = [\"Date_3Mo\"], inplace = True)\n",
    "temp5.rename(columns = {\"Close\": \"SPY\"}, inplace=True)\n",
    "temp5.head()"
   ]
  },
  {
   "cell_type": "code",
   "execution_count": null,
   "metadata": {},
   "outputs": [],
   "source": [
    "inflation = pd.read_csv(\"../data/InflationRate/US_inflation_rate.csv\")\n",
    "inflation['Date'] = pd.to_datetime(inflation['Date'])\n",
    "inflation = inflation.sort_values(['Date']).reset_index(drop = True)\n",
    "#inflation = inflation.groupby(['Date'])\n",
    "inflation = inflation.groupby(inflation['Date'].dt.to_period('Q'))['Inflation_Rate'].median().to_frame()\n",
    "inflation.reset_index(inplace=True)\n",
    "\n",
    "inflation = inflation.astype({\"Date\": \"str\"})\n",
    "\n",
    "inflation['Date'] = pd.to_datetime(\n",
    "    inflation['Date'].str.replace(r'(\\d+)(Q\\d)', r'\\1\\2'), errors='coerce')\n",
    "inflation = inflation.astype({\"Date\": \"str\"})\n",
    "inflation.head()"
   ]
  },
  {
   "cell_type": "code",
   "execution_count": null,
   "metadata": {},
   "outputs": [],
   "source": [
    "temp6 = temp5.merge(inflation, how = 'left',  left_on = \"period_begin\", right_on = \"Date\")\n",
    "temp6.drop(columns = [\"Date\"],inplace=True)\n",
    "temp6.head()\n",
    "del temp5, temp4, temp3, temp2, temp"
   ]
  },
  {
   "cell_type": "code",
   "execution_count": null,
   "metadata": {},
   "outputs": [],
   "source": [
    "median_income = pd.read_csv(\"../data/median_income/median_income_TX_clean.csv\")\n",
    "temp7 = temp6.merge(median_income, how = \"left\", left_on = [\"zip_code\", \"Year\"], right_on = [\"zipcode\", \"year\"])\n",
    "temp7.drop(columns = ['zipcode', 'year'],inplace = True)\n",
    "temp7.head()"
   ]
  },
  {
   "cell_type": "code",
   "execution_count": null,
   "metadata": {},
   "outputs": [],
   "source": [
    "unemploy_temp = pd.read_csv(\"../data/unemployment_rate/unemployment_austin6counties_clean.csv\")\n",
    "unemploy = pd.melt(unemploy_temp, id_vars = ['Zip Code'], value_vars = [str(i) for i in range(2011,2021)])\n",
    "unemploy = unemploy.astype({\"variable\": \"int64\"})\n",
    "temp8 = temp7.merge(unemploy, how = \"left\", left_on= [\"zip_code\", \"Year\"], right_on= [\"Zip Code\", \"variable\"])\n",
    "del temp7\n",
    "temp8.drop(columns=[\"Zip Code\", \"variable\"], inplace = True)\n",
    "temp8.rename(columns={\"value\": \"Unemployment\"}, inplace = True)\n",
    "temp8.head()"
   ]
  },
  {
   "cell_type": "code",
   "execution_count": null,
   "metadata": {},
   "outputs": [],
   "source": [
    "del unemploy_temp, unemploy\n",
    "mobility_abroad_temp = pd.read_csv(\"../data/mobility/mobility_abroad_austin_clean.csv\")\n",
    "mobility_withincounty_temp = pd.read_csv(\"../data/mobility/mobility_withincounty_austin_clean.csv\")\n",
    "mobility_withinstate_temp = pd.read_csv(\"../data/mobility/mobility_withinstate_austin_clean.csv\")\n",
    "mobility_withUS_temp = pd.read_csv(\"../data/mobility/mobility_withinUS_austin_clean.csv\")\n"
   ]
  },
  {
   "cell_type": "code",
   "execution_count": null,
   "metadata": {},
   "outputs": [],
   "source": [
    "mobility_abroad = pd.melt(mobility_abroad_temp,id_vars = ['Zip Code'], value_vars = [str(i) for i in range(2011,2021)])\n",
    "mobility_abroad = mobility_abroad.astype({\"variable\": \"int64\"})\n",
    "\n",
    "mobility_withincounty = pd.melt(mobility_withincounty_temp,id_vars = ['Zip Code'], value_vars = [str(i) for i in range(2011,2021)])\n",
    "mobility_withincounty = mobility_withincounty.astype({\"variable\": \"int64\"})\n",
    "\n",
    "mobility_withinstate = pd.melt(mobility_withinstate_temp,id_vars = ['Zip Code'], value_vars = [str(i) for i in range(2011,2021)])\n",
    "mobility_withinstate = mobility_withinstate.astype({\"variable\": \"int64\"})\n",
    "\n",
    "mobility_withUS = pd.melt(mobility_withUS_temp,id_vars = ['Zip Code'], value_vars = [str(i) for i in range(2011,2021)])\n",
    "mobility_withUS = mobility_withUS.astype({\"variable\": \"int64\"})\n",
    "\n",
    "temp9 = temp8.merge(mobility_abroad, how = \"left\", left_on= [\"zip_code\", \"Year\"], right_on= [\"Zip Code\", \"variable\"])\n",
    "temp9.drop(columns=[\"Zip Code\", \"variable\"], inplace = True)\n",
    "temp9.rename(columns={\"value\": \"mobility_abroad\"}, inplace = True)\n",
    "\n",
    "temp10 = temp9.merge(mobility_withincounty, how = \"left\", left_on= [\"zip_code\", \"Year\"], right_on= [\"Zip Code\", \"variable\"])\n",
    "temp10.drop(columns=[\"Zip Code\", \"variable\"], inplace = True)\n",
    "temp10.rename(columns={\"value\": \"mobility_withincounty\"}, inplace = True)\n",
    "\n",
    "temp11 = temp10.merge(mobility_withinstate, how = \"left\", left_on= [\"zip_code\", \"Year\"], right_on= [\"Zip Code\", \"variable\"])\n",
    "temp11.drop(columns=[\"Zip Code\", \"variable\"], inplace = True)\n",
    "temp11.rename(columns={\"value\": \"mobility_withinstate\"}, inplace = True)\n",
    "\n",
    "temp12 = temp11.merge(mobility_withUS, how = \"left\", left_on= [\"zip_code\", \"Year\"], right_on= [\"Zip Code\", \"variable\"])\n",
    "temp12.drop(columns=[\"Zip Code\", \"variable\"], inplace = True)\n",
    "temp12.rename(columns={\"value\": \"mobility_withUS\"}, inplace = True)\n",
    "temp12.to_csv(\"../data/Austin housing market data/clean_austin_price_reg_train.csv\")\n",
    "\n"
   ]
  }
 ],
 "metadata": {
  "interpreter": {
   "hash": "02dd80c4b7287f3e16ced86c43aa4adbd2bf8523c6ec7913418dfb2bc69fcf95"
  },
  "kernelspec": {
   "display_name": "Python 3.7.9 64-bit",
   "language": "python",
   "name": "python3"
  },
  "language_info": {
   "codemirror_mode": {
    "name": "ipython",
    "version": 3
   },
   "file_extension": ".py",
   "mimetype": "text/x-python",
   "name": "python",
   "nbconvert_exporter": "python",
   "pygments_lexer": "ipython3",
   "version": "3.7.9"
  },
  "orig_nbformat": 4
 },
 "nbformat": 4,
 "nbformat_minor": 2
}
