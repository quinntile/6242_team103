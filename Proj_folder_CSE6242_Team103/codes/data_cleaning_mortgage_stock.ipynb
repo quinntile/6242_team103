{
 "cells": [
  {
   "cell_type": "code",
   "execution_count": 1,
   "metadata": {},
   "outputs": [],
   "source": [
    "import pandas as pd\n",
    "import numpy as np\n",
    "import datetime as dt"
   ]
  },
  {
   "cell_type": "code",
   "execution_count": 95,
   "metadata": {},
   "outputs": [],
   "source": [
    "def mort_clean_for_king(data):\n",
    "    mort = pd.read_csv(data)\n",
    "    mort.Year_Month = pd.to_datetime(mort.Year_Month)\n",
    "    mort.rename(columns = {'30-Fixed': '30FixedMortgage'}, inplace = True)\n",
    "    mort.iloc[:, :-1].to_csv('mortgage_for_king.csv', index = False)\n",
    "    return (mort)"
   ]
  },
  {
   "cell_type": "code",
   "execution_count": 99,
   "metadata": {},
   "outputs": [],
   "source": [
    "def mort_clean_for_king_and_aus(data):\n",
    "    mort = mort_clean_for_king(data)\n",
    "    mort['30FixedMortgage_3MoMedian'] = mort['30FixedMortgage'].rolling(3).median()[2:]\n",
    "    mort['30FixedMortgage_3MoMedian'] = mort['30FixedMortgage_3MoMedian'].shift(-2)\n",
    "    mort.loc[mort.index % 3 == 0, ['Year_Month', '30FixedMortgage_3MoMedian']].to_csv('mortgage_for_austin.csv', index = False)\n",
    "    return (mort)"
   ]
  },
  {
   "cell_type": "code",
   "execution_count": 100,
   "metadata": {},
   "outputs": [],
   "source": [
    "mort = mort_clean_for_king_and_aus('mortgage_data_v0404.csv')"
   ]
  },
  {
   "cell_type": "code",
   "execution_count": 83,
   "metadata": {},
   "outputs": [],
   "source": [
    "def stock_clean_for_king(data, stock):\n",
    "    df = pd.read_csv(data)\n",
    "    df.Date = pd.to_datetime(df.Date)\n",
    "    df.iloc[:, [0, 4]].to_csv('stock_{}_for_king.csv'.format(stock), index = False)"
   ]
  },
  {
   "cell_type": "code",
   "execution_count": 87,
   "metadata": {},
   "outputs": [],
   "source": [
    "def stock_clean_for_aus(data, stock):\n",
    "    df = pd.read_csv(data)\n",
    "    df.Date = pd.to_datetime(df.Date)\n",
    "    df = df.groupby(df['Date'].dt.to_period('Q'))['Close'].median().to_frame()\n",
    "    mort_date = mort.loc[mort.index % 3 == 0, ['Year_Month']]\n",
    "    df['Date_3Mo'] = mort_date.iloc[:-4, :]['Year_Month'].to_list()\n",
    "    df.reset_index(inplace = True)\n",
    "    df.loc[:, ['Date_3Mo', 'Close']].to_csv('stock_{}_for_austin.csv'.format(stock), index = False)"
   ]
  },
  {
   "cell_type": "code",
   "execution_count": 90,
   "metadata": {},
   "outputs": [],
   "source": [
    "def stock_clean(stock):\n",
    "    stock_clean_for_king('{}_0328.csv'.format(stock), stock)\n",
    "    stock_clean_for_aus('{}_0328.csv'.format(stock), stock)"
   ]
  },
  {
   "cell_type": "code",
   "execution_count": 92,
   "metadata": {},
   "outputs": [],
   "source": [
    "for stock in ['SPY', 'QQQ', 'DGL']:\n",
    "    stock_clean(stock)"
   ]
  },
  {
   "cell_type": "code",
   "execution_count": null,
   "metadata": {},
   "outputs": [],
   "source": []
  }
 ],
 "metadata": {
  "kernelspec": {
   "display_name": "Python 3",
   "language": "python",
   "name": "python3"
  },
  "language_info": {
   "codemirror_mode": {
    "name": "ipython",
    "version": 3
   },
   "file_extension": ".py",
   "mimetype": "text/x-python",
   "name": "python",
   "nbconvert_exporter": "python",
   "pygments_lexer": "ipython3",
   "version": "3.7.6"
  }
 },
 "nbformat": 4,
 "nbformat_minor": 4
}
