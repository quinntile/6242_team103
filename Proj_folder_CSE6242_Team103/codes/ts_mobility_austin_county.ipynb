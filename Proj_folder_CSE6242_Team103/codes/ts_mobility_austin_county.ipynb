{
 "cells": [
  {
   "cell_type": "code",
   "metadata": {
    "tags": [],
    "cell_id": "9880ce75-711c-4f89-b183-4dfb4b717678",
    "deepnote_to_be_reexecuted": false,
    "source_hash": "151fcd65",
    "execution_start": 1649892634685,
    "execution_millis": 42,
    "deepnote_cell_type": "code",
    "deepnote_cell_height": 81
   },
   "source": "#!pip install ipywidgets==7.7.0",
   "execution_count": 1,
   "outputs": []
  },
  {
   "cell_type": "code",
   "source": "#!pip install pycaret==2.3.10",
   "metadata": {
    "cell_id": "c5fb29d0f83b4d4896048b7c866e253b",
    "tags": [],
    "deepnote_to_be_reexecuted": false,
    "source_hash": "78448704",
    "execution_start": 1649892634728,
    "execution_millis": 0,
    "deepnote_cell_type": "code",
    "deepnote_cell_height": 81
   },
   "outputs": [],
   "execution_count": 2
  },
  {
   "cell_type": "code",
   "source": "#!pip install pycaret-ts-alpha",
   "metadata": {
    "cell_id": "36c7f19a5c67491789cbcbb3c3e62dd9",
    "tags": [],
    "deepnote_to_be_reexecuted": false,
    "source_hash": "6baced49",
    "execution_start": 1649892634728,
    "execution_millis": 0,
    "deepnote_cell_type": "code",
    "deepnote_cell_height": 81
   },
   "outputs": [],
   "execution_count": 3
  },
  {
   "cell_type": "code",
   "source": "from pycaret.time_series import *",
   "metadata": {
    "cell_id": "ecb1f136bb18439c94176542805db89d",
    "tags": [],
    "deepnote_to_be_reexecuted": false,
    "source_hash": "469c8c79",
    "execution_start": 1649892634729,
    "execution_millis": 3754,
    "deepnote_cell_type": "code",
    "deepnote_cell_height": 81
   },
   "outputs": [],
   "execution_count": 4
  },
  {
   "cell_type": "code",
   "source": "import pandas as pd",
   "metadata": {
    "cell_id": "5b977c2251a54b34bcfac4feed73f659",
    "tags": [],
    "deepnote_to_be_reexecuted": false,
    "source_hash": "9b82ee11",
    "execution_start": 1649892638492,
    "execution_millis": 44,
    "deepnote_cell_type": "code",
    "deepnote_cell_height": 81
   },
   "outputs": [],
   "execution_count": 5
  },
  {
   "cell_type": "code",
   "source": "df = pd.read_csv(\"/work/6242_team103/Proj_folder_CSE6242_Team103/data/mobility/mobility_withincounty_austin_clean.csv\")",
   "metadata": {
    "cell_id": "49930633b6554454a00434b8578dd788",
    "tags": [],
    "deepnote_to_be_reexecuted": false,
    "source_hash": "1859149d",
    "execution_start": 1649892638537,
    "execution_millis": 0,
    "deepnote_cell_type": "code",
    "deepnote_cell_height": 81
   },
   "outputs": [],
   "execution_count": 6
  },
  {
   "cell_type": "code",
   "source": "df['2011'] = df['2011'].str[:-1].astype(float)/100\ndf['2012'] = df['2012'].str[:-1].astype(float)/100\ndf['2013'] = df['2013'].str[:-1].astype(float)/100\ndf['2014'] = df['2014'].str[:-1].astype(float)/100\ndf['2015'] = df['2015'].str[:-1].astype(float)/100\ndf['2016'] = df['2016'].str[:-1].astype(float)/100\ndf['2017'] = df['2017'].str[:-1].astype(float)/100\ndf['2018'] = df['2018'].str[:-1].astype(float)/100\ndf['2019'] = df['2019'].str[:-1].astype(float)/100\ndf['2020'] = df['2020'].str[:-1].astype(float)/100\ndf.head()",
   "metadata": {
    "cell_id": "8bf5cf92c20a429eb7fbd0c66a9d6f91",
    "tags": [],
    "deepnote_to_be_reexecuted": false,
    "source_hash": "cf26ad4f",
    "execution_start": 1649892638582,
    "execution_millis": 30,
    "deepnote_cell_type": "code",
    "deepnote_cell_height": 590
   },
   "outputs": [
    {
     "output_type": "execute_result",
     "execution_count": 7,
     "data": {
      "application/vnd.deepnote.dataframe.v3+json": {
       "column_count": 11,
       "row_count": 5,
       "columns": [
        {
         "name": "Zip Code",
         "dtype": "int64",
         "stats": {
          "unique_count": 5,
          "nan_count": 0,
          "min": "78602",
          "max": "78621",
          "histogram": [
           {
            "bin_start": 78602,
            "bin_end": 78603.9,
            "count": 1
           },
           {
            "bin_start": 78603.9,
            "bin_end": 78605.8,
            "count": 0
           },
           {
            "bin_start": 78605.8,
            "bin_end": 78607.7,
            "count": 0
           },
           {
            "bin_start": 78607.7,
            "bin_end": 78609.6,
            "count": 0
           },
           {
            "bin_start": 78609.6,
            "bin_end": 78611.5,
            "count": 0
           },
           {
            "bin_start": 78611.5,
            "bin_end": 78613.4,
            "count": 1
           },
           {
            "bin_start": 78613.4,
            "bin_end": 78615.3,
            "count": 0
           },
           {
            "bin_start": 78615.3,
            "bin_end": 78617.2,
            "count": 2
           },
           {
            "bin_start": 78617.2,
            "bin_end": 78619.1,
            "count": 0
           },
           {
            "bin_start": 78619.1,
            "bin_end": 78621,
            "count": 1
           }
          ]
         }
        },
        {
         "name": "2011",
         "dtype": "float64",
         "stats": {
          "unique_count": 5,
          "nan_count": 0,
          "min": "0.011000000000000001",
          "max": "0.122",
          "histogram": [
           {
            "bin_start": 0.011000000000000001,
            "bin_end": 0.0221,
            "count": 1
           },
           {
            "bin_start": 0.0221,
            "bin_end": 0.0332,
            "count": 0
           },
           {
            "bin_start": 0.0332,
            "bin_end": 0.044300000000000006,
            "count": 0
           },
           {
            "bin_start": 0.044300000000000006,
            "bin_end": 0.055400000000000005,
            "count": 0
           },
           {
            "bin_start": 0.055400000000000005,
            "bin_end": 0.0665,
            "count": 2
           },
           {
            "bin_start": 0.0665,
            "bin_end": 0.0776,
            "count": 0
           },
           {
            "bin_start": 0.0776,
            "bin_end": 0.0887,
            "count": 1
           },
           {
            "bin_start": 0.0887,
            "bin_end": 0.0998,
            "count": 0
           },
           {
            "bin_start": 0.0998,
            "bin_end": 0.1109,
            "count": 0
           },
           {
            "bin_start": 0.1109,
            "bin_end": 0.122,
            "count": 1
           }
          ]
         }
        },
        {
         "name": "2012",
         "dtype": "float64",
         "stats": {
          "unique_count": 4,
          "nan_count": 0,
          "min": "0.011000000000000001",
          "max": "0.127",
          "histogram": [
           {
            "bin_start": 0.011000000000000001,
            "bin_end": 0.022600000000000002,
            "count": 1
           },
           {
            "bin_start": 0.022600000000000002,
            "bin_end": 0.0342,
            "count": 0
           },
           {
            "bin_start": 0.0342,
            "bin_end": 0.04580000000000001,
            "count": 0
           },
           {
            "bin_start": 0.04580000000000001,
            "bin_end": 0.05740000000000001,
            "count": 0
           },
           {
            "bin_start": 0.05740000000000001,
            "bin_end": 0.069,
            "count": 2
           },
           {
            "bin_start": 0.069,
            "bin_end": 0.0806,
            "count": 0
           },
           {
            "bin_start": 0.0806,
            "bin_end": 0.0922,
            "count": 1
           },
           {
            "bin_start": 0.0922,
            "bin_end": 0.1038,
            "count": 0
           },
           {
            "bin_start": 0.1038,
            "bin_end": 0.1154,
            "count": 0
           },
           {
            "bin_start": 0.1154,
            "bin_end": 0.127,
            "count": 1
           }
          ]
         }
        },
        {
         "name": "2013",
         "dtype": "float64",
         "stats": {
          "unique_count": 5,
          "nan_count": 0,
          "min": "0.037000000000000005",
          "max": "0.132",
          "histogram": [
           {
            "bin_start": 0.037000000000000005,
            "bin_end": 0.04650000000000001,
            "count": 2
           },
           {
            "bin_start": 0.04650000000000001,
            "bin_end": 0.05600000000000001,
            "count": 1
           },
           {
            "bin_start": 0.05600000000000001,
            "bin_end": 0.0655,
            "count": 0
           },
           {
            "bin_start": 0.0655,
            "bin_end": 0.07500000000000001,
            "count": 1
           },
           {
            "bin_start": 0.07500000000000001,
            "bin_end": 0.0845,
            "count": 0
           },
           {
            "bin_start": 0.0845,
            "bin_end": 0.094,
            "count": 0
           },
           {
            "bin_start": 0.094,
            "bin_end": 0.10350000000000001,
            "count": 0
           },
           {
            "bin_start": 0.10350000000000001,
            "bin_end": 0.113,
            "count": 0
           },
           {
            "bin_start": 0.113,
            "bin_end": 0.1225,
            "count": 0
           },
           {
            "bin_start": 0.1225,
            "bin_end": 0.132,
            "count": 1
           }
          ]
         }
        },
        {
         "name": "2014",
         "dtype": "float64",
         "stats": {
          "unique_count": 5,
          "nan_count": 0,
          "min": "0.034",
          "max": "0.13",
          "histogram": [
           {
            "bin_start": 0.034,
            "bin_end": 0.0436,
            "count": 1
           },
           {
            "bin_start": 0.0436,
            "bin_end": 0.053200000000000004,
            "count": 2
           },
           {
            "bin_start": 0.053200000000000004,
            "bin_end": 0.06280000000000001,
            "count": 0
           },
           {
            "bin_start": 0.06280000000000001,
            "bin_end": 0.0724,
            "count": 0
           },
           {
            "bin_start": 0.0724,
            "bin_end": 0.082,
            "count": 0
           },
           {
            "bin_start": 0.082,
            "bin_end": 0.09160000000000001,
            "count": 1
           },
           {
            "bin_start": 0.09160000000000001,
            "bin_end": 0.10120000000000001,
            "count": 0
           },
           {
            "bin_start": 0.10120000000000001,
            "bin_end": 0.11080000000000001,
            "count": 0
           },
           {
            "bin_start": 0.11080000000000001,
            "bin_end": 0.12040000000000001,
            "count": 0
           },
           {
            "bin_start": 0.12040000000000001,
            "bin_end": 0.13,
            "count": 1
           }
          ]
         }
        },
        {
         "name": "2015",
         "dtype": "float64",
         "stats": {
          "unique_count": 5,
          "nan_count": 0,
          "min": "0.023",
          "max": "0.122",
          "histogram": [
           {
            "bin_start": 0.023,
            "bin_end": 0.0329,
            "count": 1
           },
           {
            "bin_start": 0.0329,
            "bin_end": 0.042800000000000005,
            "count": 2
           },
           {
            "bin_start": 0.042800000000000005,
            "bin_end": 0.052700000000000004,
            "count": 0
           },
           {
            "bin_start": 0.052700000000000004,
            "bin_end": 0.0626,
            "count": 0
           },
           {
            "bin_start": 0.0626,
            "bin_end": 0.07250000000000001,
            "count": 0
           },
           {
            "bin_start": 0.07250000000000001,
            "bin_end": 0.0824,
            "count": 1
           },
           {
            "bin_start": 0.0824,
            "bin_end": 0.0923,
            "count": 0
           },
           {
            "bin_start": 0.0923,
            "bin_end": 0.10220000000000001,
            "count": 0
           },
           {
            "bin_start": 0.10220000000000001,
            "bin_end": 0.1121,
            "count": 0
           },
           {
            "bin_start": 0.1121,
            "bin_end": 0.122,
            "count": 1
           }
          ]
         }
        },
        {
         "name": "2016",
         "dtype": "float64",
         "stats": {
          "unique_count": 5,
          "nan_count": 0,
          "min": "0.026000000000000002",
          "max": "0.102",
          "histogram": [
           {
            "bin_start": 0.026000000000000002,
            "bin_end": 0.0336,
            "count": 3
           },
           {
            "bin_start": 0.0336,
            "bin_end": 0.0412,
            "count": 0
           },
           {
            "bin_start": 0.0412,
            "bin_end": 0.048799999999999996,
            "count": 0
           },
           {
            "bin_start": 0.048799999999999996,
            "bin_end": 0.05639999999999999,
            "count": 0
           },
           {
            "bin_start": 0.05639999999999999,
            "bin_end": 0.064,
            "count": 0
           },
           {
            "bin_start": 0.064,
            "bin_end": 0.0716,
            "count": 0
           },
           {
            "bin_start": 0.0716,
            "bin_end": 0.07919999999999999,
            "count": 1
           },
           {
            "bin_start": 0.07919999999999999,
            "bin_end": 0.08679999999999999,
            "count": 0
           },
           {
            "bin_start": 0.08679999999999999,
            "bin_end": 0.09439999999999998,
            "count": 0
           },
           {
            "bin_start": 0.09439999999999998,
            "bin_end": 0.102,
            "count": 1
           }
          ]
         }
        },
        {
         "name": "2017",
         "dtype": "float64",
         "stats": {
          "unique_count": 5,
          "nan_count": 0,
          "min": "0.018000000000000002",
          "max": "0.08800000000000001",
          "histogram": [
           {
            "bin_start": 0.018000000000000002,
            "bin_end": 0.025,
            "count": 1
           },
           {
            "bin_start": 0.025,
            "bin_end": 0.032,
            "count": 1
           },
           {
            "bin_start": 0.032,
            "bin_end": 0.03900000000000001,
            "count": 0
           },
           {
            "bin_start": 0.03900000000000001,
            "bin_end": 0.046000000000000006,
            "count": 0
           },
           {
            "bin_start": 0.046000000000000006,
            "bin_end": 0.053000000000000005,
            "count": 1
           },
           {
            "bin_start": 0.053000000000000005,
            "bin_end": 0.06000000000000001,
            "count": 0
           },
           {
            "bin_start": 0.06000000000000001,
            "bin_end": 0.067,
            "count": 0
           },
           {
            "bin_start": 0.067,
            "bin_end": 0.07400000000000001,
            "count": 1
           },
           {
            "bin_start": 0.07400000000000001,
            "bin_end": 0.08100000000000002,
            "count": 0
           },
           {
            "bin_start": 0.08100000000000002,
            "bin_end": 0.08800000000000001,
            "count": 1
           }
          ]
         }
        },
        {
         "name": "2018",
         "dtype": "float64",
         "stats": {
          "unique_count": 5,
          "nan_count": 0,
          "min": "0.023",
          "max": "0.1",
          "histogram": [
           {
            "bin_start": 0.023,
            "bin_end": 0.0307,
            "count": 1
           },
           {
            "bin_start": 0.0307,
            "bin_end": 0.038400000000000004,
            "count": 1
           },
           {
            "bin_start": 0.038400000000000004,
            "bin_end": 0.0461,
            "count": 0
           },
           {
            "bin_start": 0.0461,
            "bin_end": 0.0538,
            "count": 1
           },
           {
            "bin_start": 0.0538,
            "bin_end": 0.061500000000000006,
            "count": 0
           },
           {
            "bin_start": 0.061500000000000006,
            "bin_end": 0.06920000000000001,
            "count": 0
           },
           {
            "bin_start": 0.06920000000000001,
            "bin_end": 0.07690000000000001,
            "count": 0
           },
           {
            "bin_start": 0.07690000000000001,
            "bin_end": 0.08460000000000001,
            "count": 1
           },
           {
            "bin_start": 0.08460000000000001,
            "bin_end": 0.09230000000000002,
            "count": 0
           },
           {
            "bin_start": 0.09230000000000002,
            "bin_end": 0.1,
            "count": 1
           }
          ]
         }
        },
        {
         "name": "2019",
         "dtype": "float64",
         "stats": {
          "unique_count": 5,
          "nan_count": 0,
          "min": "0.026000000000000002",
          "max": "0.095",
          "histogram": [
           {
            "bin_start": 0.026000000000000002,
            "bin_end": 0.032900000000000006,
            "count": 1
           },
           {
            "bin_start": 0.032900000000000006,
            "bin_end": 0.0398,
            "count": 0
           },
           {
            "bin_start": 0.0398,
            "bin_end": 0.046700000000000005,
            "count": 0
           },
           {
            "bin_start": 0.046700000000000005,
            "bin_end": 0.05360000000000001,
            "count": 1
           },
           {
            "bin_start": 0.05360000000000001,
            "bin_end": 0.060500000000000005,
            "count": 2
           },
           {
            "bin_start": 0.060500000000000005,
            "bin_end": 0.06740000000000002,
            "count": 0
           },
           {
            "bin_start": 0.06740000000000002,
            "bin_end": 0.0743,
            "count": 0
           },
           {
            "bin_start": 0.0743,
            "bin_end": 0.08120000000000001,
            "count": 0
           },
           {
            "bin_start": 0.08120000000000001,
            "bin_end": 0.08810000000000001,
            "count": 0
           },
           {
            "bin_start": 0.08810000000000001,
            "bin_end": 0.095,
            "count": 1
           }
          ]
         }
        },
        {
         "name": "2020",
         "dtype": "float64",
         "stats": {
          "unique_count": 4,
          "nan_count": 0,
          "min": "0.03",
          "max": "0.10300000000000001",
          "histogram": [
           {
            "bin_start": 0.03,
            "bin_end": 0.0373,
            "count": 1
           },
           {
            "bin_start": 0.0373,
            "bin_end": 0.0446,
            "count": 0
           },
           {
            "bin_start": 0.0446,
            "bin_end": 0.0519,
            "count": 1
           },
           {
            "bin_start": 0.0519,
            "bin_end": 0.0592,
            "count": 2
           },
           {
            "bin_start": 0.0592,
            "bin_end": 0.0665,
            "count": 0
           },
           {
            "bin_start": 0.0665,
            "bin_end": 0.0738,
            "count": 0
           },
           {
            "bin_start": 0.0738,
            "bin_end": 0.0811,
            "count": 0
           },
           {
            "bin_start": 0.0811,
            "bin_end": 0.0884,
            "count": 0
           },
           {
            "bin_start": 0.0884,
            "bin_end": 0.09570000000000001,
            "count": 0
           },
           {
            "bin_start": 0.09570000000000001,
            "bin_end": 0.10300000000000001,
            "count": 1
           }
          ]
         }
        },
        {
         "name": "_deepnote_index_column",
         "dtype": "int64"
        }
       ],
       "rows": [
        {
         "2011": 0.087,
         "2012": 0.08199999999999999,
         "2013": 0.069,
         "2014": 0.08800000000000001,
         "2015": 0.073,
         "2016": 0.077,
         "2017": 0.071,
         "2018": 0.078,
         "2019": 0.057999999999999996,
         "2020": 0.05,
         "Zip Code": 78602,
         "_deepnote_index_column": 0
        },
        {
         "2011": 0.065,
         "2012": 0.063,
         "2013": 0.052000000000000005,
         "2014": 0.045,
         "2015": 0.042,
         "2016": 0.031,
         "2017": 0.049,
         "2018": 0.047,
         "2019": 0.057,
         "2020": 0.054000000000000006,
         "Zip Code": 78612,
         "_deepnote_index_column": 1
        },
        {
         "2011": 0.011000000000000001,
         "2012": 0.011000000000000001,
         "2013": 0.037000000000000005,
         "2014": 0.034,
         "2015": 0.023,
         "2016": 0.026000000000000002,
         "2017": 0.03,
         "2018": 0.023,
         "2019": 0.026000000000000002,
         "2020": 0.03,
         "Zip Code": 78616,
         "_deepnote_index_column": 2
        },
        {
         "2011": 0.122,
         "2012": 0.127,
         "2013": 0.132,
         "2014": 0.13,
         "2015": 0.122,
         "2016": 0.102,
         "2017": 0.08800000000000001,
         "2018": 0.1,
         "2019": 0.095,
         "2020": 0.10300000000000001,
         "Zip Code": 78617,
         "_deepnote_index_column": 3
        },
        {
         "2011": 0.063,
         "2012": 0.063,
         "2013": 0.046,
         "2014": 0.049,
         "2015": 0.039,
         "2016": 0.033,
         "2017": 0.018000000000000002,
         "2018": 0.038,
         "2019": 0.05,
         "2020": 0.054000000000000006,
         "Zip Code": 78621,
         "_deepnote_index_column": 4
        }
       ]
      },
      "text/plain": "   Zip Code   2011   2012   2013   2014   2015   2016   2017   2018   2019  \\\n0     78602  0.087  0.082  0.069  0.088  0.073  0.077  0.071  0.078  0.058   \n1     78612  0.065  0.063  0.052  0.045  0.042  0.031  0.049  0.047  0.057   \n2     78616  0.011  0.011  0.037  0.034  0.023  0.026  0.030  0.023  0.026   \n3     78617  0.122  0.127  0.132  0.130  0.122  0.102  0.088  0.100  0.095   \n4     78621  0.063  0.063  0.046  0.049  0.039  0.033  0.018  0.038  0.050   \n\n    2020  \n0  0.050  \n1  0.054  \n2  0.030  \n3  0.103  \n4  0.054  ",
      "text/html": "<div>\n<style scoped>\n    .dataframe tbody tr th:only-of-type {\n        vertical-align: middle;\n    }\n\n    .dataframe tbody tr th {\n        vertical-align: top;\n    }\n\n    .dataframe thead th {\n        text-align: right;\n    }\n</style>\n<table border=\"1\" class=\"dataframe\">\n  <thead>\n    <tr style=\"text-align: right;\">\n      <th></th>\n      <th>Zip Code</th>\n      <th>2011</th>\n      <th>2012</th>\n      <th>2013</th>\n      <th>2014</th>\n      <th>2015</th>\n      <th>2016</th>\n      <th>2017</th>\n      <th>2018</th>\n      <th>2019</th>\n      <th>2020</th>\n    </tr>\n  </thead>\n  <tbody>\n    <tr>\n      <th>0</th>\n      <td>78602</td>\n      <td>0.087</td>\n      <td>0.082</td>\n      <td>0.069</td>\n      <td>0.088</td>\n      <td>0.073</td>\n      <td>0.077</td>\n      <td>0.071</td>\n      <td>0.078</td>\n      <td>0.058</td>\n      <td>0.050</td>\n    </tr>\n    <tr>\n      <th>1</th>\n      <td>78612</td>\n      <td>0.065</td>\n      <td>0.063</td>\n      <td>0.052</td>\n      <td>0.045</td>\n      <td>0.042</td>\n      <td>0.031</td>\n      <td>0.049</td>\n      <td>0.047</td>\n      <td>0.057</td>\n      <td>0.054</td>\n    </tr>\n    <tr>\n      <th>2</th>\n      <td>78616</td>\n      <td>0.011</td>\n      <td>0.011</td>\n      <td>0.037</td>\n      <td>0.034</td>\n      <td>0.023</td>\n      <td>0.026</td>\n      <td>0.030</td>\n      <td>0.023</td>\n      <td>0.026</td>\n      <td>0.030</td>\n    </tr>\n    <tr>\n      <th>3</th>\n      <td>78617</td>\n      <td>0.122</td>\n      <td>0.127</td>\n      <td>0.132</td>\n      <td>0.130</td>\n      <td>0.122</td>\n      <td>0.102</td>\n      <td>0.088</td>\n      <td>0.100</td>\n      <td>0.095</td>\n      <td>0.103</td>\n    </tr>\n    <tr>\n      <th>4</th>\n      <td>78621</td>\n      <td>0.063</td>\n      <td>0.063</td>\n      <td>0.046</td>\n      <td>0.049</td>\n      <td>0.039</td>\n      <td>0.033</td>\n      <td>0.018</td>\n      <td>0.038</td>\n      <td>0.050</td>\n      <td>0.054</td>\n    </tr>\n  </tbody>\n</table>\n</div>"
     },
     "metadata": {}
    }
   ],
   "execution_count": 7
  },
  {
   "cell_type": "code",
   "source": "#best estimator: naive\n#test zipcode: 78602, 78612, 78616, 78661, 78663\nlist_2021 = []\nlist_2022 = []\nfor i in df['Zip Code']:\n    data = df[df['Zip Code']==i].transpose().reset_index(drop=True)\n    s = setup(data=data, seasonal_period=\"Y\", session_id=123)\n    naive = create_model(\"naive\")\n    list_2021.append(predict_model(naive, fh=2)['y_pred'].iloc[0])\n    list_2022.append(predict_model(naive, fh=2)['y_pred'].iloc[1])\npred_2021 = pd.Series(list_2021, name='2021')\npred_2022 = pd.Series(list_2022, name='2022')\ndf = pd.concat([df, pred_2021, pred_2022], axis=1)",
   "metadata": {
    "cell_id": "e26d531135a44411a1e8511f63c87d54",
    "tags": [],
    "deepnote_to_be_reexecuted": false,
    "source_hash": "6258d8b4",
    "execution_start": 1649892638621,
    "execution_millis": 99225,
    "deepnote_table_state": {
     "pageSize": 25,
     "pageIndex": 0,
     "filters": [],
     "sortBy": []
    },
    "deepnote_table_loading": false,
    "deepnote_cell_type": "code",
    "deepnote_cell_height": 511.796875,
    "deepnote_output_heights": [
     611,
     177,
     611,
     null,
     112
    ]
   },
   "outputs": [
    {
     "output_type": "clearOutput"
    },
    {
     "data": {
      "text/plain": "<pandas.io.formats.style.Styler at 0x7f14bc897fd0>",
      "text/html": "<style type=\"text/css\">\n#T_13da5_row3_col0, #T_13da5_row3_col1, #T_13da5_row3_col2, #T_13da5_row3_col3, #T_13da5_row3_col4, #T_13da5_row3_col5, #T_13da5_row3_col6 {\n  background: yellow;\n}\n</style>\n<table id=\"T_13da5_\">\n  <thead>\n    <tr>\n      <th class=\"blank level0\" >&nbsp;</th>\n      <th class=\"col_heading level0 col0\" >cutoff</th>\n      <th class=\"col_heading level0 col1\" >MAE</th>\n      <th class=\"col_heading level0 col2\" >RMSE</th>\n      <th class=\"col_heading level0 col3\" >MAPE</th>\n      <th class=\"col_heading level0 col4\" >SMAPE</th>\n      <th class=\"col_heading level0 col5\" >MASE</th>\n      <th class=\"col_heading level0 col6\" >RMSSE</th>\n    </tr>\n  </thead>\n  <tbody>\n    <tr>\n      <th id=\"T_13da5_level0_row0\" class=\"row_heading level0 row0\" >0</th>\n      <td id=\"T_13da5_row0_col0\" class=\"data row0 col0\" >6.0000</td>\n      <td id=\"T_13da5_row0_col1\" class=\"data row0 col1\" >0.0270</td>\n      <td id=\"T_13da5_row0_col2\" class=\"data row0 col2\" >0.0270</td>\n      <td id=\"T_13da5_row0_col3\" class=\"data row0 col3\" >0.4821</td>\n      <td id=\"T_13da5_row0_col4\" class=\"data row0 col4\" >0.3885</td>\n      <td id=\"T_13da5_row0_col5\" class=\"data row0 col5\" >0.0000</td>\n      <td id=\"T_13da5_row0_col6\" class=\"data row0 col6\" >0.0000</td>\n    </tr>\n    <tr>\n      <th id=\"T_13da5_level0_row1\" class=\"row_heading level0 row1\" >1</th>\n      <td id=\"T_13da5_row1_col0\" class=\"data row1 col0\" >7.0000</td>\n      <td id=\"T_13da5_row1_col1\" class=\"data row1 col1\" >0.0020</td>\n      <td id=\"T_13da5_row1_col2\" class=\"data row1 col2\" >0.0020</td>\n      <td id=\"T_13da5_row1_col3\" class=\"data row1 col3\" >0.0370</td>\n      <td id=\"T_13da5_row1_col4\" class=\"data row1 col4\" >0.0364</td>\n      <td id=\"T_13da5_row1_col5\" class=\"data row1 col5\" >0.0000</td>\n      <td id=\"T_13da5_row1_col6\" class=\"data row1 col6\" >0.0000</td>\n    </tr>\n    <tr>\n      <th id=\"T_13da5_level0_row2\" class=\"row_heading level0 row2\" >2</th>\n      <td id=\"T_13da5_row2_col0\" class=\"data row2 col0\" >8.0000</td>\n      <td id=\"T_13da5_row2_col1\" class=\"data row2 col1\" >0.0060</td>\n      <td id=\"T_13da5_row2_col2\" class=\"data row2 col2\" >0.0060</td>\n      <td id=\"T_13da5_row2_col3\" class=\"data row2 col3\" >0.1000</td>\n      <td id=\"T_13da5_row2_col4\" class=\"data row2 col4\" >0.1053</td>\n      <td id=\"T_13da5_row2_col5\" class=\"data row2 col5\" >0.0000</td>\n      <td id=\"T_13da5_row2_col6\" class=\"data row2 col6\" >0.0000</td>\n    </tr>\n    <tr>\n      <th id=\"T_13da5_level0_row3\" class=\"row_heading level0 row3\" >Mean</th>\n      <td id=\"T_13da5_row3_col0\" class=\"data row3 col0\" >nan</td>\n      <td id=\"T_13da5_row3_col1\" class=\"data row3 col1\" >0.0117</td>\n      <td id=\"T_13da5_row3_col2\" class=\"data row3 col2\" >0.0117</td>\n      <td id=\"T_13da5_row3_col3\" class=\"data row3 col3\" >0.2064</td>\n      <td id=\"T_13da5_row3_col4\" class=\"data row3 col4\" >0.1767</td>\n      <td id=\"T_13da5_row3_col5\" class=\"data row3 col5\" >0.0000</td>\n      <td id=\"T_13da5_row3_col6\" class=\"data row3 col6\" >0.0000</td>\n    </tr>\n    <tr>\n      <th id=\"T_13da5_level0_row4\" class=\"row_heading level0 row4\" >SD</th>\n      <td id=\"T_13da5_row4_col0\" class=\"data row4 col0\" >nan</td>\n      <td id=\"T_13da5_row4_col1\" class=\"data row4 col1\" >0.0110</td>\n      <td id=\"T_13da5_row4_col2\" class=\"data row4 col2\" >0.0110</td>\n      <td id=\"T_13da5_row4_col3\" class=\"data row4 col3\" >0.1967</td>\n      <td id=\"T_13da5_row4_col4\" class=\"data row4 col4\" >0.1524</td>\n      <td id=\"T_13da5_row4_col5\" class=\"data row4 col5\" >0.0000</td>\n      <td id=\"T_13da5_row4_col6\" class=\"data row4 col6\" >0.0000</td>\n    </tr>\n  </tbody>\n</table>\n"
     },
     "metadata": {},
     "output_type": "display_data"
    }
   ],
   "execution_count": 8
  },
  {
   "cell_type": "code",
   "source": "df.to_csv(\"../data/mobility/predict_mobility_austin_county.csv\")",
   "metadata": {
    "cell_id": "21081a0e855b47e5a317b6a060c7239c",
    "tags": [],
    "deepnote_to_be_reexecuted": false,
    "source_hash": "bced1dc2",
    "execution_start": 1649892737859,
    "execution_millis": 44,
    "owner_user_id": "c615708d-5eaa-4c61-b12c-0173be8ddd8f",
    "deepnote_cell_type": "code",
    "deepnote_cell_height": 81
   },
   "outputs": [],
   "execution_count": 9
  },
  {
   "cell_type": "markdown",
   "source": "<a style='text-decoration:none;line-height:16px;display:flex;color:#5B5B62;padding:10px;justify-content:end;' href='https://deepnote.com?utm_source=created-in-deepnote-cell&projectId=7e17f706-9d17-4bb3-9510-729a073fe6a4' target=\"_blank\">\n<img alt='Created in deepnote.com' style='display:inline;max-height:16px;margin:0px;margin-right:7.5px;' src='data:image/svg+xml;base64,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' > </img>\nCreated in <span style='font-weight:600;margin-left:4px;'>Deepnote</span></a>",
   "metadata": {
    "tags": [],
    "created_in_deepnote_cell": true,
    "deepnote_cell_type": "markdown"
   }
  }
 ],
 "nbformat": 4,
 "nbformat_minor": 2,
 "metadata": {
  "orig_nbformat": 2,
  "deepnote": {
   "is_reactive": false
  },
  "deepnote_notebook_id": "f96c3304-ea86-4e4e-8f40-3d98865783b8",
  "deepnote_execution_queue": []
 }
}