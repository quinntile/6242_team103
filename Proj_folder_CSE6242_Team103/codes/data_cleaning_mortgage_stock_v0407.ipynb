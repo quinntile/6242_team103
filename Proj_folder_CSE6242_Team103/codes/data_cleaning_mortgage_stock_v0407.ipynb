{
 "cells": [
  {
   "cell_type": "code",
   "execution_count": 2,
   "metadata": {},
   "outputs": [],
   "source": [
    "import pandas as pd\n",
    "import numpy as np\n",
    "import datetime as dt"
   ]
  },
  {
   "cell_type": "code",
   "execution_count": 51,
   "metadata": {},
   "outputs": [],
   "source": [
    "dates = pd.date_range(start=\"2012-01-01\",end=\"2022-03-25\").to_frame()\n",
    "dates2 = pd.date_range(start=\"2012-01-01\",end=\"2023-03-31\").to_frame()"
   ]
  },
  {
   "cell_type": "code",
   "execution_count": 52,
   "metadata": {},
   "outputs": [],
   "source": [
    "def mort_clean_for_king(data):\n",
    "    mort = pd.read_csv(data)\n",
    "    mort.Year_Month = pd.to_datetime(mort.Year_Month)\n",
    "    mort.rename(columns = {'30-Fixed': '30FixedMortgage'}, inplace = True)\n",
    "    mort.iloc[:, :-1].to_csv('mortgage_for_king.csv', index = False)\n",
    "    return (mort)"
   ]
  },
  {
   "cell_type": "code",
   "execution_count": 53,
   "metadata": {},
   "outputs": [],
   "source": [
    "def mort_clean_for_king_and_aus(data):\n",
    "    mort = mort_clean_for_king(data)\n",
    "    mort['30FixedMortgage_3MoMedian'] = mort['30FixedMortgage'].rolling(3).median()[2:]\n",
    "    mort['30FixedMortgage_3MoMedian'] = mort['30FixedMortgage_3MoMedian'].shift(-2)\n",
    "    mort.loc[mort.index % 3 == 0, ['Year_Month', '30FixedMortgage_3MoMedian']].to_csv('mortgage_for_austin.csv', index = False)\n",
    "    return (mort)"
   ]
  },
  {
   "cell_type": "code",
   "execution_count": 54,
   "metadata": {},
   "outputs": [],
   "source": [
    "mort = mort_clean_for_king_and_aus('mortgage_data_v0404.csv')"
   ]
  },
  {
   "cell_type": "code",
   "execution_count": 57,
   "metadata": {},
   "outputs": [],
   "source": [
    "def mort_clean_for_king_fulldate(data):\n",
    "    df_mort = pd.merge(mort, dates2, how = \"right\", left_on = 'Year_Month', right_on = 0)\n",
    "    df_mort.sort_values(by = ['Year_Month'], inplace = True)\n",
    "    df_mort = df_mort.iloc[:, [0, 1]]\n",
    "    df_mort['30FixedMortgage'] = df_mort['30FixedMortgage'].ffill()\n",
    "    df_mort.to_csv('mortgage_for_king.csv', index = False)"
   ]
  },
  {
   "cell_type": "code",
   "execution_count": 58,
   "metadata": {},
   "outputs": [],
   "source": [
    "mort_clean_for_king_fulldate(mort)"
   ]
  },
  {
   "cell_type": "code",
   "execution_count": 67,
   "metadata": {},
   "outputs": [],
   "source": [
    "def stock_clean_for_king(data, stock):\n",
    "    df = pd.read_csv(data)\n",
    "    df.Date = pd.to_datetime(df.Date)\n",
    "    df_new = pd.merge(df, dates, how = \"right\", left_on = 'Date', right_on = 0)\n",
    "    df_new.sort_values(by = ['Date'], inplace = True)\n",
    "    df_new.reset_index(inplace = True)\n",
    "    df_new = df_new.iloc[:, [1, 5]]\n",
    "    df_new['Close'] = df_new['Close'].ffill()\n",
    "    df_new['Close'] = df_new['Close'].bfill()\n",
    "    df_new.to_csv('stock_{}_for_king.csv'.format(stock), index = False)"
   ]
  },
  {
   "cell_type": "code",
   "execution_count": 68,
   "metadata": {},
   "outputs": [],
   "source": [
    "def stock_clean_for_aus(data, stock):\n",
    "    df = pd.read_csv(data)\n",
    "    df.Date = pd.to_datetime(df.Date)\n",
    "    df = df.groupby(df['Date'].dt.to_period('Q'))['Close'].median().to_frame()\n",
    "    mort_date = mort.loc[mort.index % 3 == 0, ['Year_Month']]\n",
    "    df['Date_3Mo'] = mort_date.iloc[:-4, :]['Year_Month'].to_list()\n",
    "    df.reset_index(inplace = True)\n",
    "    df.loc[:, ['Date_3Mo', 'Close']].to_csv('stock_{}_for_austin.csv'.format(stock), index = False)"
   ]
  },
  {
   "cell_type": "code",
   "execution_count": 69,
   "metadata": {},
   "outputs": [],
   "source": [
    "def stock_clean(stock):\n",
    "    stock_clean_for_king('{}_0328.csv'.format(stock), stock)\n",
    "    stock_clean_for_aus('{}_0328.csv'.format(stock), stock)"
   ]
  },
  {
   "cell_type": "code",
   "execution_count": 70,
   "metadata": {},
   "outputs": [],
   "source": [
    "for stock in ['SPY', 'QQQ', 'DGL']:\n",
    "    stock_clean(stock)"
   ]
  },
  {
   "cell_type": "code",
   "execution_count": null,
   "metadata": {},
   "outputs": [],
   "source": []
  }
 ],
 "metadata": {
  "kernelspec": {
   "display_name": "Python 3",
   "language": "python",
   "name": "python3"
  },
  "language_info": {
   "codemirror_mode": {
    "name": "ipython",
    "version": 3
   },
   "file_extension": ".py",
   "mimetype": "text/x-python",
   "name": "python",
   "nbconvert_exporter": "python",
   "pygments_lexer": "ipython3",
   "version": "3.7.6"
  }
 },
 "nbformat": 4,
 "nbformat_minor": 4
}
