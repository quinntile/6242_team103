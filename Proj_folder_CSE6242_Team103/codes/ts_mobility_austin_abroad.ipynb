{
 "cells": [
  {
   "cell_type": "code",
   "metadata": {
    "tags": [],
    "deepnote_to_be_reexecuted": false,
    "source_hash": "469c8c79",
    "execution_start": 1649894342436,
    "execution_millis": 3353,
    "cell_id": "5f5ffec4-d7e3-43a7-ac4e-e8be3cb3a61c",
    "deepnote_cell_type": "code",
    "deepnote_cell_height": 81
   },
   "source": "from pycaret.time_series import *",
   "execution_count": 1,
   "outputs": []
  },
  {
   "cell_type": "code",
   "metadata": {
    "tags": [],
    "deepnote_to_be_reexecuted": false,
    "source_hash": "9b82ee11",
    "execution_start": 1649894345797,
    "execution_millis": 5,
    "cell_id": "00001-5240f9e3-adef-4f79-b854-3c852ec3d09d",
    "deepnote_cell_type": "code",
    "deepnote_cell_height": 81
   },
   "source": "import pandas as pd",
   "execution_count": 2,
   "outputs": []
  },
  {
   "cell_type": "code",
   "metadata": {
    "tags": [],
    "deepnote_to_be_reexecuted": false,
    "source_hash": "9f0c6020",
    "execution_start": 1649894345816,
    "execution_millis": 7,
    "cell_id": "00002-f9654c71-3f53-4f2a-bf98-ddab40e21233",
    "deepnote_cell_type": "code",
    "deepnote_cell_height": 81
   },
   "source": "df = pd.read_csv(\"/work/6242_team103/Proj_folder_CSE6242_Team103/data/mobility/mobility_abroad_austin_clean.csv\")",
   "execution_count": 3,
   "outputs": []
  },
  {
   "cell_type": "code",
   "metadata": {
    "tags": [],
    "deepnote_to_be_reexecuted": false,
    "source_hash": "cf26ad4f",
    "execution_start": 1649894345855,
    "execution_millis": 63,
    "cell_id": "00003-3c599025-07da-4c81-b049-f34ba7ef233a",
    "deepnote_cell_type": "code",
    "deepnote_cell_height": 590
   },
   "source": "df['2011'] = df['2011'].str[:-1].astype(float)/100\ndf['2012'] = df['2012'].str[:-1].astype(float)/100\ndf['2013'] = df['2013'].str[:-1].astype(float)/100\ndf['2014'] = df['2014'].str[:-1].astype(float)/100\ndf['2015'] = df['2015'].str[:-1].astype(float)/100\ndf['2016'] = df['2016'].str[:-1].astype(float)/100\ndf['2017'] = df['2017'].str[:-1].astype(float)/100\ndf['2018'] = df['2018'].str[:-1].astype(float)/100\ndf['2019'] = df['2019'].str[:-1].astype(float)/100\ndf['2020'] = df['2020'].str[:-1].astype(float)/100\ndf.head()",
   "execution_count": 4,
   "outputs": [
    {
     "output_type": "execute_result",
     "execution_count": 4,
     "data": {
      "application/vnd.deepnote.dataframe.v3+json": {
       "column_count": 11,
       "row_count": 5,
       "columns": [
        {
         "name": "Zip Code",
         "dtype": "int64",
         "stats": {
          "unique_count": 5,
          "nan_count": 0,
          "min": "78602",
          "max": "78621",
          "histogram": [
           {
            "bin_start": 78602,
            "bin_end": 78603.9,
            "count": 1
           },
           {
            "bin_start": 78603.9,
            "bin_end": 78605.8,
            "count": 0
           },
           {
            "bin_start": 78605.8,
            "bin_end": 78607.7,
            "count": 0
           },
           {
            "bin_start": 78607.7,
            "bin_end": 78609.6,
            "count": 0
           },
           {
            "bin_start": 78609.6,
            "bin_end": 78611.5,
            "count": 0
           },
           {
            "bin_start": 78611.5,
            "bin_end": 78613.4,
            "count": 1
           },
           {
            "bin_start": 78613.4,
            "bin_end": 78615.3,
            "count": 0
           },
           {
            "bin_start": 78615.3,
            "bin_end": 78617.2,
            "count": 2
           },
           {
            "bin_start": 78617.2,
            "bin_end": 78619.1,
            "count": 0
           },
           {
            "bin_start": 78619.1,
            "bin_end": 78621,
            "count": 1
           }
          ]
         }
        },
        {
         "name": "2011",
         "dtype": "float64",
         "stats": {
          "unique_count": 4,
          "nan_count": 0,
          "min": "0.0",
          "max": "0.004",
          "histogram": [
           {
            "bin_start": 0,
            "bin_end": 0.0004,
            "count": 2
           },
           {
            "bin_start": 0.0004,
            "bin_end": 0.0008,
            "count": 0
           },
           {
            "bin_start": 0.0008,
            "bin_end": 0.0012000000000000001,
            "count": 1
           },
           {
            "bin_start": 0.0012000000000000001,
            "bin_end": 0.0016,
            "count": 0
           },
           {
            "bin_start": 0.0016,
            "bin_end": 0.002,
            "count": 0
           },
           {
            "bin_start": 0.002,
            "bin_end": 0.0024000000000000002,
            "count": 0
           },
           {
            "bin_start": 0.0024000000000000002,
            "bin_end": 0.0028,
            "count": 0
           },
           {
            "bin_start": 0.0028,
            "bin_end": 0.0032,
            "count": 1
           },
           {
            "bin_start": 0.0032,
            "bin_end": 0.0036000000000000003,
            "count": 0
           },
           {
            "bin_start": 0.0036000000000000003,
            "bin_end": 0.004,
            "count": 1
           }
          ]
         }
        },
        {
         "name": "2012",
         "dtype": "float64",
         "stats": {
          "unique_count": 3,
          "nan_count": 0,
          "min": "0.0",
          "max": "0.006",
          "histogram": [
           {
            "bin_start": 0,
            "bin_end": 0.0006000000000000001,
            "count": 2
           },
           {
            "bin_start": 0.0006000000000000001,
            "bin_end": 0.0012000000000000001,
            "count": 0
           },
           {
            "bin_start": 0.0012000000000000001,
            "bin_end": 0.0018000000000000002,
            "count": 0
           },
           {
            "bin_start": 0.0018000000000000002,
            "bin_end": 0.0024000000000000002,
            "count": 0
           },
           {
            "bin_start": 0.0024000000000000002,
            "bin_end": 0.003,
            "count": 0
           },
           {
            "bin_start": 0.003,
            "bin_end": 0.0036000000000000003,
            "count": 2
           },
           {
            "bin_start": 0.0036000000000000003,
            "bin_end": 0.004200000000000001,
            "count": 0
           },
           {
            "bin_start": 0.004200000000000001,
            "bin_end": 0.0048000000000000004,
            "count": 0
           },
           {
            "bin_start": 0.0048000000000000004,
            "bin_end": 0.0054,
            "count": 0
           },
           {
            "bin_start": 0.0054,
            "bin_end": 0.006,
            "count": 1
           }
          ]
         }
        },
        {
         "name": "2013",
         "dtype": "float64",
         "stats": {
          "unique_count": 3,
          "nan_count": 0,
          "min": "0.0",
          "max": "0.006",
          "histogram": [
           {
            "bin_start": 0,
            "bin_end": 0.0006000000000000001,
            "count": 2
           },
           {
            "bin_start": 0.0006000000000000001,
            "bin_end": 0.0012000000000000001,
            "count": 0
           },
           {
            "bin_start": 0.0012000000000000001,
            "bin_end": 0.0018000000000000002,
            "count": 0
           },
           {
            "bin_start": 0.0018000000000000002,
            "bin_end": 0.0024000000000000002,
            "count": 2
           },
           {
            "bin_start": 0.0024000000000000002,
            "bin_end": 0.003,
            "count": 0
           },
           {
            "bin_start": 0.003,
            "bin_end": 0.0036000000000000003,
            "count": 0
           },
           {
            "bin_start": 0.0036000000000000003,
            "bin_end": 0.004200000000000001,
            "count": 0
           },
           {
            "bin_start": 0.004200000000000001,
            "bin_end": 0.0048000000000000004,
            "count": 0
           },
           {
            "bin_start": 0.0048000000000000004,
            "bin_end": 0.0054,
            "count": 0
           },
           {
            "bin_start": 0.0054,
            "bin_end": 0.006,
            "count": 1
           }
          ]
         }
        },
        {
         "name": "2014",
         "dtype": "float64",
         "stats": {
          "unique_count": 5,
          "nan_count": 0,
          "min": "0.0",
          "max": "0.012",
          "histogram": [
           {
            "bin_start": 0,
            "bin_end": 0.0012000000000000001,
            "count": 2
           },
           {
            "bin_start": 0.0012000000000000001,
            "bin_end": 0.0024000000000000002,
            "count": 1
           },
           {
            "bin_start": 0.0024000000000000002,
            "bin_end": 0.0036000000000000003,
            "count": 0
           },
           {
            "bin_start": 0.0036000000000000003,
            "bin_end": 0.0048000000000000004,
            "count": 0
           },
           {
            "bin_start": 0.0048000000000000004,
            "bin_end": 0.006,
            "count": 1
           },
           {
            "bin_start": 0.006,
            "bin_end": 0.007200000000000001,
            "count": 0
           },
           {
            "bin_start": 0.007200000000000001,
            "bin_end": 0.008400000000000001,
            "count": 0
           },
           {
            "bin_start": 0.008400000000000001,
            "bin_end": 0.009600000000000001,
            "count": 0
           },
           {
            "bin_start": 0.009600000000000001,
            "bin_end": 0.0108,
            "count": 0
           },
           {
            "bin_start": 0.0108,
            "bin_end": 0.012,
            "count": 1
           }
          ]
         }
        },
        {
         "name": "2015",
         "dtype": "float64",
         "stats": {
          "unique_count": 4,
          "nan_count": 0,
          "min": "0.0",
          "max": "0.016",
          "histogram": [
           {
            "bin_start": 0,
            "bin_end": 0.0016,
            "count": 1
           },
           {
            "bin_start": 0.0016,
            "bin_end": 0.0032,
            "count": 2
           },
           {
            "bin_start": 0.0032,
            "bin_end": 0.0048000000000000004,
            "count": 0
           },
           {
            "bin_start": 0.0048000000000000004,
            "bin_end": 0.0064,
            "count": 1
           },
           {
            "bin_start": 0.0064,
            "bin_end": 0.008,
            "count": 0
           },
           {
            "bin_start": 0.008,
            "bin_end": 0.009600000000000001,
            "count": 0
           },
           {
            "bin_start": 0.009600000000000001,
            "bin_end": 0.0112,
            "count": 0
           },
           {
            "bin_start": 0.0112,
            "bin_end": 0.0128,
            "count": 0
           },
           {
            "bin_start": 0.0128,
            "bin_end": 0.014400000000000001,
            "count": 0
           },
           {
            "bin_start": 0.014400000000000001,
            "bin_end": 0.016,
            "count": 1
           }
          ]
         }
        },
        {
         "name": "2016",
         "dtype": "float64",
         "stats": {
          "unique_count": 3,
          "nan_count": 0,
          "min": "0.003",
          "max": "0.015",
          "histogram": [
           {
            "bin_start": 0.003,
            "bin_end": 0.004200000000000001,
            "count": 3
           },
           {
            "bin_start": 0.004200000000000001,
            "bin_end": 0.0054,
            "count": 0
           },
           {
            "bin_start": 0.0054,
            "bin_end": 0.0066,
            "count": 0
           },
           {
            "bin_start": 0.0066,
            "bin_end": 0.0078000000000000005,
            "count": 0
           },
           {
            "bin_start": 0.0078000000000000005,
            "bin_end": 0.009000000000000001,
            "count": 0
           },
           {
            "bin_start": 0.009000000000000001,
            "bin_end": 0.0102,
            "count": 0
           },
           {
            "bin_start": 0.0102,
            "bin_end": 0.0114,
            "count": 1
           },
           {
            "bin_start": 0.0114,
            "bin_end": 0.0126,
            "count": 0
           },
           {
            "bin_start": 0.0126,
            "bin_end": 0.0138,
            "count": 0
           },
           {
            "bin_start": 0.0138,
            "bin_end": 0.015,
            "count": 1
           }
          ]
         }
        },
        {
         "name": "2017",
         "dtype": "float64",
         "stats": {
          "unique_count": 4,
          "nan_count": 0,
          "min": "0.001",
          "max": "0.013999999999999999",
          "histogram": [
           {
            "bin_start": 0.001,
            "bin_end": 0.0023,
            "count": 2
           },
           {
            "bin_start": 0.0023,
            "bin_end": 0.0035999999999999995,
            "count": 1
           },
           {
            "bin_start": 0.0035999999999999995,
            "bin_end": 0.004899999999999999,
            "count": 0
           },
           {
            "bin_start": 0.004899999999999999,
            "bin_end": 0.006199999999999999,
            "count": 0
           },
           {
            "bin_start": 0.006199999999999999,
            "bin_end": 0.007499999999999999,
            "count": 0
           },
           {
            "bin_start": 0.007499999999999999,
            "bin_end": 0.008799999999999999,
            "count": 1
           },
           {
            "bin_start": 0.008799999999999999,
            "bin_end": 0.010099999999999998,
            "count": 0
           },
           {
            "bin_start": 0.010099999999999998,
            "bin_end": 0.011399999999999997,
            "count": 0
           },
           {
            "bin_start": 0.011399999999999997,
            "bin_end": 0.012699999999999996,
            "count": 0
           },
           {
            "bin_start": 0.012699999999999996,
            "bin_end": 0.013999999999999999,
            "count": 1
           }
          ]
         }
        },
        {
         "name": "2018",
         "dtype": "float64",
         "stats": {
          "unique_count": 3,
          "nan_count": 0,
          "min": "0.001",
          "max": "0.018000000000000002",
          "histogram": [
           {
            "bin_start": 0.001,
            "bin_end": 0.0027,
            "count": 2
           },
           {
            "bin_start": 0.0027,
            "bin_end": 0.0044,
            "count": 2
           },
           {
            "bin_start": 0.0044,
            "bin_end": 0.0061,
            "count": 0
           },
           {
            "bin_start": 0.0061,
            "bin_end": 0.0078000000000000005,
            "count": 0
           },
           {
            "bin_start": 0.0078000000000000005,
            "bin_end": 0.009500000000000001,
            "count": 0
           },
           {
            "bin_start": 0.009500000000000001,
            "bin_end": 0.011200000000000002,
            "count": 0
           },
           {
            "bin_start": 0.011200000000000002,
            "bin_end": 0.012900000000000002,
            "count": 0
           },
           {
            "bin_start": 0.012900000000000002,
            "bin_end": 0.014600000000000002,
            "count": 0
           },
           {
            "bin_start": 0.014600000000000002,
            "bin_end": 0.016300000000000002,
            "count": 0
           },
           {
            "bin_start": 0.016300000000000002,
            "bin_end": 0.018000000000000002,
            "count": 1
           }
          ]
         }
        },
        {
         "name": "2019",
         "dtype": "float64",
         "stats": {
          "unique_count": 4,
          "nan_count": 0,
          "min": "0.0",
          "max": "0.022000000000000002",
          "histogram": [
           {
            "bin_start": 0,
            "bin_end": 0.0022,
            "count": 3
           },
           {
            "bin_start": 0.0022,
            "bin_end": 0.0044,
            "count": 1
           },
           {
            "bin_start": 0.0044,
            "bin_end": 0.0066,
            "count": 0
           },
           {
            "bin_start": 0.0066,
            "bin_end": 0.0088,
            "count": 0
           },
           {
            "bin_start": 0.0088,
            "bin_end": 0.011000000000000001,
            "count": 0
           },
           {
            "bin_start": 0.011000000000000001,
            "bin_end": 0.0132,
            "count": 0
           },
           {
            "bin_start": 0.0132,
            "bin_end": 0.0154,
            "count": 0
           },
           {
            "bin_start": 0.0154,
            "bin_end": 0.0176,
            "count": 0
           },
           {
            "bin_start": 0.0176,
            "bin_end": 0.0198,
            "count": 0
           },
           {
            "bin_start": 0.0198,
            "bin_end": 0.022000000000000002,
            "count": 1
           }
          ]
         }
        },
        {
         "name": "2020",
         "dtype": "float64",
         "stats": {
          "unique_count": 4,
          "nan_count": 0,
          "min": "0.0",
          "max": "0.018000000000000002",
          "histogram": [
           {
            "bin_start": 0,
            "bin_end": 0.0018000000000000002,
            "count": 3
           },
           {
            "bin_start": 0.0018000000000000002,
            "bin_end": 0.0036000000000000003,
            "count": 1
           },
           {
            "bin_start": 0.0036000000000000003,
            "bin_end": 0.0054,
            "count": 0
           },
           {
            "bin_start": 0.0054,
            "bin_end": 0.007200000000000001,
            "count": 0
           },
           {
            "bin_start": 0.007200000000000001,
            "bin_end": 0.009000000000000001,
            "count": 0
           },
           {
            "bin_start": 0.009000000000000001,
            "bin_end": 0.0108,
            "count": 0
           },
           {
            "bin_start": 0.0108,
            "bin_end": 0.012600000000000002,
            "count": 0
           },
           {
            "bin_start": 0.012600000000000002,
            "bin_end": 0.014400000000000001,
            "count": 0
           },
           {
            "bin_start": 0.014400000000000001,
            "bin_end": 0.016200000000000003,
            "count": 0
           },
           {
            "bin_start": 0.016200000000000003,
            "bin_end": 0.018000000000000002,
            "count": 1
           }
          ]
         }
        },
        {
         "name": "_deepnote_index_column",
         "dtype": "int64"
        }
       ],
       "rows": [
        {
         "2011": 0.003,
         "2012": 0.003,
         "2013": 0.002,
         "2014": 0.001,
         "2015": 0.002,
         "2016": 0.003,
         "2017": 0.003,
         "2018": 0.003,
         "2019": 0.004,
         "2020": 0.001,
         "Zip Code": 78602,
         "_deepnote_index_column": 0
        },
        {
         "2011": 0,
         "2012": 0,
         "2013": 0,
         "2014": 0.012,
         "2015": 0.016,
         "2016": 0.011000000000000001,
         "2017": 0.008,
         "2018": 0.003,
         "2019": 0,
         "2020": 0,
         "Zip Code": 78612,
         "_deepnote_index_column": 1
        },
        {
         "2011": 0,
         "2012": 0,
         "2013": 0,
         "2014": 0,
         "2015": 0,
         "2016": 0.015,
         "2017": 0.013999999999999999,
         "2018": 0.018000000000000002,
         "2019": 0.022000000000000002,
         "2020": 0.018000000000000002,
         "Zip Code": 78616,
         "_deepnote_index_column": 2
        },
        {
         "2011": 0.004,
         "2012": 0.006,
         "2013": 0.006,
         "2014": 0.005,
         "2015": 0.005,
         "2016": 0.003,
         "2017": 0.001,
         "2018": 0.001,
         "2019": 0.001,
         "2020": 0.002,
         "Zip Code": 78617,
         "_deepnote_index_column": 3
        },
        {
         "2011": 0.001,
         "2012": 0.003,
         "2013": 0.002,
         "2014": 0.002,
         "2015": 0.002,
         "2016": 0.003,
         "2017": 0.001,
         "2018": 0.001,
         "2019": 0.001,
         "2020": 0,
         "Zip Code": 78621,
         "_deepnote_index_column": 4
        }
       ]
      },
      "text/plain": "   Zip Code   2011   2012   2013   2014   2015   2016   2017   2018   2019  \\\n0     78602  0.003  0.003  0.002  0.001  0.002  0.003  0.003  0.003  0.004   \n1     78612  0.000  0.000  0.000  0.012  0.016  0.011  0.008  0.003  0.000   \n2     78616  0.000  0.000  0.000  0.000  0.000  0.015  0.014  0.018  0.022   \n3     78617  0.004  0.006  0.006  0.005  0.005  0.003  0.001  0.001  0.001   \n4     78621  0.001  0.003  0.002  0.002  0.002  0.003  0.001  0.001  0.001   \n\n    2020  \n0  0.001  \n1  0.000  \n2  0.018  \n3  0.002  \n4  0.000  ",
      "text/html": "<div>\n<style scoped>\n    .dataframe tbody tr th:only-of-type {\n        vertical-align: middle;\n    }\n\n    .dataframe tbody tr th {\n        vertical-align: top;\n    }\n\n    .dataframe thead th {\n        text-align: right;\n    }\n</style>\n<table border=\"1\" class=\"dataframe\">\n  <thead>\n    <tr style=\"text-align: right;\">\n      <th></th>\n      <th>Zip Code</th>\n      <th>2011</th>\n      <th>2012</th>\n      <th>2013</th>\n      <th>2014</th>\n      <th>2015</th>\n      <th>2016</th>\n      <th>2017</th>\n      <th>2018</th>\n      <th>2019</th>\n      <th>2020</th>\n    </tr>\n  </thead>\n  <tbody>\n    <tr>\n      <th>0</th>\n      <td>78602</td>\n      <td>0.003</td>\n      <td>0.003</td>\n      <td>0.002</td>\n      <td>0.001</td>\n      <td>0.002</td>\n      <td>0.003</td>\n      <td>0.003</td>\n      <td>0.003</td>\n      <td>0.004</td>\n      <td>0.001</td>\n    </tr>\n    <tr>\n      <th>1</th>\n      <td>78612</td>\n      <td>0.000</td>\n      <td>0.000</td>\n      <td>0.000</td>\n      <td>0.012</td>\n      <td>0.016</td>\n      <td>0.011</td>\n      <td>0.008</td>\n      <td>0.003</td>\n      <td>0.000</td>\n      <td>0.000</td>\n    </tr>\n    <tr>\n      <th>2</th>\n      <td>78616</td>\n      <td>0.000</td>\n      <td>0.000</td>\n      <td>0.000</td>\n      <td>0.000</td>\n      <td>0.000</td>\n      <td>0.015</td>\n      <td>0.014</td>\n      <td>0.018</td>\n      <td>0.022</td>\n      <td>0.018</td>\n    </tr>\n    <tr>\n      <th>3</th>\n      <td>78617</td>\n      <td>0.004</td>\n      <td>0.006</td>\n      <td>0.006</td>\n      <td>0.005</td>\n      <td>0.005</td>\n      <td>0.003</td>\n      <td>0.001</td>\n      <td>0.001</td>\n      <td>0.001</td>\n      <td>0.002</td>\n    </tr>\n    <tr>\n      <th>4</th>\n      <td>78621</td>\n      <td>0.001</td>\n      <td>0.003</td>\n      <td>0.002</td>\n      <td>0.002</td>\n      <td>0.002</td>\n      <td>0.003</td>\n      <td>0.001</td>\n      <td>0.001</td>\n      <td>0.001</td>\n      <td>0.000</td>\n    </tr>\n  </tbody>\n</table>\n</div>"
     },
     "metadata": {}
    }
   ]
  },
  {
   "cell_type": "code",
   "metadata": {
    "tags": [],
    "deepnote_to_be_reexecuted": false,
    "source_hash": "1bc6f6ab",
    "execution_start": 1649894345936,
    "execution_millis": 115232,
    "cell_id": "00004-7224c170-2e06-4297-b0aa-4a42b29addd5",
    "deepnote_cell_type": "code",
    "deepnote_cell_height": 1462,
    "deepnote_output_heights": [
     611,
     177,
     611,
     null,
     112
    ]
   },
   "source": "list_2021 = []\nlist_2022 = []\nfor i in df['Zip Code']:\n    data = df[df['Zip Code']==i].transpose().reset_index(drop=True)\n    s = setup(data=data, seasonal_period=\"Y\", session_id=123)\n    naive = create_model(\"naive\")\n    list_2021.append(predict_model(naive, fh=2)['y_pred'].iloc[0])\n    list_2022.append(predict_model(naive, fh=2)['y_pred'].iloc[1])\npred_2021 = pd.Series(list_2021, name='2021')\npred_2022 = pd.Series(list_2022, name='2022')\ndf = pd.concat([df, pred_2021, pred_2022], axis=1)",
   "execution_count": 5,
   "outputs": [
    {
     "output_type": "clearOutput"
    },
    {
     "data": {
      "text/plain": "<pandas.io.formats.style.Styler at 0x7fec28712210>",
      "text/html": "<style type=\"text/css\">\n#T_659b8_row3_col0, #T_659b8_row3_col1, #T_659b8_row3_col2, #T_659b8_row3_col3, #T_659b8_row3_col4, #T_659b8_row3_col5, #T_659b8_row3_col6 {\n  background: yellow;\n}\n</style>\n<table id=\"T_659b8_\">\n  <thead>\n    <tr>\n      <th class=\"blank level0\" >&nbsp;</th>\n      <th class=\"col_heading level0 col0\" >cutoff</th>\n      <th class=\"col_heading level0 col1\" >MAE</th>\n      <th class=\"col_heading level0 col2\" >RMSE</th>\n      <th class=\"col_heading level0 col3\" >MAPE</th>\n      <th class=\"col_heading level0 col4\" >SMAPE</th>\n      <th class=\"col_heading level0 col5\" >MASE</th>\n      <th class=\"col_heading level0 col6\" >RMSSE</th>\n    </tr>\n  </thead>\n  <tbody>\n    <tr>\n      <th id=\"T_659b8_level0_row0\" class=\"row_heading level0 row0\" >0</th>\n      <td id=\"T_659b8_row0_col0\" class=\"data row0 col0\" >6.0000</td>\n      <td id=\"T_659b8_row0_col1\" class=\"data row0 col1\" >0.0020</td>\n      <td id=\"T_659b8_row0_col2\" class=\"data row0 col2\" >0.0020</td>\n      <td id=\"T_659b8_row0_col3\" class=\"data row0 col3\" >0.2000</td>\n      <td id=\"T_659b8_row0_col4\" class=\"data row0 col4\" >0.1818</td>\n      <td id=\"T_659b8_row0_col5\" class=\"data row0 col5\" >0.0000</td>\n      <td id=\"T_659b8_row0_col6\" class=\"data row0 col6\" >0.0000</td>\n    </tr>\n    <tr>\n      <th id=\"T_659b8_level0_row1\" class=\"row_heading level0 row1\" >1</th>\n      <td id=\"T_659b8_row1_col0\" class=\"data row1 col0\" >7.0000</td>\n      <td id=\"T_659b8_row1_col1\" class=\"data row1 col1\" >0.0050</td>\n      <td id=\"T_659b8_row1_col2\" class=\"data row1 col2\" >0.0050</td>\n      <td id=\"T_659b8_row1_col3\" class=\"data row1 col3\" >1.0000</td>\n      <td id=\"T_659b8_row1_col4\" class=\"data row1 col4\" >0.6667</td>\n      <td id=\"T_659b8_row1_col5\" class=\"data row1 col5\" >0.0000</td>\n      <td id=\"T_659b8_row1_col6\" class=\"data row1 col6\" >0.0000</td>\n    </tr>\n    <tr>\n      <th id=\"T_659b8_level0_row2\" class=\"row_heading level0 row2\" >2</th>\n      <td id=\"T_659b8_row2_col0\" class=\"data row2 col0\" >8.0000</td>\n      <td id=\"T_659b8_row2_col1\" class=\"data row2 col1\" >0.0070</td>\n      <td id=\"T_659b8_row2_col2\" class=\"data row2 col2\" >0.0070</td>\n      <td id=\"T_659b8_row2_col3\" class=\"data row2 col3\" >0.5833</td>\n      <td id=\"T_659b8_row2_col4\" class=\"data row2 col4\" >0.8235</td>\n      <td id=\"T_659b8_row2_col5\" class=\"data row2 col5\" >0.0000</td>\n      <td id=\"T_659b8_row2_col6\" class=\"data row2 col6\" >0.0000</td>\n    </tr>\n    <tr>\n      <th id=\"T_659b8_level0_row3\" class=\"row_heading level0 row3\" >Mean</th>\n      <td id=\"T_659b8_row3_col0\" class=\"data row3 col0\" >nan</td>\n      <td id=\"T_659b8_row3_col1\" class=\"data row3 col1\" >0.0047</td>\n      <td id=\"T_659b8_row3_col2\" class=\"data row3 col2\" >0.0047</td>\n      <td id=\"T_659b8_row3_col3\" class=\"data row3 col3\" >0.5944</td>\n      <td id=\"T_659b8_row3_col4\" class=\"data row3 col4\" >0.5573</td>\n      <td id=\"T_659b8_row3_col5\" class=\"data row3 col5\" >0.0000</td>\n      <td id=\"T_659b8_row3_col6\" class=\"data row3 col6\" >0.0000</td>\n    </tr>\n    <tr>\n      <th id=\"T_659b8_level0_row4\" class=\"row_heading level0 row4\" >SD</th>\n      <td id=\"T_659b8_row4_col0\" class=\"data row4 col0\" >nan</td>\n      <td id=\"T_659b8_row4_col1\" class=\"data row4 col1\" >0.0021</td>\n      <td id=\"T_659b8_row4_col2\" class=\"data row4 col2\" >0.0021</td>\n      <td id=\"T_659b8_row4_col3\" class=\"data row4 col3\" >0.3267</td>\n      <td id=\"T_659b8_row4_col4\" class=\"data row4 col4\" >0.2731</td>\n      <td id=\"T_659b8_row4_col5\" class=\"data row4 col5\" >0.0000</td>\n      <td id=\"T_659b8_row4_col6\" class=\"data row4 col6\" >0.0000</td>\n    </tr>\n  </tbody>\n</table>\n"
     },
     "metadata": {},
     "output_type": "display_data"
    }
   ]
  },
  {
   "cell_type": "code",
   "metadata": {
    "tags": [],
    "deepnote_to_be_reexecuted": false,
    "source_hash": "e4d2f27a",
    "execution_start": 1649894461168,
    "cell_id": "00005-3a669def-ea68-4968-907f-774eaf1fba1a",
    "execution_millis": 1,
    "owner_user_id": "c615708d-5eaa-4c61-b12c-0173be8ddd8f",
    "deepnote_cell_type": "code",
    "deepnote_cell_height": 81
   },
   "source": "df.to_csv(\"../data/mobility/predict_mobility_austin_abroad.csv\")",
   "execution_count": 6,
   "outputs": []
  },
  {
   "cell_type": "markdown",
   "source": "<a style='text-decoration:none;line-height:16px;display:flex;color:#5B5B62;padding:10px;justify-content:end;' href='https://deepnote.com?utm_source=created-in-deepnote-cell&projectId=7e17f706-9d17-4bb3-9510-729a073fe6a4' target=\"_blank\">\n<img alt='Created in deepnote.com' style='display:inline;max-height:16px;margin:0px;margin-right:7.5px;' src='data:image/svg+xml;base64,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' > </img>\nCreated in <span style='font-weight:600;margin-left:4px;'>Deepnote</span></a>",
   "metadata": {
    "tags": [],
    "created_in_deepnote_cell": true,
    "deepnote_cell_type": "markdown"
   }
  }
 ],
 "nbformat": 4,
 "nbformat_minor": 2,
 "metadata": {
  "orig_nbformat": 2,
  "deepnote": {
   "is_reactive": false
  },
  "deepnote_notebook_id": "f36d57d8-5265-4cfc-a22d-565aa4ed25bc",
  "deepnote_execution_queue": []
 }
}